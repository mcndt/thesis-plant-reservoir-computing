{
 "cells": [
  {
   "cell_type": "markdown",
   "metadata": {},
   "source": [
    "## RC Demo experimental design\n",
    "\n",
    "iterate upon the methods for plant RC experiments and focus on techniques for scaling to larger datasets.\n",
    "\n",
    "- Just a replica of Olivier’s experiment\n",
    "- Extend to larger datasets of multiple experiments"
   ]
  },
  {
   "cell_type": "code",
   "execution_count": null,
   "metadata": {},
   "outputs": [],
   "source": []
  }
 ],
 "metadata": {
  "language_info": {
   "name": "python"
  },
  "orig_nbformat": 4
 },
 "nbformat": 4,
 "nbformat_minor": 2
}
