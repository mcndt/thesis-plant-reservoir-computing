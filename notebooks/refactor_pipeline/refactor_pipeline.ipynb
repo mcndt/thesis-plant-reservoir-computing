{
 "cells": [
  {
   "cell_type": "code",
   "execution_count": 1,
   "metadata": {},
   "outputs": [],
   "source": [
    "import pandas as pd\n",
    "import numpy as np\n",
    "\n",
    "from matplotlib import pyplot as plt\n",
    "sys.path.insert(1, os.path.join(sys.path[0], '../../'))  # for importing local packages from src\n",
    "\n",
    "%reload_ext autoreload\n",
    "%autoreload 2 "
   ]
  },
  {
   "cell_type": "markdown",
   "metadata": {},
   "source": [
    "### Loading datasets"
   ]
  },
  {
   "cell_type": "code",
   "execution_count": 2,
   "metadata": {},
   "outputs": [],
   "source": [
    "DATASET_NEMA_H0 = '../datasets/dataset_NEMA_NEMA_H0.csv'\n",
    "DATASET_NEMA_H3 = '../datasets/dataset_NEMA_NEMA_H3.csv'\n",
    "DATASET_NEMA_H15 = '../datasets/dataset_NEMA_NEMA_H15.csv'"
   ]
  },
  {
   "cell_type": "code",
   "execution_count": 11,
   "metadata": {},
   "outputs": [],
   "source": [
    "from src.model.rc_dataset import ExperimentDataset\n",
    "\n",
    "\n",
    "dataset_nema_h0 = ExperimentDataset(csv_path=DATASET_NEMA_H0)\n",
    "dataset_nema_h3 = ExperimentDataset(csv_path=DATASET_NEMA_H3)\n",
    "dataset_nema_h15 = ExperimentDataset(csv_path=DATASET_NEMA_H15)\n",
    "\n",
    "datasets = [dataset_nema_h0, dataset_nema_h3, dataset_nema_h15]"
   ]
  },
  {
   "cell_type": "markdown",
   "metadata": {},
   "source": [
    "### Target generator"
   ]
  },
  {
   "cell_type": "code",
   "execution_count": 44,
   "metadata": {},
   "outputs": [],
   "source": [
    "from typing import List\n",
    "from model_config import max_time_step\n",
    "\n",
    "\n",
    "class TargetGenerator:\n",
    "  \"\"\"Transforms a dataset or list of datasets into a single target.\"\"\"\n",
    "\n",
    "  def __init__(self, *, target: str):\n",
    "    self.target = target\n",
    "\n",
    "  def transform(self, datasets: List[ExperimentDataset], *, warmup_days: int) -> np.ndarray:\n",
    "    y = np.empty((1, 0))\n",
    "\n",
    "    for dataset in datasets:\n",
    "      assert self.target in dataset.get_targets(), f\"{self.target} not available in dataset.\"\n",
    "      run_id = dataset.get_run_ids()[0]\n",
    "      y_dataset = dataset.get_target(self.target, run_id).to_numpy()\n",
    "      y_dataset = y_dataset[:max_time_step[run_id]]\n",
    "      y_dataset = y_dataset[24 * warmup_days:]\n",
    "      y_dataset = y_dataset.reshape((1, -1))\n",
    "      y = np.concatenate((y, y_dataset), axis=1)\n",
    "\n",
    "    return y"
   ]
  },
  {
   "cell_type": "code",
   "execution_count": 45,
   "metadata": {},
   "outputs": [
    {
     "name": "stdout",
     "output_type": "stream",
     "text": [
      "y_raw shape: (1, 2136)\n"
     ]
    }
   ],
   "source": [
    "from model_config import targets\n",
    "\n",
    "target_generator = TargetGenerator(target=targets[0])\n",
    "y_raw = target_generator.transform(datasets, warmup_days=4)\n",
    "\n",
    "print(f'y_raw shape: {y_raw.shape}')"
   ]
  },
  {
   "cell_type": "markdown",
   "metadata": {},
   "source": [
    "### Reservoir generators"
   ]
  },
  {
   "cell_type": "code",
   "execution_count": 46,
   "metadata": {},
   "outputs": [],
   "source": [
    "from abc import ABC, abstractmethod\n",
    "\n",
    "class ReservoirGenerator(ABC):\n",
    "\n",
    "  @abstractmethod\n",
    "  def transform(self, datasets: List[ExperimentDataset], *, warmup_days: int) -> np.ndarray:\n",
    "    pass"
   ]
  },
  {
   "cell_type": "markdown",
   "metadata": {},
   "source": [
    "#### Homogeneous reservoirs"
   ]
  },
  {
   "cell_type": "code",
   "execution_count": 73,
   "metadata": {},
   "outputs": [],
   "source": [
    "class HomogeneousReservoirGenerator(ReservoirGenerator):\n",
    "\n",
    "  def __init__(self, *, state_var: str):\n",
    "    self.state_var = state_var\n",
    "\n",
    "  def transform(self, datasets: List[ExperimentDataset], *, warmup_days: int) -> np.ndarray:\n",
    "    X = None\n",
    "\n",
    "    for dataset in datasets:\n",
    "      assert (self.state_var in dataset.get_state_variables()), f\"{self.state_var} not available in dataset.\"\n",
    "      run_id = dataset.get_run_ids()[0]\n",
    "      X_dataset = dataset.get_state(self.state_var, run_id)\n",
    "      X_dataset = X_dataset[:max_time_step[run_id]]\n",
    "      X_dataset = X_dataset[24 * warmup_days:]\n",
    "\n",
    "      # Filter out NaN and zero series\n",
    "      X_NaN = np.isnan(X_dataset)\n",
    "      NaN_idx = np.any(X_NaN, axis=0)\n",
    "      X_null = np.isclose(X_dataset, 0)\n",
    "      null_idx = np.all(X_null, axis=0)\n",
    "      X_dataset = X_dataset[:, ~NaN_idx & ~null_idx]\n",
    "\n",
    "      X_dataset = X_dataset.reshape(1, *X_dataset.shape)\n",
    "\n",
    "      if X is None:\n",
    "        X = X_dataset\n",
    "      else:\n",
    "        X = np.concatenate((X, X_dataset), axis=1)\n",
    "\n",
    "    return X"
   ]
  },
  {
   "cell_type": "code",
   "execution_count": 74,
   "metadata": {},
   "outputs": [
    {
     "name": "stdout",
     "output_type": "stream",
     "text": [
      "X_raw shape: (1, 2136, 10)\n"
     ]
    }
   ],
   "source": [
    "from model_config import state_variables\n",
    "\n",
    "reservoir_generator = HomogeneousReservoirGenerator(state_var=state_variables[2])\n",
    "X_raw = reservoir_generator.transform(datasets, warmup_days=4)\n",
    "\n",
    "print(f'X_raw shape: {X_raw.shape}')"
   ]
  },
  {
   "cell_type": "markdown",
   "metadata": {},
   "source": [
    "#### Heterogeneous reservoirs"
   ]
  },
  {
   "cell_type": "code",
   "execution_count": 85,
   "metadata": {},
   "outputs": [],
   "source": [
    "class HeterogeneousReservoirGenerator(ReservoirGenerator):\n",
    "\n",
    "  def __init__(self, *, state_vars: List[str]):\n",
    "    self.state_vars = state_vars\n",
    "\n",
    "  def transform(self, datasets: List[ExperimentDataset], *, warmup_days: int) -> np.ndarray:\n",
    "    X = None\n",
    "    for state_var in self.state_vars:\n",
    "      reservoir_generator = HomogeneousReservoirGenerator(state_var=state_var)\n",
    "      X_raw_var = reservoir_generator.transform(datasets, warmup_days=warmup_days)\n",
    "      if X is None:\n",
    "        X = X_raw_var\n",
    "      else:\n",
    "        X = np.concatenate((X, X_raw_var), axis=2)\n",
    "    return X"
   ]
  },
  {
   "cell_type": "code",
   "execution_count": 86,
   "metadata": {},
   "outputs": [
    {
     "name": "stdout",
     "output_type": "stream",
     "text": [
      "X_raw shape: (1, 2136, 122)\n"
     ]
    }
   ],
   "source": [
    "reservoir_generator = HeterogeneousReservoirGenerator(state_vars=state_variables)\n",
    "X_raw = reservoir_generator.transform(datasets, warmup_days=4)\n",
    "\n",
    "print(f'X_raw shape: {X_raw.shape}')"
   ]
  },
  {
   "cell_type": "markdown",
   "metadata": {},
   "source": [
    "#### Environment baseline reservoirs"
   ]
  },
  {
   "cell_type": "code",
   "execution_count": 88,
   "metadata": {},
   "outputs": [],
   "source": [
    "class TargetReservoirGenerator(ReservoirGenerator):\n",
    "\n",
    "  def __init__(self, *, targets: List[str]):\n",
    "    self.targets = targets\n",
    "\n",
    "  def transform(self, datasets: List[ExperimentDataset], *, warmup_days: int) -> np.ndarray:\n",
    "    X = None\n",
    "    for target in self.targets:\n",
    "      target_generator = TargetGenerator(target=target)\n",
    "      X_raw_target = target_generator.transform(datasets, warmup_days=warmup_days)\n",
    "      X_raw_target = X_raw_target.reshape((*X_raw_target.shape, 1))\n",
    "      if X is None:\n",
    "        X = X_raw_target\n",
    "      else:\n",
    "        X = np.concatenate((X, X_raw_target), axis=2)\n",
    "    return X"
   ]
  },
  {
   "cell_type": "code",
   "execution_count": 106,
   "metadata": {},
   "outputs": [
    {
     "name": "stdout",
     "output_type": "stream",
     "text": [
      "X_raw shape: (1, 2136, 3)\n"
     ]
    }
   ],
   "source": [
    "from model_config import input_targets\n",
    "\n",
    "reservoir_generator = TargetReservoirGenerator(targets=input_targets)\n",
    "X_raw = reservoir_generator.transform(datasets, warmup_days=4)\n",
    "\n",
    "print(f'X_raw shape: {X_raw.shape}')"
   ]
  },
  {
   "cell_type": "markdown",
   "metadata": {},
   "source": [
    "### Group generator"
   ]
  },
  {
   "cell_type": "code",
   "execution_count": 125,
   "metadata": {},
   "outputs": [],
   "source": [
    "class GroupGenerator:\n",
    "\n",
    "  def __init__(self, *, day_length: int):\n",
    "    self.day_length = day_length\n",
    "\n",
    "  def transform(self, datasets: List[ExperimentDataset], *, warmup_days: int) -> np.ndarray:\n",
    "    groups = np.empty((1, 0))\n",
    "    for dataset in datasets:\n",
    "      groups_dataset = self._dataset_group_by_day(dataset, warmup_days)\n",
    "      groups = np.concatenate((groups, groups_dataset), axis=1)\n",
    "    return groups\n",
    "\n",
    "  def _dataset_group_by_day(self, dataset: ExperimentDataset, warmup_days: int):\n",
    "    run_id = dataset.get_run_ids()[0]\n",
    "    n_steps = max_time_step[run_id] - self.day_length * warmup_days\n",
    "    assert n_steps % self.day_length == 0, \"Datasets must have a multiple of day length time samples.\"\n",
    "    n_groups = n_steps // self.day_length\n",
    "    groups = np.arange(n_groups).repeat(self.day_length)\n",
    "    groups = groups.reshape((1, -1))\n",
    "    return groups\n",
    "   "
   ]
  },
  {
   "cell_type": "code",
   "execution_count": 145,
   "metadata": {},
   "outputs": [
    {
     "name": "stdout",
     "output_type": "stream",
     "text": [
      "Groups_raw shape: (1, 2136)\n",
      "Unique groups: 33\n",
      "[0. 1. 2. 3. 4. 5. 6.]\n"
     ]
    }
   ],
   "source": [
    "group_generator = GroupGenerator(day_length=24)\n",
    "\n",
    "groups_raw = group_generator.transform(datasets, warmup_days=4)\n",
    "\n",
    "print(f'Groups_raw shape: {groups_raw.shape}')\n",
    "print(f'Unique groups: {len(np.unique(groups_raw))}')\n",
    "print(groups_raw[0, 0:7*24:24])"
   ]
  },
  {
   "cell_type": "markdown",
   "metadata": {},
   "source": [
    "### Target transformers"
   ]
  },
  {
   "cell_type": "code",
   "execution_count": 146,
   "metadata": {},
   "outputs": [],
   "source": [
    "class TargetTransformer(ABC):\n",
    "\n",
    "  @abstractmethod\n",
    "  def transform(self, y_raw: np.ndarray) -> np.ndarray:\n",
    "    pass"
   ]
  },
  {
   "cell_type": "markdown",
   "metadata": {},
   "source": [
    "#### Direct target (no transform)"
   ]
  },
  {
   "cell_type": "code",
   "execution_count": 147,
   "metadata": {},
   "outputs": [],
   "source": [
    "class DirectTarget(TargetTransformer):\n",
    "\n",
    "  def transform(self, y_raw: np.ndarray) -> np.ndarray:\n",
    "    return y_raw"
   ]
  },
  {
   "cell_type": "code",
   "execution_count": 148,
   "metadata": {},
   "outputs": [
    {
     "name": "stdout",
     "output_type": "stream",
     "text": [
      "(1, 2136)\n"
     ]
    }
   ],
   "source": [
    "target_tf = DirectTarget()\n",
    "y_tf = target_tf.transform(y_raw)\n",
    "\n",
    "print(y_tf.shape)"
   ]
  },
  {
   "cell_type": "markdown",
   "metadata": {},
   "source": [
    "### Reservoir transformers"
   ]
  },
  {
   "cell_type": "code",
   "execution_count": 149,
   "metadata": {},
   "outputs": [],
   "source": [
    "class ReservoirTransformer(ABC):\n",
    "\n",
    "  @abstractmethod\n",
    "  def transform(self, X_raw: np.ndarray) -> np.ndarray:\n",
    "    pass"
   ]
  },
  {
   "cell_type": "markdown",
   "metadata": {},
   "source": [
    "#### Direct reservoir (no transform)"
   ]
  },
  {
   "cell_type": "code",
   "execution_count": 150,
   "metadata": {},
   "outputs": [],
   "source": [
    "class DirectReservoir(ReservoirTransformer):\n",
    "\n",
    "  def transform(self, X_raw: np.ndarray) -> np.ndarray:\n",
    "    return X_raw"
   ]
  },
  {
   "cell_type": "code",
   "execution_count": 151,
   "metadata": {},
   "outputs": [
    {
     "name": "stdout",
     "output_type": "stream",
     "text": [
      "(1, 2136, 3)\n"
     ]
    }
   ],
   "source": [
    "reservoir_tf = DirectReservoir()\n",
    "X_tf = reservoir_tf.transform(X_raw)\n",
    "\n",
    "print(X_tf.shape)"
   ]
  },
  {
   "cell_type": "markdown",
   "metadata": {},
   "source": [
    "### Flatten data"
   ]
  },
  {
   "cell_type": "code",
   "execution_count": 157,
   "metadata": {},
   "outputs": [],
   "source": [
    "from typing import Tuple\n",
    "\n",
    "def flatten(X_tf, y_tf, groups) -> Tuple[np.ndarray, np.ndarray, np.ndarray]:\n",
    "  assert X_tf.shape[:2] == y_tf.shape == groups.shape\n",
    "  _, n_samples, n_features = X_tf.shape\n",
    "  X = X_tf.reshape((-1, n_features))\n",
    "  y = y_tf.reshape((n_samples))\n",
    "  groups = groups.reshape((n_samples))\n",
    "  return X, y, groups"
   ]
  },
  {
   "cell_type": "code",
   "execution_count": 176,
   "metadata": {},
   "outputs": [
    {
     "name": "stdout",
     "output_type": "stream",
     "text": [
      "(2136, 3)\n",
      "(2136,)\n",
      "(2136,)\n"
     ]
    }
   ],
   "source": [
    "X, y, groups = flatten(X_tf, y_tf, groups_raw)\n",
    "\n",
    "print(X.shape)\n",
    "print(y.shape)\n",
    "print(groups.shape)"
   ]
  },
  {
   "cell_type": "markdown",
   "metadata": {},
   "source": [
    "### Data preprocessors"
   ]
  },
  {
   "cell_type": "code",
   "execution_count": 162,
   "metadata": {},
   "outputs": [],
   "source": [
    "\n",
    "class Preprocessor(ABC):\n",
    "\n",
    "  @abstractmethod\n",
    "  def transform(self, X, y, groups) -> Tuple[np.ndarray, np.ndarray, np.ndarray]:\n",
    "    return X, y, groups"
   ]
  },
  {
   "cell_type": "markdown",
   "metadata": {},
   "source": [
    "#### Daylight masking"
   ]
  },
  {
   "cell_type": "code",
   "execution_count": 180,
   "metadata": {},
   "outputs": [],
   "source": [
    "from src.learning.preprocessing import generate_mask\n",
    "\n",
    "class DaylightMask(Preprocessor):\n",
    "\n",
    "  def __init__(self, *, day_length: int, start: int, end: int):\n",
    "    self.daylight_mask = generate_mask(start, end, length=day_length)\n",
    "\n",
    "  def transform(self, X, y, groups) -> Tuple[np.ndarray, np.ndarray, np.ndarray]:\n",
    "    assert len(X) == len(y) == len(groups)\n",
    "    n_days = X.shape[0] // len(self.daylight_mask)\n",
    "    time_mask = np.tile(self.daylight_mask, n_days)\n",
    "    X = X[time_mask]\n",
    "    y = y[time_mask]\n",
    "    groups = groups[time_mask]\n",
    "    return X, y, groups"
   ]
  },
  {
   "cell_type": "code",
   "execution_count": 181,
   "metadata": {},
   "outputs": [
    {
     "name": "stdout",
     "output_type": "stream",
     "text": [
      "(1424, 3) (1424,) (1424,)\n"
     ]
    }
   ],
   "source": [
    "day_mask_tf = DaylightMask(day_length=24, start=5, end=21)\n",
    "X_day, y_day, groups_day = day_mask_tf.transform(X, y, groups)\n",
    "\n",
    "print(X_day.shape, y_day.shape, groups_day.shape)"
   ]
  },
  {
   "cell_type": "markdown",
   "metadata": {},
   "source": [
    "#### Rescaling"
   ]
  },
  {
   "cell_type": "code",
   "execution_count": 164,
   "metadata": {},
   "outputs": [],
   "source": [
    "class StandardScaler(Preprocessor):\n",
    "\n",
    "  def transform(self, X, y, groups) -> Tuple[np.ndarray, np.ndarray, np.ndarray]:\n",
    "    X = (X - X.mean()) / X.std()\n",
    "    y = (y - y.mean()) / y.std()\n",
    "    return X, y, groups"
   ]
  },
  {
   "cell_type": "code",
   "execution_count": 185,
   "metadata": {},
   "outputs": [
    {
     "data": {
      "image/png": "[encoded data removed]",
      "text/plain": [
       "<Figure size 432x288 with 1 Axes>"
      ]
     },
     "metadata": {
      "needs_background": "light"
     },
     "output_type": "display_data"
    },
    {
     "data": {
      "image/png": "[encoded data removed]",
      "text/plain": [
       "<Figure size 432x288 with 1 Axes>"
      ]
     },
     "metadata": {
      "needs_background": "light"
     },
     "output_type": "display_data"
    }
   ],
   "source": [
    "plt.plot(X[:200])\n",
    "plt.show()\n",
    "\n",
    "scaler_tf = StandardScaler()\n",
    "X_scaled, _, _ = scaler_tf.transform(X, y, groups)\n",
    "\n",
    "plt.plot(X_scaled[:200])\n",
    "plt.show()"
   ]
  },
  {
   "cell_type": "code",
   "execution_count": null,
   "metadata": {},
   "outputs": [],
   "source": []
  }
 ],
 "metadata": {
  "interpreter": {
   "hash": "4121734fd62df77af0346899b5494e4291ab6203437ffd47de4eeaba662aa73c"
  },
  "kernelspec": {
   "display_name": "Python 3.9.7 ('rc-plants')",
   "language": "python",
   "name": "python3"
  },
  "language_info": {
   "codemirror_mode": {
    "name": "ipython",
    "version": 3
   },
   "file_extension": ".py",
   "mimetype": "text/x-python",
   "name": "python",
   "nbconvert_exporter": "python",
   "pygments_lexer": "ipython3",
   "version": "3.9.7"
  },
  "orig_nbformat": 4
 },
 "nbformat": 4,
 "nbformat_minor": 2
}
