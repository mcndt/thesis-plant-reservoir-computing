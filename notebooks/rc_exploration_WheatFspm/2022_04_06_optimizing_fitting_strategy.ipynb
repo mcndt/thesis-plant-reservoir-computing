{
 "cells": [
  {
   "cell_type": "markdown",
   "metadata": {},
   "source": [
    "# Multirun experiment pipeline (WheatFspm)\n",
    "\n",
    "The following notebook establishes a generalized pipeline for evaluating a computing reservoir against a given task, given multiple experimental runs of the same reservoir.\n"
   ]
  },
  {
   "cell_type": "code",
   "execution_count": 1,
   "metadata": {},
   "outputs": [],
   "source": [
    "import pandas as pd\n",
    "import numpy as np\n",
    "\n",
    "from matplotlib import pyplot as plt\n",
    "sys.path.insert(1, os.path.join(sys.path[0], '../../'))  # for importing local packages from src"
   ]
  },
  {
   "cell_type": "code",
   "execution_count": 2,
   "metadata": {},
   "outputs": [],
   "source": [
    "DATASET_NEMA_H0 = '../datasets/dataset_NEMA_NEMA_H0.csv'\n",
    "DATASET_NEMA_H3 = '../datasets/dataset_NEMA_NEMA_H3.csv'\n",
    "DATASET_NEMA_H15 = '../datasets/dataset_NEMA_NEMA_H15.csv'"
   ]
  },
  {
   "cell_type": "markdown",
   "metadata": {},
   "source": [
    "### Loading the datasets\n",
    "\n",
    "These datasets were collected and converted in the WheatFspm repository.\n",
    "\n",
    "There are three simulations made available in the WheatFspm repository that are useable for RC experiments: NEMA H0, H3 and H15.\n",
    "\n",
    "We can try using these datasets in two different ways:\n",
    "\n",
    "1. Treat every dataset as a separate plant, training a readout for each simulation run.\n",
    "2. Concatenating the three datasets as observed behavior of a single plant."
   ]
  },
  {
   "cell_type": "code",
   "execution_count": 3,
   "metadata": {},
   "outputs": [],
   "source": [
    "from src.model.rc_dataset import ExperimentDataset\n",
    "\n",
    "dataset_nema_h0 = ExperimentDataset(csv_path=DATASET_NEMA_H0)\n",
    "dataset_nema_h3 = ExperimentDataset(csv_path=DATASET_NEMA_H3)\n",
    "dataset_nema_h15 = ExperimentDataset(csv_path=DATASET_NEMA_H15)\n",
    "\n",
    "datasets = [\n",
    "  ('NEMA_H0', dataset_nema_h0), \n",
    "  ('NEMA_H3', dataset_nema_h3), \n",
    "  ('NEMA_H15', dataset_nema_h15)\n",
    "]"
   ]
  },
  {
   "cell_type": "markdown",
   "metadata": {},
   "source": [
    "### Defining targets and observed state variables\n",
    "\n",
    "These were selected in a previous notebook, `2022_03_23_wheatfspm_dataset_inspection.ipynb` and are defined in a config file for reuse among notebooks."
   ]
  },
  {
   "cell_type": "code",
   "execution_count": 4,
   "metadata": {},
   "outputs": [
    {
     "name": "stdout",
     "output_type": "stream",
     "text": [
      "Targets:\n",
      "\t- input_air_temperature\n",
      "\t- input_humidity\n",
      "\t- input_PARi\n",
      "\t- output__axes__Total_Transpiration\n",
      "\t- output__axes__C_exudated\n",
      "\t- output__axes__SAM_temperature\n",
      "\t- output__axes__delta_teq\n",
      "\t- output__axes__sum_respi_shoot\n",
      "\t- output__organ_roots__N_exudation\n",
      "\n",
      "State variables:\n",
      "\t- state__An\n",
      "\t- state__Transpiration\n",
      "\t- state__S_Sucrose\n",
      "\t- state__Ts\n",
      "\t- state__gs\n",
      "\t- state__Ag\n",
      "\t- state__Tr\n",
      "\t- state__sucrose\n",
      "\t- state__Rd\n",
      "\t- state__sum_respi\n",
      "\t- state__Photosynthesis\n",
      "\t- state__PARa\n"
     ]
    }
   ],
   "source": [
    "%reload_ext autoreload\n",
    "%autoreload 2 \n",
    "\n",
    "from model_config import targets, state_variables\n",
    "\n",
    "print(f'Targets:')\n",
    "for target in targets:\n",
    "  print(f'\\t- {target}')\n",
    "\n",
    "print(f'\\nState variables:')\n",
    "for state_var in state_variables:\n",
    "  print(f'\\t- {state_var}')"
   ]
  },
  {
   "cell_type": "markdown",
   "metadata": {},
   "source": [
    "### Data preprocessing, grouping and train-test splitting\n",
    "\n",
    "The available datasets will be processed into 4 datasets:\n",
    "\n",
    "- NEMA_H0\n",
    "- NEMA_H3\n",
    "- NEMA_H15\n",
    "- NEMA_COMBINED (concatenated as data from the same plant)"
   ]
  },
  {
   "cell_type": "code",
   "execution_count": 5,
   "metadata": {},
   "outputs": [],
   "source": [
    "from src.learning.preprocessing import generate_mask\n",
    "\n",
    "\n",
    "WARMUP_STEPS = 4 * 24\n",
    "DAY_MASK = generate_mask(5, 21)"
   ]
  },
  {
   "cell_type": "code",
   "execution_count": 6,
   "metadata": {},
   "outputs": [],
   "source": [
    "from wheatfspm_pipeline_utils import preprocess_data, group_by_day, train_test_split_alternating\n",
    "# from wheatfspm_pipeline_utils import direct_target_generator, direct_reservoir_generator\n",
    "# from wheatfspm_pipeline_utils import preprocess_raw_X\n",
    "# from model_config import max_time_step\n",
    "\n",
    "# def generate_X_y_groups(datasets, target, state_var, target_generator, state_generator):\n",
    "#   \"\"\"Generates X, y and groups arrays for each dataset, plus a concatenated dataset.\n",
    "#      NOTE: The groups in the concatenated dataset are such that the same calendar day is in the same group.\n",
    "\n",
    "#      Also generates a baseline dataset where the reservoir is just a combination of all environmental inputs.\n",
    "#   \"\"\"\n",
    "#   data = {}\n",
    "\n",
    "#   # Preprocess the data for each dataset\n",
    "#   for name, dataset in datasets:\n",
    "#     target_data = next(target_generator(dataset, target, name))\n",
    "#     reservoir_data = next(state_generator(dataset, state_var, name))\n",
    "#     X_raw, y_raw = preprocess_data(target_data, reservoir_data, WARMUP_STEPS, DAY_MASK)\n",
    "#     X, y = X_raw[0, :, :], y_raw[0, :]\n",
    "#     groups = group_by_day(X, DAY_MASK)\n",
    "#     data[name] = (X, y, groups)\n",
    "\n",
    "#   # Generate the concatenated dataset\n",
    "#   all_arrays = list(data.values())\n",
    "#   X_combined = np.concatenate(list(map(lambda x : x[0], all_arrays)))\n",
    "#   y_combined = np.concatenate(list(map(lambda x : x[1], all_arrays)))\n",
    "#   groups_combined = np.concatenate(list(map(lambda x : x[2], all_arrays)))\n",
    "#   data['combined'] = (X_combined, y_combined, groups_combined)\n",
    "\n",
    "#   return data"
   ]
  },
  {
   "cell_type": "code",
   "execution_count": 7,
   "metadata": {},
   "outputs": [
    {
     "name": "stdout",
     "output_type": "stream",
     "text": [
      "combined:\n",
      "\tX: (1424, 10)\n",
      "\ty: (1424,)\n",
      "\tgroups: 33 (shape (1424,))\n",
      "combined_env_reservoir:\n",
      "\tX: (1424, 3)\n",
      "\ty: (1424,)\n",
      "\tgroups: 33 (shape (1424,))\n",
      "combined_env_temp_only:\n",
      "\tX: (1424, 1)\n",
      "\ty: (1424,)\n",
      "\tgroups: 33 (shape (1424,))\n"
     ]
    }
   ],
   "source": [
    "from wheatfspm_pipeline_utils import generate_X_y_groups, direct_target_generator, direct_reservoir_generator\n",
    "\n",
    "\n",
    "TARGET = 'output__axes__C_exudated' # targets[0]\n",
    "STATE_VAR = 'state__Ts' # state_variables[0]\n",
    "\n",
    "preprocessed_data = generate_X_y_groups(\n",
    "  datasets=datasets, \n",
    "  target=TARGET, \n",
    "  state_var=STATE_VAR,\n",
    "  target_generator=direct_target_generator, \n",
    "  state_generator=direct_reservoir_generator,\n",
    "  warmup_steps=WARMUP_STEPS, \n",
    "  day_mask=DAY_MASK,\n",
    "  combined_only=True,\n",
    "  add_env=True,\n",
    ")\n",
    "\n",
    "for name, (X, y, groups) in preprocessed_data.items():\n",
    "  print(f'{name}:')\n",
    "  print(f'\\tX: {X.shape}')\n",
    "  print(f'\\ty: {y.shape}')\n",
    "  print(f'\\tgroups: {len(np.unique(groups))} (shape {groups.shape})')"
   ]
  },
  {
   "cell_type": "markdown",
   "metadata": {},
   "source": [
    "### Model definition\n",
    "\n",
    "- Readout model is a standard RidgeRegression model with intercept term and CV-tuned regularization strength $\\alpha$.\n",
    "- CV search grid is a progression of logarithmicly spaced values for regularization strength $\\alpha$.\n",
    "- CV and testing metric is NMSE."
   ]
  },
  {
   "cell_type": "code",
   "execution_count": 8,
   "metadata": {},
   "outputs": [],
   "source": [
    "from sklearn.linear_model import Ridge\n",
    "from sklearn.pipeline import Pipeline\n",
    "\n",
    "from src.learning.scorers import nmse_scorer\n",
    "\n",
    "# Define model\n",
    "readout = Pipeline([\n",
    "  ('ridge_regression', Ridge(alpha=1, fit_intercept=True))\n",
    "])\n",
    "\n",
    "# define search grid\n",
    "search_grid = [{\n",
    "  'ridge_regression__alpha': 10 ** np.linspace(np.log10(1e-4), np.log10(1e2), 50)\n",
    "}]\n",
    "\n",
    "# define cross-validation and testing metric\n",
    "scorer = nmse_scorer"
   ]
  },
  {
   "cell_type": "markdown",
   "metadata": {},
   "source": [
    "### Generating a manifest of all experiments to run\n",
    "\n",
    "Currently we are only benchmarking direct target prediction, but in the future there will be other tasks generated from the base targets as well. These will be generated in this section.\n"
   ]
  },
  {
   "cell_type": "code",
   "execution_count": 9,
   "metadata": {},
   "outputs": [],
   "source": [
    "# Ratio of training to testing samples (in groups of 16 samples belonging to the same day)\n",
    "TRAIN_TEST_RATIO = 1\n",
    "\n",
    "# Amount of consecutive groups that are taken as training or testing groups.\n",
    "# e.g. for BLOCKS=4, the split is 1111 0000 1111 0000 ...\n",
    "BLOCKS = 4"
   ]
  },
  {
   "cell_type": "markdown",
   "metadata": {},
   "source": [
    "We will test different cross-validation folding strategies:"
   ]
  },
  {
   "cell_type": "code",
   "execution_count": 10,
   "metadata": {},
   "outputs": [],
   "source": [
    "from sklearn.model_selection import GroupKFold\n",
    "\n",
    "\n",
    "STRATEGIES = [\n",
    "  # {\n",
    "  #   'strat_name': '3_folds',\n",
    "  #   'fold_generator': lambda groups : GroupKFold(n_splits=3)\n",
    "  # },\n",
    "  # {\n",
    "  #   'strat_name': '4_folds',\n",
    "  #   'fold_generator': lambda groups : GroupKFold(n_splits=4)\n",
    "  # },\n",
    "  # {\n",
    "  #   'strat_name': '5_folds',\n",
    "  #   'fold_generator': lambda groups : GroupKFold(n_splits=5)\n",
    "  # },\n",
    "  {\n",
    "    'strat_name': 'LeaveOneOut',\n",
    "    'fold_generator': lambda groups : GroupKFold(n_splits=np.unique(groups).shape[0])\n",
    "  },\n",
    "]"
   ]
  },
  {
   "cell_type": "markdown",
   "metadata": {},
   "source": [
    "### Fitting all readout functions\n",
    "\n",
    "Process:\n",
    "- for each fitting strategy:\n",
    "  - For each target:\n",
    "    - For each observed state variable:\n",
    "      - For each dataset:\n",
    "        1. Preprocess the data\n",
    "        2. Fit for each dataset\n",
    "        3. Store the resulting training, cross-validation and test scores."
   ]
  },
  {
   "cell_type": "code",
   "execution_count": 11,
   "metadata": {},
   "outputs": [
    {
     "name": "stdout",
     "output_type": "stream",
     "text": [
      "Performing 324 fits...\n"
     ]
    },
    {
     "name": "stderr",
     "output_type": "stream",
     "text": [
      "100%|██████████| 324/324 [01:55<00:00,  2.80it/s]"
     ]
    },
    {
     "name": "stdout",
     "output_type": "stream",
     "text": [
      "Saved scores to scores_LeaveOneOut.csv\n"
     ]
    },
    {
     "name": "stderr",
     "output_type": "stream",
     "text": [
      "\n"
     ]
    }
   ],
   "source": [
    "from tqdm import tqdm\n",
    "from src.learning.training import perform_gridsearch\n",
    "from wheatfspm_pipeline_utils import train_test_split_alternating\n",
    "\n",
    "\n",
    "TARGETS = [(target_name, direct_target_generator) for target_name in targets]\n",
    "STATE_VARS = [(state_var, direct_reservoir_generator) for state_var in state_variables]\n",
    "\n",
    "\n",
    "total_loops = len(STRATEGIES) * len(targets) * len(state_variables) * (len(preprocessed_data))\n",
    "print(f'Performing {total_loops} fits...')\n",
    "\n",
    "\n",
    "models = {}\n",
    "results = []\n",
    "\n",
    "\n",
    "with tqdm(total=total_loops) as pbar:\n",
    "\n",
    "    for strategy in STRATEGIES:\n",
    "        for target_name, target_generator in TARGETS:\n",
    "            for state_var, state_generator in STATE_VARS:\n",
    "\n",
    "                # Preprocess data for model fit\n",
    "                preprocessed_data = generate_X_y_groups(\n",
    "                    datasets=datasets, \n",
    "                    target=target_name, \n",
    "                    state_var=state_var,\n",
    "                    target_generator=target_generator, \n",
    "                    state_generator=state_generator,\n",
    "                    warmup_steps=WARMUP_STEPS, \n",
    "                    day_mask=DAY_MASK,\n",
    "                    combined_only=True,\n",
    "                    add_env=True,\n",
    "                )\n",
    "\n",
    "                # For each dataset combination\n",
    "                for dataset_name, (X, y, groups) in preprocessed_data.items():\n",
    "                    train, test = train_test_split_alternating(X, y, groups, ratio=TRAIN_TEST_RATIO, blocks=BLOCKS)\n",
    "                    \n",
    "                    # fit model\n",
    "                    X_train, y_train, groups_train = train\n",
    "                    folds = strategy['fold_generator'](groups_train)\n",
    "                    model, scores = perform_gridsearch(readout, X_train, y_train, groups_train, folds, search_grid, verbose=False)\n",
    "                    (train_mean, train_std), (cv_mean, cv_std) = scores\n",
    "\n",
    "                    # Determine test score\n",
    "                    X_test, y_test, _ = test\n",
    "                    test_score = scorer(model, X_test, y_test)\n",
    "                    models[(target_name, state_var, dataset_name)] = model\n",
    "                    results.append({\n",
    "                        'target': target_name,\n",
    "                        'state_var': state_var,\n",
    "                        'dataset': dataset_name,\n",
    "                        'test_score': test_score,\n",
    "                        'train_mean': train_mean,\n",
    "                        'train_std': train_std,\n",
    "                        'cv_mean': cv_mean,\n",
    "                        'cv_std': cv_std,\n",
    "                        'strategy': strategy['strat_name']\n",
    "                    })\n",
    "                    pbar.update(1)      \n",
    "\n",
    "        results_df = pd.DataFrame.from_dict(results)\n",
    "        results_df.set_index(['target', 'state_var', 'dataset'])\n",
    "        filename = f'scores_{strategy[\"strat_name\"]}.csv'\n",
    "        results_df.to_csv(filename)\n",
    "        print(f'Saved scores to {filename}')\n",
    "        models = {}\n",
    "        results = []\n"
   ]
  }
 ],
 "metadata": {
  "interpreter": {
   "hash": "4121734fd62df77af0346899b5494e4291ab6203437ffd47de4eeaba662aa73c"
  },
  "kernelspec": {
   "display_name": "Python 3.9.7 ('rc-plants')",
   "language": "python",
   "name": "python3"
  },
  "language_info": {
   "codemirror_mode": {
    "name": "ipython",
    "version": 3
   },
   "file_extension": ".py",
   "mimetype": "text/x-python",
   "name": "python",
   "nbconvert_exporter": "python",
   "pygments_lexer": "ipython3",
   "version": "3.9.7"
  },
  "orig_nbformat": 4
 },
 "nbformat": 4,
 "nbformat_minor": 2
}
