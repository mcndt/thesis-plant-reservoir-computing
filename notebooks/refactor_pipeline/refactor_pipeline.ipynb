{
 "cells": [
  {
   "cell_type": "code",
   "execution_count": 37,
   "metadata": {},
   "outputs": [],
   "source": [
    "import pandas as pd\n",
    "import numpy as np\n",
    "\n",
    "from matplotlib import pyplot as plt\n",
    "sys.path.insert(1, os.path.join(sys.path[0], '../../'))  # for importing local packages from src\n",
    "\n",
    "%reload_ext autoreload\n",
    "%autoreload 2 "
   ]
  },
  {
   "cell_type": "markdown",
   "metadata": {},
   "source": [
    "### Loading datasets"
   ]
  },
  {
   "cell_type": "code",
   "execution_count": 38,
   "metadata": {},
   "outputs": [],
   "source": [
    "DATASET_NEMA_H0 = '../datasets/dataset_NEMA_NEMA_H0.csv'\n",
    "DATASET_NEMA_H3 = '../datasets/dataset_NEMA_NEMA_H3.csv'\n",
    "DATASET_NEMA_H15 = '../datasets/dataset_NEMA_NEMA_H15.csv'"
   ]
  },
  {
   "cell_type": "code",
   "execution_count": 149,
   "metadata": {},
   "outputs": [],
   "source": [
    "from src.model.rc_dataset import ExperimentDataset\n",
    "\n",
    "\n",
    "dataset_nema_h0 = ExperimentDataset(csv_path=DATASET_NEMA_H0)\n",
    "dataset_nema_h3 = ExperimentDataset(csv_path=DATASET_NEMA_H3)\n",
    "dataset_nema_h15 = ExperimentDataset(csv_path=DATASET_NEMA_H15)\n",
    "\n",
    "datasets = [dataset_nema_h0, dataset_nema_h3, dataset_nema_h15]"
   ]
  },
  {
   "cell_type": "markdown",
   "metadata": {},
   "source": [
    "### Target generator"
   ]
  },
  {
   "cell_type": "code",
   "execution_count": 155,
   "metadata": {},
   "outputs": [
    {
     "name": "stdout",
     "output_type": "stream",
     "text": [
      "y_raw shape: (1, 2136)\n"
     ]
    }
   ],
   "source": [
    "from model_config import targets\n",
    "from pipeline_cnwheat import TargetGenerator\n",
    "\n",
    "target_generator = TargetGenerator(target=targets[0])\n",
    "y_raw = target_generator.transform(datasets, warmup_days=4)\n",
    "\n",
    "print(f'y_raw shape: {y_raw.shape}')"
   ]
  },
  {
   "cell_type": "markdown",
   "metadata": {},
   "source": [
    "### Reservoir generators"
   ]
  },
  {
   "cell_type": "markdown",
   "metadata": {},
   "source": [
    "#### Homogeneous reservoirs"
   ]
  },
  {
   "cell_type": "code",
   "execution_count": 156,
   "metadata": {},
   "outputs": [
    {
     "name": "stdout",
     "output_type": "stream",
     "text": [
      "X_raw shape: (1, 2136, 10)\n"
     ]
    }
   ],
   "source": [
    "from model_config import state_variables\n",
    "from pipeline_cnwheat import SingleReservoirGenerator\n",
    "\n",
    "\n",
    "reservoir_generator = SingleReservoirGenerator(state_var=state_variables[2])\n",
    "X_raw = reservoir_generator.transform(datasets, warmup_days=4)\n",
    "\n",
    "print(f'X_raw shape: {X_raw.shape}')"
   ]
  },
  {
   "cell_type": "markdown",
   "metadata": {},
   "source": [
    "#### Heterogeneous reservoirs"
   ]
  },
  {
   "cell_type": "code",
   "execution_count": 157,
   "metadata": {},
   "outputs": [
    {
     "name": "stdout",
     "output_type": "stream",
     "text": [
      "X_raw shape: (1, 2136, 122)\n"
     ]
    }
   ],
   "source": [
    "from pipeline_cnwheat import MultiReservoirGenerator\n",
    "\n",
    "\n",
    "reservoir_generator = MultiReservoirGenerator(state_vars=state_variables)\n",
    "X_raw = reservoir_generator.transform(datasets, warmup_days=4)\n",
    "\n",
    "print(f'X_raw shape: {X_raw.shape}')"
   ]
  },
  {
   "cell_type": "markdown",
   "metadata": {},
   "source": [
    "#### Environment baseline reservoirs"
   ]
  },
  {
   "cell_type": "code",
   "execution_count": 158,
   "metadata": {},
   "outputs": [
    {
     "name": "stdout",
     "output_type": "stream",
     "text": [
      "X_raw shape: (1, 2136, 3)\n"
     ]
    }
   ],
   "source": [
    "from model_config import input_targets\n",
    "from pipeline_cnwheat import TargetReservoirGenerator\n",
    "\n",
    "\n",
    "reservoir_generator = TargetReservoirGenerator(targets=input_targets)\n",
    "X_raw = reservoir_generator.transform(datasets, warmup_days=4)\n",
    "\n",
    "print(f'X_raw shape: {X_raw.shape}')"
   ]
  },
  {
   "cell_type": "markdown",
   "metadata": {},
   "source": [
    "### Group generator"
   ]
  },
  {
   "cell_type": "code",
   "execution_count": 163,
   "metadata": {},
   "outputs": [
    {
     "name": "stdout",
     "output_type": "stream",
     "text": [
      "Groups_raw shape: (1, 2136)\n",
      "Unique groups: 33\n",
      "[0. 1. 2. 3. 4. 5. 6.]\n"
     ]
    }
   ],
   "source": [
    "from pipeline_cnwheat import GroupGenerator\n",
    "\n",
    "\n",
    "group_generator = GroupGenerator(day_length=24)\n",
    "\n",
    "groups_raw = group_generator.transform(datasets, warmup_days=4)\n",
    "\n",
    "print(f'Groups_raw shape: {groups_raw.shape}')\n",
    "print(f'Unique groups: {len(np.unique(groups_raw))}')\n",
    "print(groups_raw[0, 0:7*24:24])"
   ]
  },
  {
   "cell_type": "markdown",
   "metadata": {},
   "source": [
    "### Target transformers"
   ]
  },
  {
   "cell_type": "code",
   "execution_count": 51,
   "metadata": {},
   "outputs": [],
   "source": [
    "class TargetTransformer(ABC):\n",
    "\n",
    "  @abstractmethod\n",
    "  def transform(self, y_raw: np.ndarray) -> np.ndarray:\n",
    "    pass"
   ]
  },
  {
   "cell_type": "markdown",
   "metadata": {},
   "source": [
    "#### Direct target (no transform)"
   ]
  },
  {
   "cell_type": "code",
   "execution_count": 52,
   "metadata": {},
   "outputs": [],
   "source": [
    "class DirectTarget(TargetTransformer):\n",
    "\n",
    "  def transform(self, y_raw: np.ndarray) -> np.ndarray:\n",
    "    return y_raw"
   ]
  },
  {
   "cell_type": "code",
   "execution_count": 53,
   "metadata": {},
   "outputs": [
    {
     "name": "stdout",
     "output_type": "stream",
     "text": [
      "(1, 2136)\n"
     ]
    }
   ],
   "source": [
    "target_tf = DirectTarget()\n",
    "y_tf = target_tf.transform(y_raw)\n",
    "\n",
    "print(y_tf.shape)"
   ]
  },
  {
   "cell_type": "markdown",
   "metadata": {},
   "source": [
    "### Reservoir transformers"
   ]
  },
  {
   "cell_type": "code",
   "execution_count": 54,
   "metadata": {},
   "outputs": [],
   "source": [
    "class ReservoirTransformer(ABC):\n",
    "\n",
    "  @abstractmethod\n",
    "  def transform(self, X_raw: np.ndarray) -> np.ndarray:\n",
    "    pass"
   ]
  },
  {
   "cell_type": "markdown",
   "metadata": {},
   "source": [
    "#### Direct reservoir (no transform)"
   ]
  },
  {
   "cell_type": "code",
   "execution_count": 55,
   "metadata": {},
   "outputs": [],
   "source": [
    "class DirectReservoir(ReservoirTransformer):\n",
    "\n",
    "  def transform(self, X_raw: np.ndarray) -> np.ndarray:\n",
    "    return X_raw"
   ]
  },
  {
   "cell_type": "code",
   "execution_count": 56,
   "metadata": {},
   "outputs": [
    {
     "name": "stdout",
     "output_type": "stream",
     "text": [
      "(1, 2136, 3)\n"
     ]
    }
   ],
   "source": [
    "reservoir_tf = DirectReservoir()\n",
    "X_tf = reservoir_tf.transform(X_raw)\n",
    "\n",
    "print(X_tf.shape)"
   ]
  },
  {
   "cell_type": "markdown",
   "metadata": {},
   "source": [
    "### Flatten data"
   ]
  },
  {
   "cell_type": "code",
   "execution_count": 57,
   "metadata": {},
   "outputs": [],
   "source": [
    "from typing import Tuple\n",
    "\n",
    "def flatten(X_tf, y_tf, groups) -> Tuple[np.ndarray, np.ndarray, np.ndarray]:\n",
    "  assert X_tf.shape[:2] == y_tf.shape == groups.shape\n",
    "  _, n_samples, n_features = X_tf.shape\n",
    "  X = X_tf.reshape((-1, n_features))\n",
    "  y = y_tf.reshape((n_samples))\n",
    "  groups = groups.reshape((n_samples))\n",
    "  return X, y, groups"
   ]
  },
  {
   "cell_type": "code",
   "execution_count": 58,
   "metadata": {},
   "outputs": [
    {
     "name": "stdout",
     "output_type": "stream",
     "text": [
      "(2136, 3)\n",
      "(2136,)\n",
      "(2136,)\n"
     ]
    }
   ],
   "source": [
    "X, y, groups = flatten(X_tf, y_tf, groups_raw)\n",
    "\n",
    "print(X.shape)\n",
    "print(y.shape)\n",
    "print(groups.shape)"
   ]
  },
  {
   "cell_type": "markdown",
   "metadata": {},
   "source": [
    "### Data preprocessors"
   ]
  },
  {
   "cell_type": "code",
   "execution_count": 59,
   "metadata": {},
   "outputs": [],
   "source": [
    "class Preprocessor(ABC):\n",
    "\n",
    "  @abstractmethod\n",
    "  def transform(self, X, y, groups) -> Tuple[np.ndarray, np.ndarray, np.ndarray]:\n",
    "    return X, y, groups"
   ]
  },
  {
   "cell_type": "markdown",
   "metadata": {},
   "source": [
    "#### Daylight masking"
   ]
  },
  {
   "cell_type": "code",
   "execution_count": 60,
   "metadata": {},
   "outputs": [],
   "source": [
    "from src.learning.preprocessing import generate_mask\n",
    "\n",
    "class DaylightMask(Preprocessor):\n",
    "\n",
    "  def __init__(self, *, day_length: int, start: int, end: int):\n",
    "    self.daylight_mask = generate_mask(start, end, length=day_length)\n",
    "\n",
    "  def transform(self, X, y, groups) -> Tuple[np.ndarray, np.ndarray, np.ndarray]:\n",
    "    assert len(X) == len(y) == len(groups)\n",
    "    n_days = X.shape[0] // len(self.daylight_mask)\n",
    "    time_mask = np.tile(self.daylight_mask, n_days)\n",
    "    X = X[time_mask]\n",
    "    y = y[time_mask]\n",
    "    groups = groups[time_mask]\n",
    "    return X, y, groups"
   ]
  },
  {
   "cell_type": "code",
   "execution_count": 61,
   "metadata": {},
   "outputs": [
    {
     "name": "stdout",
     "output_type": "stream",
     "text": [
      "(1424, 3) (1424,) (1424,)\n"
     ]
    }
   ],
   "source": [
    "day_mask_tf = DaylightMask(day_length=24, start=5, end=21)\n",
    "X_day, y_day, groups_day = day_mask_tf.transform(X, y, groups)\n",
    "\n",
    "print(X_day.shape, y_day.shape, groups_day.shape)"
   ]
  },
  {
   "cell_type": "markdown",
   "metadata": {},
   "source": [
    "#### Rescaling"
   ]
  },
  {
   "cell_type": "code",
   "execution_count": 62,
   "metadata": {},
   "outputs": [],
   "source": [
    "from sklearn.preprocessing import StandardScaler\n",
    "\n",
    "class Rescale(Preprocessor):\n",
    "\n",
    "  def __init__(self, *, per_feature):\n",
    "    self.per_feature = per_feature\n",
    "\n",
    "  def transform(self, X, y, groups) -> Tuple[np.ndarray, np.ndarray, np.ndarray]:\n",
    "    if self.per_feature:\n",
    "      X = StandardScaler().fit_transform(X)\n",
    "    else:\n",
    "      X = (X - X.mean()) / X.std()\n",
    "    y = (y - y.mean()) / y.std()\n",
    "    return X, y, groups"
   ]
  },
  {
   "cell_type": "code",
   "execution_count": 63,
   "metadata": {},
   "outputs": [
    {
     "data": {
      "image/png": "[encoded data removed]",
      "text/plain": [
       "<Figure size 432x288 with 1 Axes>"
      ]
     },
     "metadata": {
      "needs_background": "light"
     },
     "output_type": "display_data"
    },
    {
     "data": {
      "image/png": "[encoded data removed]",
      "text/plain": [
       "<Figure size 432x288 with 1 Axes>"
      ]
     },
     "metadata": {
      "needs_background": "light"
     },
     "output_type": "display_data"
    }
   ],
   "source": [
    "plt.plot(X[:200])\n",
    "plt.show()\n",
    "\n",
    "scaler_tf = Rescale(per_feature=True)\n",
    "X_scaled, _, _ = scaler_tf.transform(X, y, groups)\n",
    "\n",
    "plt.plot(X_scaled[:200])\n",
    "plt.show()"
   ]
  },
  {
   "cell_type": "markdown",
   "metadata": {},
   "source": [
    "### Train-test splitter"
   ]
  },
  {
   "cell_type": "code",
   "execution_count": 82,
   "metadata": {},
   "outputs": [],
   "source": [
    "sample_set = Tuple[np.ndarray, np.ndarray, np.ndarray]\n",
    "\n",
    "\n",
    "class BaseTrainTestSplitter(ABC):\n",
    "\n",
    "  def __init__(self, *, block_size: int, test_ratio: float):\n",
    "    assert test_ratio <= 0.5, \"Test ratio can be at most 50 percent of the data\"\n",
    "    self.block_size = block_size\n",
    "    self.test_ratio = test_ratio\n",
    "\n",
    "  @abstractmethod\n",
    "  def transform(self, X, y, groups) -> Tuple[sample_set, sample_set]:\n",
    "    return X, y, groups"
   ]
  },
  {
   "cell_type": "code",
   "execution_count": 83,
   "metadata": {},
   "outputs": [],
   "source": [
    "class TrainTestSplitter(BaseTrainTestSplitter):\n",
    "\n",
    "  def transform(self, X, y, groups) -> Tuple[sample_set, sample_set]:\n",
    "\n",
    "    group_ids = np.unique(groups)\n",
    "\n",
    "    base_length = int(np.round(1 / self.test_ratio))\n",
    "\n",
    "    train_groups_mask = np.ones((base_length), dtype=bool)\n",
    "    train_groups_mask[-1] = False\n",
    "    train_groups_mask = np.repeat(train_groups_mask, self.block_size)\n",
    "    train_groups_mask = np.tile(\n",
    "        train_groups_mask, np.ceil(len(group_ids) / len(train_groups_mask)).astype(int)\n",
    "    )\n",
    "    train_groups_mask = train_groups_mask[: len(group_ids)]\n",
    "    train_group_ids = group_ids[train_groups_mask]\n",
    "    train_mask = np.isin(groups, train_group_ids)\n",
    "\n",
    "    X_train = X[train_mask]\n",
    "    groups_train = groups[train_mask]\n",
    "    y_train = y[train_mask]\n",
    "\n",
    "    X_test = X[~train_mask]\n",
    "    y_test = y[~train_mask]\n",
    "    groups_test = groups[~train_mask]\n",
    "\n",
    "    return (X_train, y_train, groups_train), (X_test, y_test, groups_test)\n"
   ]
  },
  {
   "cell_type": "code",
   "execution_count": 87,
   "metadata": {},
   "outputs": [
    {
     "name": "stdout",
     "output_type": "stream",
     "text": [
      "(1104, 3) (1032, 3)\n"
     ]
    }
   ],
   "source": [
    "splitter = TrainTestSplitter(block_size=4, test_ratio=0.5)\n",
    "train, test = splitter.transform(X, y, groups)\n",
    "\n",
    "print(train[0].shape, test[0].shape)"
   ]
  },
  {
   "cell_type": "markdown",
   "metadata": {},
   "source": [
    "### Pipeline definition"
   ]
  },
  {
   "cell_type": "code",
   "execution_count": 132,
   "metadata": {},
   "outputs": [],
   "source": [
    "from dataclasses import dataclass\n",
    "from typing import Callable\n",
    "\n",
    "from sklearn.base import BaseEstimator\n",
    "from sklearn.model_selection import BaseCrossValidator\n",
    "\n",
    "\n",
    "BaseScorer = Callable[[BaseEstimator, np.ndarray, np.ndarray], float]\n",
    "\n",
    "@dataclass\n",
    "class RCPipeline:\n",
    "  # Metadata (added as columns in the results dict)\n",
    "  metadata: dict\n",
    "\n",
    "  # Data generation\n",
    "  datasets: List[ExperimentDataset]\n",
    "  target: BaseTargetGenerator\n",
    "  reservoir: BaseReservoirGenerator\n",
    "  groups: BaseGroupGenerator\n",
    "\n",
    "  # Data transformation\n",
    "  warmup_days: int\n",
    "  target_tf: TargetTransformer\n",
    "  reservoir_tf: ReservoirTransformer\n",
    "\n",
    "  # Data preproccessing\n",
    "  preprocessing: List[Preprocessor]\n",
    "\n",
    "  # Model\n",
    "  train_test_split: BaseTrainTestSplitter\n",
    "  readout_model: BaseEstimator\n",
    "  model_param_grid: dict\n",
    "  model_scorer: BaseScorer\n",
    "  folds: BaseCrossValidator\n"
   ]
  },
  {
   "cell_type": "markdown",
   "metadata": {},
   "source": [
    "##### Test example"
   ]
  },
  {
   "cell_type": "code",
   "execution_count": 144,
   "metadata": {},
   "outputs": [],
   "source": [
    "from sklearn.linear_model import Ridge\n",
    "from sklearn.pipeline import Pipeline\n",
    "from sklearn.model_selection import LeaveOneGroupOut\n",
    "\n",
    "from src.learning.scorers import nmse_scorer\n",
    "\n",
    "# Reservoir definition\n",
    "reservoir_id = 'state__het_all'\n",
    "reservoir = MultiReservoirGenerator(state_vars=state_variables)\n",
    "reservoir_tf = DirectReservoir()\n",
    "\n",
    "# Target definition\n",
    "target_id = 'input_air_temperature'\n",
    "target = TargetGenerator(target=target_id)\n",
    "target_tf = DirectTarget()\n",
    "\n",
    "# Model definition\n",
    "readout = Pipeline([\n",
    "  ('ridge_regression', Ridge(alpha=1, fit_intercept=True))\n",
    "])\n",
    "\n",
    "search_grid = [{\n",
    "  'ridge_regression__alpha': 10 ** np.linspace(np.log10(1e-4), np.log10(1e2), 50)\n",
    "}]\n",
    "\n",
    "pipeline = RCPipeline(\n",
    "  # Metadata\n",
    "  metadata={\n",
    "    'target_id': target_id,\n",
    "    'reservoir_id': reservoir_id,\n",
    "    'dataset_id': 'NEMA_combined',\n",
    "  },\n",
    "\n",
    "  # Data generation\n",
    "  datasets=datasets,\n",
    "  target=target,\n",
    "  reservoir=reservoir,\n",
    "  groups=GroupGenerator(day_length=24),\n",
    "\n",
    "  # Data transformation\n",
    "  warmup_days=4,\n",
    "  reservoir_tf=reservoir_tf,\n",
    "  target_tf=target_tf,\n",
    "\n",
    "  # Data preprocessing\n",
    "  preprocessing=[\n",
    "    DaylightMask(day_length=24, start=5, end=21),\n",
    "    Rescale(per_feature=False)\n",
    "  ],\n",
    "\n",
    "  # Model training and testing\n",
    "  train_test_split=TrainTestSplitter(block_size=4, test_ratio=0.5),\n",
    "  readout_model=readout,\n",
    "  model_param_grid=search_grid,\n",
    "  model_scorer=nmse_scorer,\n",
    "  folds=LeaveOneGroupOut(),\n",
    ")"
   ]
  },
  {
   "cell_type": "markdown",
   "metadata": {},
   "source": [
    "### Pipeline execution"
   ]
  },
  {
   "cell_type": "code",
   "execution_count": 145,
   "metadata": {},
   "outputs": [
    {
     "name": "stdout",
     "output_type": "stream",
     "text": [
      "{'target_id': 'input_air_temperature', 'reservoir_id': 'state__het_all', 'dataset_id': 'NEMA_combined', 'test_score': -0.047169589011037065, 'train_mean': -0.038991294558955, 'train_std': 0.0029223571396617184, 'cv_mean': -0.20472957240013542, 'cv_std': 0.19331493044810283}\n"
     ]
    }
   ],
   "source": [
    "from sklearn.base import clone as clone_model\n",
    "\n",
    "from src.learning.training import perform_gridsearch\n",
    "\n",
    "\n",
    "def fit_model(model, X, y, groups, folds, search_grid) -> BaseEstimator:\n",
    "  \"\"\"Optimizes model using param search grid and returns the optimal model.\"\"\"\n",
    "  cv_model, cv_scores = perform_gridsearch(\n",
    "    model, X,  y, groups, folds, search_grid, verbose=False\n",
    "  )\n",
    "  final_model = clone_model(model)\n",
    "  final_model.set_params(**cv_model.best_params_)\n",
    "  final_model.fit(X, y)\n",
    "  return final_model, cv_scores\n",
    "\n",
    "\n",
    "def execute_pipeline(pipeline: RCPipeline):\n",
    "\n",
    "  # Data generation\n",
    "  X_raw = pipeline.reservoir.transform(datasets, warmup_days=pipeline.warmup_days)\n",
    "  y_raw = pipeline.target.transform(datasets, warmup_days=pipeline.warmup_days)\n",
    "  groups_raw = pipeline.groups.transform(datasets, warmup_days=pipeline.warmup_days)\n",
    "\n",
    "  # Data transformation\n",
    "  X_tf = pipeline.reservoir_tf.transform(X_raw)\n",
    "  y_tf = pipeline.target_tf.transform(y_raw)\n",
    "  X, y, groups = flatten(X_tf, y_tf, groups_raw)\n",
    "\n",
    "  # Data processing\n",
    "  for processor in pipeline.preprocessing:\n",
    "    X, y, groups = processor.transform(X, y, groups)\n",
    "\n",
    "  # Train test splitting\n",
    "  train, test = pipeline.train_test_split.transform(X, y, groups)\n",
    "\n",
    "  # Model training\n",
    "  X_train, y_train, groups_train = train\n",
    "  final_model, cv_scores = fit_model(\n",
    "    pipeline.readout_model, X_train, y_train, groups_train, \n",
    "    pipeline.folds, pipeline.model_param_grid\n",
    "  )\n",
    "  (train_mean, train_std), (cv_mean, cv_std) = cv_scores\n",
    "\n",
    "  # Model evaluation\n",
    "  X_test, y_test, _ = test\n",
    "  test_score = pipeline.model_scorer(final_model, X_test, y_test)\n",
    "  result_dict = {\n",
    "    **pipeline.metadata,\n",
    "    \"test_score\": test_score,\n",
    "    \"train_mean\": train_mean,\n",
    "    \"train_std\": train_std,\n",
    "    \"cv_mean\": cv_mean,\n",
    "    \"cv_std\": cv_std,\n",
    "  }\n",
    "  \n",
    "  return result_dict\n",
    "\n",
    "results = execute_pipeline(pipeline)\n",
    "\n",
    "print(results)"
   ]
  },
  {
   "cell_type": "code",
   "execution_count": null,
   "metadata": {},
   "outputs": [],
   "source": []
  }
 ],
 "metadata": {
  "interpreter": {
   "hash": "4121734fd62df77af0346899b5494e4291ab6203437ffd47de4eeaba662aa73c"
  },
  "kernelspec": {
   "display_name": "Python 3.9.7 ('rc-plants')",
   "language": "python",
   "name": "python3"
  },
  "language_info": {
   "codemirror_mode": {
    "name": "ipython",
    "version": 3
   },
   "file_extension": ".py",
   "mimetype": "text/x-python",
   "name": "python",
   "nbconvert_exporter": "python",
   "pygments_lexer": "ipython3",
   "version": "3.9.7"
  },
  "orig_nbformat": 4
 },
 "nbformat": 4,
 "nbformat_minor": 2
}
