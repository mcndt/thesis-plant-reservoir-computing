{
 "cells": [
  {
   "cell_type": "markdown",
   "metadata": {},
   "source": [
    "# Collecting reservoir performance data on selection of targets\n",
    "\n",
    "This notebook uses the general pipeline defined in 2022_03_06 notebook to generate NMSE performance on various reservoir tasks.\n"
   ]
  },
  {
   "cell_type": "code",
   "execution_count": 2,
   "metadata": {},
   "outputs": [],
   "source": [
    "import sys, os\n",
    "import numpy as np\n",
    "import pandas as pd\n",
    "import matplotlib\n",
    "from matplotlib import pyplot as plt\n",
    "\n",
    "sys.path.insert(1, os.path.join(sys.path[0], '../../'))  # for importing local packages from src"
   ]
  },
  {
   "cell_type": "markdown",
   "metadata": {},
   "source": [
    "## SETUP"
   ]
  },
  {
   "cell_type": "markdown",
   "metadata": {},
   "source": [
    "### Importing the dataset\n",
    "\n",
    "For now, we use the HydroShoot dataset generated during the first semester."
   ]
  },
  {
   "cell_type": "code",
   "execution_count": 3,
   "metadata": {},
   "outputs": [
    {
     "name": "stdout",
     "output_type": "stream",
     "text": [
      "Dataset properties:\n",
      "\tn_runs:      84\n",
      "\tn_steps:    168\n",
      "\tstate_size: 360\n",
      "\n",
      "Available targets: \n",
      "\tinput_Tac, input_u, input_hs, input_Rg, output_Rg, output_An, output_E, output_Tleaf\n",
      "\n",
      "Available state variables: \n",
      "\tstate_An, state_E, state_Eabs, state_Ei, state_Flux, state_FluxC, state_Tlc, state_gb, state_gs, state_psi_head, state_u\n",
      "\n"
     ]
    }
   ],
   "source": [
    "from src.model.rc_dataset import ExperimentDataset\n",
    "\n",
    "csv_path = '../datasets/hydroshoot_large_trimmed.csv'\n",
    "dataset = ExperimentDataset(csv_path=csv_path)\n",
    "print(dataset)"
   ]
  },
  {
   "cell_type": "markdown",
   "metadata": {},
   "source": [
    "### Data preprocessing\n",
    "\n",
    "Preprocessing pipeline is predefined in the `preprocessing` module of this directory. \n",
    "\n",
    "See printed docstring for all steps applied:"
   ]
  },
  {
   "cell_type": "code",
   "execution_count": 4,
   "metadata": {},
   "outputs": [
    {
     "name": "stdout",
     "output_type": "stream",
     "text": [
      "\n",
      "    Preprocessing performed: \n",
      "\n",
      "    1. The target signal for each run is computed.\n",
      "        - Target and reservoir are cast into a ndarray.\n",
      "    2. Target and reservoir signals are trimmed.\n",
      "        - A warmup mask is applied to target and reservoir.\n",
      "        - A night-time mask is applied to target and reservoir.\n",
      "    3. Target and reservoir are rescaled to zero-mean and unit variance\n",
      "        - Normalizing transform is fitted on the entire dataset of included experiment runs.\n",
      "    \n"
     ]
    }
   ],
   "source": [
    "from preprocessing import preprocess_data\n",
    "\n",
    "print(preprocess_data.__doc__)"
   ]
  },
  {
   "cell_type": "markdown",
   "metadata": {},
   "source": [
    "For all experiments, we will use the following preprocessing parameters:"
   ]
  },
  {
   "cell_type": "code",
   "execution_count": 5,
   "metadata": {},
   "outputs": [],
   "source": [
    "from src.learning.preprocessing import generate_mask\n",
    "\n",
    "STATE_SIZE = 16                         # Sixteen random nodes are selected as reservoir readouts\n",
    "RUN_IDS = np.arange(dataset.n_runs())   # All runs are used\n",
    "WARMUP_STEPS = 4 * 24                   # First 4 days of each simulation are discarded\n",
    "DAY_MASK = generate_mask(5, 21)         # All nighttime data between 5am and 9pm (inclusive) is discarded"
   ]
  },
  {
   "cell_type": "markdown",
   "metadata": {},
   "source": [
    "### Grouping \n",
    "\n",
    "Grouping strategy is predefined in the `learning` module of this directory.\n",
    "\n",
    "See printed docstring for a description of the grouping strategy:"
   ]
  },
  {
   "cell_type": "code",
   "execution_count": 6,
   "metadata": {},
   "outputs": [
    {
     "name": "stdout",
     "output_type": "stream",
     "text": [
      "Simulation state from the same calendar day of simulation inputs, \n",
      "    across all runs, are grouped together per day. Shape of X is assumed to be (runs, time_steps, nodes)\n",
      "\n",
      "    ```\n",
      "    GROUP 1 | GROUP 2 | GROUP 3 | GROUP 4 | ...\n",
      "    --------+---------+---------+---------+----\n",
      "    sim1/d1  sim1/d2   sim1/d3   /         /\n",
      "    /        sim2/d2   sim2/d3   sim2/d4   /       ...\n",
      "    /        /         sim3/d3   sim3/d4   sim3/d5 \n",
      "                                ...                ...\n",
      "    ```\n",
      "    \n"
     ]
    }
   ],
   "source": [
    "from learning import group_by_day\n",
    "\n",
    "print(group_by_day.__doc__)"
   ]
  },
  {
   "cell_type": "markdown",
   "metadata": {},
   "source": [
    "### Train-test-splitting\n",
    "\n",
    "Train-test splits are generated in contiguous blocks to avoid strong temporal correlation between the training and testing data."
   ]
  },
  {
   "cell_type": "code",
   "execution_count": 7,
   "metadata": {},
   "outputs": [
    {
     "name": "stdout",
     "output_type": "stream",
     "text": [
      "\n",
      "    - Train-test splitting is done at group scope (i.e. by calendar day)\n",
      "    - Training and testing ranges are chosen as contiguous blocks rather \n",
      "      than randomly selected.\n",
      "\n",
      "    e.g. for `interval_length = 8` and `test_ratio = 0.25`, \n",
      "    the consecutive groups are assigned as follows:\n",
      "\n",
      "    ```\n",
      "    g1     g2      g3      g4      g5      g6      g7     g8                   \n",
      "    ------+-------+-------+-------+-------+-------+------+------+\n",
      "    Train | Train | Train | Train | Train | Train | Test | Test | ... (repeat)\n",
      "    ```\n",
      "    \n"
     ]
    }
   ],
   "source": [
    "from learning import train_test_split_blocks\n",
    "\n",
    "print(train_test_split_blocks.__doc__)"
   ]
  },
  {
   "cell_type": "code",
   "execution_count": 8,
   "metadata": {},
   "outputs": [],
   "source": [
    "TEST_RATIO = 0.25        # 25% of samples will be used for testing\n",
    "INTERVAL_LENGTH = 16     # Every length of 16 consecutive calendar days is split in\n",
    "                         # 12 training days and 4 testing days."
   ]
  },
  {
   "cell_type": "markdown",
   "metadata": {},
   "source": [
    "### Model definition\n",
    "\n",
    "- Readout model is a standard RidgeRegression model with intercept term and CV-tuned regularization strength $\\alpha$.\n",
    "- CV search grid is a progression of logarithmicly spaced values for regularization strength $\\alpha$.\n",
    "- CV and testing metric is NMSE."
   ]
  },
  {
   "cell_type": "code",
   "execution_count": 9,
   "metadata": {},
   "outputs": [],
   "source": [
    "from sklearn.linear_model import Ridge\n",
    "from sklearn.pipeline import Pipeline\n",
    "from sklearn.model_selection import GroupKFold\n",
    "\n",
    "from src.learning.scorers import nmse_scorer\n",
    "\n",
    "N_FOLDS = 5;\n",
    "\n",
    "\n",
    "# Define model\n",
    "readout = Pipeline([\n",
    "  ('ridge_regression', Ridge(alpha=1, fit_intercept=True))\n",
    "])\n",
    "\n",
    "# define search grid\n",
    "search_grid = [{\n",
    "  'ridge_regression__alpha': 10 ** np.linspace(np.log10(1e-3), np.log10(1e3), 50)\n",
    "}]\n",
    "\n",
    "# define cross-validation and testing metric\n",
    "scorer = nmse_scorer\n",
    "\n",
    "# Define CV fold strategy\n",
    "folds = GroupKFold(n_splits=N_FOLDS)"
   ]
  },
  {
   "cell_type": "markdown",
   "metadata": {},
   "source": [
    "## DEFINING TARGETS"
   ]
  },
  {
   "cell_type": "markdown",
   "metadata": {},
   "source": [
    "### Environmental targets\n",
    "\n",
    "These tasks show that the reservoir has some capacity for awareness about recent inputs."
   ]
  },
  {
   "cell_type": "code",
   "execution_count": 10,
   "metadata": {},
   "outputs": [],
   "source": [
    "from data_generators import direct_target_generator, direct_reservoir_generator"
   ]
  },
  {
   "cell_type": "code",
   "execution_count": 19,
   "metadata": {},
   "outputs": [
    {
     "name": "stdout",
     "output_type": "stream",
     "text": [
      "Input targets:\n",
      "\t- input_Tac\n",
      "\t- input_u\n",
      "\t- input_hs\n",
      "\t- input_Rg\n"
     ]
    }
   ],
   "source": [
    "input_target_names = dataset.get_input_variables()\n",
    "input_targets_runs = [list(direct_target_generator(dataset, name, RUN_IDS)) for name in input_target_names]\n",
    "\n",
    "input_targets = list(zip(input_target_names, input_targets_runs))\n",
    "\n",
    "print('Input targets:')\n",
    "for name, _ in input_targets:\n",
    "  print(f'\\t- {name}')"
   ]
  },
  {
   "cell_type": "markdown",
   "metadata": {},
   "source": [
    "### Physiological activity on organism level\n",
    "\n",
    "Theses tasks show that the reservoir has some capacity for awareness about its own fitness functions/unit performance."
   ]
  },
  {
   "cell_type": "code",
   "execution_count": 20,
   "metadata": {},
   "outputs": [
    {
     "name": "stdout",
     "output_type": "stream",
     "text": [
      "Output targets:\n",
      "\t- output_Rg\n",
      "\t- output_An\n",
      "\t- output_E\n",
      "\t- output_Tleaf\n"
     ]
    }
   ],
   "source": [
    "output_target_names = dataset.get_output_variables()\n",
    "output_target_runs = [list(direct_target_generator(dataset, name, RUN_IDS)) for name in output_target_names]\n",
    "\n",
    "output_targets = list(zip(output_target_names, output_target_runs))\n",
    "\n",
    "print('Output targets:')\n",
    "for name, _ in output_targets:\n",
    "  print(f'\\t- {name}')"
   ]
  },
  {
   "cell_type": "markdown",
   "metadata": {},
   "source": [
    "### Computational benchmarks\n",
    "\n",
    "These tasks test the capability of the reservoir to \n",
    "\n",
    "1. compute nonlinear transformations of input signals\n",
    "2. remember past inputs\n",
    "3. Or a combination of the above."
   ]
  },
  {
   "cell_type": "markdown",
   "metadata": {},
   "source": [
    "#### Delay line\n",
    "\n",
    "The reservoir must predict a delayed version of the target signal."
   ]
  },
  {
   "cell_type": "code",
   "execution_count": 55,
   "metadata": {},
   "outputs": [
    {
     "name": "stdout",
     "output_type": "stream",
     "text": [
      "Target shape: (166,)\n",
      "State shape:  (166, 8)\n"
     ]
    }
   ],
   "source": [
    "from data_generators import direct_target_generator, direct_reservoir_generator\n",
    "\n",
    "def delayed_target_generator(delay_steps, dataset, target, run_ids):\n",
    "  base_targets = direct_target_generator(dataset, target, run_ids)\n",
    "  for base in base_targets:\n",
    "    yield base[:-delay_steps]\n",
    "\n",
    "def delayed_reservoir_generator(delay_steps, dataset, target, run_ids, **kwargs):\n",
    "  base_targets = direct_reservoir_generator(dataset, target, run_ids, **kwargs)\n",
    "  for base in base_targets:\n",
    "    yield base[delay_steps:]\n",
    "\n",
    "\n",
    "dtg = delayed_target_generator(2, dataset, 'input_Tac', [0, 1, 2])\n",
    "drg = delayed_reservoir_generator(2, dataset, 'state_Tlc', [0, 1, 2], state_size=8)\n",
    "print(f'Target shape: {next(dtg).shape}')\n",
    "print(f'State shape:  {next(drg).shape}')"
   ]
  },
  {
   "cell_type": "code",
   "execution_count": 75,
   "metadata": {},
   "outputs": [
    {
     "data": {
      "image/png": "[encoded data removed]",
      "text/plain": [
       "<Figure size 864x288 with 1 Axes>"
      ]
     },
     "metadata": {},
     "output_type": "display_data"
    }
   ],
   "source": [
    "tg = direct_target_generator(dataset, 'input_Tac', [0, 1, 2])\n",
    "dtg2 = delayed_target_generator(2, dataset, 'input_Tac', [0, 1, 2])\n",
    "dtg4 = delayed_target_generator(4, dataset, 'input_Tac', [0, 1, 2])\n",
    "dtg8 = delayed_target_generator(8, dataset, 'input_Tac', [0, 1, 2])\n",
    "\n",
    "base = next(tg)\n",
    "delayed2 = next(dtg2)\n",
    "delayed4 = next(dtg4)\n",
    "delayed8 = next(dtg8)\n",
    "\n",
    "x_base = np.arange(0, len(base))\n",
    "x_delayed2 = np.arange(-2, len(delayed2) - 2)\n",
    "x_delayed4 = np.arange(-4, len(delayed4) - 4)\n",
    "x_delayed8 = np.arange(-8, len(delayed8) - 8)\n",
    "\n",
    "with plt.style.context('ggplot'):\n",
    "  fig, ax = plt.subplots(1, 1, figsize=(12, 4), constrained_layout=True)\n",
    "\n",
    "  ax.plot(x_base, base , label='Original signal')\n",
    "  ax.plot(x_delayed2, delayed2, label='2-step delay')\n",
    "  ax.plot(x_delayed4, delayed4, label='4-step delay')\n",
    "  ax.plot(x_delayed8, delayed8, label='8-step delay')\n",
    "\n",
    "  x_ticks = np.arange(0, len(base) + 1, 24)\n",
    "  ax.set_xticks(x_ticks)\n",
    "  ax.set_xticklabels([f'day {i}' for i in range(len(x_ticks))])\n",
    "\n",
    "  ax.legend()\n",
    "\n",
    "  fig.suptitle('Delay line task based on \"input_Tac\"')\n",
    "  plt.show()"
   ]
  },
  {
   "cell_type": "markdown",
   "metadata": {},
   "source": [
    "#### Polynomial transformation\n",
    "\n",
    "The reservoir must predict a polynomial transformation of an input signal."
   ]
  },
  {
   "cell_type": "code",
   "execution_count": 78,
   "metadata": {},
   "outputs": [
    {
     "name": "stdout",
     "output_type": "stream",
     "text": [
      "Target shape: (168,)\n"
     ]
    }
   ],
   "source": [
    "def polytransform_target_generator(exponent, dataset, target, run_ids):\n",
    "  base_targets = direct_target_generator(dataset, target, run_ids)\n",
    "  for base in base_targets:\n",
    "    yield base ** exponent\n",
    "\n",
    "pttg = polytransform_target_generator(2, dataset, 'input_Tac', [0, 1, 2])\n",
    "print(f'Target shape: {next(pttg).shape}')"
   ]
  },
  {
   "cell_type": "code",
   "execution_count": 86,
   "metadata": {},
   "outputs": [
    {
     "data": {
      "image/png": "[encoded data removed]",
      "text/plain": [
       "<Figure size 864x288 with 1 Axes>"
      ]
     },
     "metadata": {},
     "output_type": "display_data"
    }
   ],
   "source": [
    "tg = direct_target_generator(dataset, 'input_Tac', [0, 1, 2])\n",
    "pttg2 = polytransform_target_generator(2, dataset, 'input_Tac', [0, 1, 2])\n",
    "pttg4 = polytransform_target_generator(4, dataset, 'input_Tac', [0, 1, 2])\n",
    "pttg8 = polytransform_target_generator(8, dataset, 'input_Tac', [0, 1, 2])\n",
    "\n",
    "base = next(tg)\n",
    "exponent2 = next(pttg2)\n",
    "exponent4 = next(pttg4)\n",
    "exponent8 = next(pttg8)\n",
    "base = (base - base.mean()) / base.std()\n",
    "exponent2 = (exponent2 - exponent2.mean()) / exponent2.std()\n",
    "exponent4 = (exponent4 - exponent4.mean()) / exponent4.std()\n",
    "exponent8 = (exponent8 - exponent8.mean()) / exponent8.std()\n",
    "\n",
    "with plt.style.context('ggplot'):\n",
    "  fig, ax = plt.subplots(1, 1, figsize=(12, 4), constrained_layout=True)\n",
    "\n",
    "  ax.plot( base, label='Original signal')\n",
    "  ax.plot(exponent2, label='2nd power')\n",
    "  ax.plot(exponent4, label='4th power')\n",
    "  ax.plot(exponent8, label='8th power')\n",
    "\n",
    "  x_ticks = np.arange(0, len(base) + 1, 24)\n",
    "  ax.set_xticks(x_ticks)\n",
    "  ax.set_xticklabels([f'day {i}' for i in range(len(x_ticks))])\n",
    "\n",
    "  # ax.set_yscale('log')\n",
    "\n",
    "  ax.legend()\n",
    "\n",
    "  fig.suptitle('Polynomial transform task based on \"input_Tac\", standardized to 0 mean 1 variance')\n",
    "  plt.show()"
   ]
  },
  {
   "cell_type": "markdown",
   "metadata": {},
   "source": [
    "#### NARMA Benchmark\n",
    "\n",
    "Computational benchmark for reservoir computers."
   ]
  },
  {
   "cell_type": "markdown",
   "metadata": {},
   "source": [
    "## FITTING READOUT FUNCTIONS"
   ]
  },
  {
   "cell_type": "code",
   "execution_count": 33,
   "metadata": {},
   "outputs": [
    {
     "name": "stdout",
     "output_type": "stream",
     "text": [
      "Collecting readout performance data on 8 target signals:\n",
      "\t- input_Tac\n",
      "\t- input_u\n",
      "\t- input_hs\n",
      "\t- input_Rg\n",
      "\t- output_Rg\n",
      "\t- output_An\n",
      "\t- output_E\n",
      "\t- output_Tleaf\n"
     ]
    }
   ],
   "source": [
    "all_targets = [\n",
    "  *input_targets,\n",
    "  *output_targets\n",
    "]\n",
    "\n",
    "print(f'Collecting readout performance data on {len(all_targets)} target signals:')\n",
    "for (name, _) in all_targets:\n",
    "  print(f'\\t- {name}')"
   ]
  },
  {
   "cell_type": "code",
   "execution_count": 22,
   "metadata": {},
   "outputs": [
    {
     "name": "stdout",
     "output_type": "stream",
     "text": [
      "Performing 88 fits...\n"
     ]
    },
    {
     "name": "stderr",
     "output_type": "stream",
     "text": [
      "100%|██████████| 88/88 [00:16<00:00,  5.19it/s]\n"
     ]
    }
   ],
   "source": [
    "from tqdm import tqdm\n",
    "\n",
    "from src.learning.training import perform_gridsearch\n",
    "\n",
    "from data_generators import direct_reservoir_generator\n",
    "from learning import group_by_day\n",
    "\n",
    "\n",
    "state_variables = dataset.get_state_variables()\n",
    "\n",
    "total_loops = len(state_variables) * len(all_targets)\n",
    "print(f'Performing {total_loops} fits...')\n",
    "\n",
    "models = {}\n",
    "results = []\n",
    "\n",
    "with tqdm(total=total_loops) as pbar:\n",
    "\n",
    "    for state_var in state_variables:\n",
    "\n",
    "        # the reservoir is the same for every target\n",
    "        reservoir_run_list = list(direct_reservoir_generator(dataset, state_var, RUN_IDS, STATE_SIZE, random_state=42))\n",
    "\n",
    "        for (target_name, target_generator) in all_targets:\n",
    "            # Preprocess data for model fit\n",
    "            X, y = preprocess_data(dataset, RUN_IDS, target_generator, reservoir_run_list, STATE_SIZE,\n",
    "                                warmup_steps=WARMUP_STEPS, day_mask=DAY_MASK)\n",
    "            \n",
    "            # Generate group labels and make train/test split\n",
    "            days_per_run = X.shape[1] // DAY_MASK.sum()\n",
    "            groups = group_by_day(X, days_per_run)\n",
    "            train, test = train_test_split_blocks(X, y, groups, TEST_RATIO, INTERVAL_LENGTH)\n",
    "            X_train, y_train, groups_train = train\n",
    "\n",
    "            # fit model\n",
    "            model, scores = perform_gridsearch(readout, X_train, y_train, groups_train, folds, search_grid, verbose=False)\n",
    "            (train_mean, train_std), (cv_mean, cv_std) = scores\n",
    "\n",
    "            # determine test score\n",
    "            X_test, y_test, _ = test\n",
    "            test_score = scorer(model, X_test, y_test)\n",
    "            models[(target_name, state_var)] = model\n",
    "            results.append({\n",
    "                'target': target_name,\n",
    "                'state_var': state_var,\n",
    "                'test_score': test_score,\n",
    "                'train_mean': train_mean,\n",
    "                'train_std': train_std,\n",
    "                'cv_mean': cv_mean,\n",
    "                'cv_std': cv_std\n",
    "            })\n",
    "            pbar.update(1)\n"
   ]
  },
  {
   "cell_type": "markdown",
   "metadata": {},
   "source": [
    "### Store results"
   ]
  },
  {
   "cell_type": "code",
   "execution_count": 32,
   "metadata": {},
   "outputs": [
    {
     "data": {
      "text/html": [
       "<div>\n",
       "<style scoped>\n",
       "    .dataframe tbody tr th:only-of-type {\n",
       "        vertical-align: middle;\n",
       "    }\n",
       "\n",
       "    .dataframe tbody tr th {\n",
       "        vertical-align: top;\n",
       "    }\n",
       "\n",
       "    .dataframe thead th {\n",
       "        text-align: right;\n",
       "    }\n",
       "</style>\n",
       "<table border=\"1\" class=\"dataframe\">\n",
       "  <thead>\n",
       "    <tr style=\"text-align: right;\">\n",
       "      <th></th>\n",
       "      <th>test_score</th>\n",
       "      <th>cv_mean</th>\n",
       "    </tr>\n",
       "    <tr>\n",
       "      <th>state_var</th>\n",
       "      <th></th>\n",
       "      <th></th>\n",
       "    </tr>\n",
       "  </thead>\n",
       "  <tbody>\n",
       "    <tr>\n",
       "      <th>state_An</th>\n",
       "      <td>-0.535314</td>\n",
       "      <td>-0.511366</td>\n",
       "    </tr>\n",
       "    <tr>\n",
       "      <th>state_E</th>\n",
       "      <td>-0.409964</td>\n",
       "      <td>-0.404094</td>\n",
       "    </tr>\n",
       "    <tr>\n",
       "      <th>state_Eabs</th>\n",
       "      <td>-0.657299</td>\n",
       "      <td>-0.563379</td>\n",
       "    </tr>\n",
       "    <tr>\n",
       "      <th>state_Ei</th>\n",
       "      <td>-0.657299</td>\n",
       "      <td>-0.563379</td>\n",
       "    </tr>\n",
       "    <tr>\n",
       "      <th>state_Flux</th>\n",
       "      <td>-0.408823</td>\n",
       "      <td>-0.405483</td>\n",
       "    </tr>\n",
       "    <tr>\n",
       "      <th>state_FluxC</th>\n",
       "      <td>-0.535165</td>\n",
       "      <td>-0.510660</td>\n",
       "    </tr>\n",
       "    <tr>\n",
       "      <th>state_Tlc</th>\n",
       "      <td>-0.233090</td>\n",
       "      <td>-0.229533</td>\n",
       "    </tr>\n",
       "    <tr>\n",
       "      <th>state_gb</th>\n",
       "      <td>-0.972978</td>\n",
       "      <td>-0.894151</td>\n",
       "    </tr>\n",
       "    <tr>\n",
       "      <th>state_gs</th>\n",
       "      <td>-0.514811</td>\n",
       "      <td>-0.509837</td>\n",
       "    </tr>\n",
       "    <tr>\n",
       "      <th>state_psi_head</th>\n",
       "      <td>-0.405983</td>\n",
       "      <td>-0.382808</td>\n",
       "    </tr>\n",
       "    <tr>\n",
       "      <th>state_u</th>\n",
       "      <td>-0.995142</td>\n",
       "      <td>-0.945264</td>\n",
       "    </tr>\n",
       "  </tbody>\n",
       "</table>\n",
       "</div>"
      ],
      "text/plain": [
       "                test_score   cv_mean\n",
       "state_var                           \n",
       "state_An         -0.535314 -0.511366\n",
       "state_E          -0.409964 -0.404094\n",
       "state_Eabs       -0.657299 -0.563379\n",
       "state_Ei         -0.657299 -0.563379\n",
       "state_Flux       -0.408823 -0.405483\n",
       "state_FluxC      -0.535165 -0.510660\n",
       "state_Tlc        -0.233090 -0.229533\n",
       "state_gb         -0.972978 -0.894151\n",
       "state_gs         -0.514811 -0.509837\n",
       "state_psi_head   -0.405983 -0.382808\n",
       "state_u          -0.995142 -0.945264"
      ]
     },
     "execution_count": 32,
     "metadata": {},
     "output_type": "execute_result"
    }
   ],
   "source": [
    "# import arrow\n",
    "\n",
    "# time_string = arrow.get().format('YYYY-MM-DD_HH.mm.ss')\n",
    "\n",
    "results_df = pd.DataFrame.from_dict(results)\n",
    "results_df = results_df.set_index(['target', 'state_var'])\n",
    "results_df.head()\n",
    "results_df.to_csv(f'test_results.csv')\n",
    "\n",
    "results_df.loc['input_Tac'][['test_score', 'cv_mean']]"
   ]
  },
  {
   "cell_type": "markdown",
   "metadata": {},
   "source": [
    "#### Some analysis of test results"
   ]
  },
  {
   "cell_type": "code",
   "execution_count": 36,
   "metadata": {},
   "outputs": [
    {
     "data": {
      "text/html": [
       "<div>\n",
       "<style scoped>\n",
       "    .dataframe tbody tr th:only-of-type {\n",
       "        vertical-align: middle;\n",
       "    }\n",
       "\n",
       "    .dataframe tbody tr th {\n",
       "        vertical-align: top;\n",
       "    }\n",
       "\n",
       "    .dataframe thead th {\n",
       "        text-align: right;\n",
       "    }\n",
       "</style>\n",
       "<table border=\"1\" class=\"dataframe\">\n",
       "  <thead>\n",
       "    <tr style=\"text-align: right;\">\n",
       "      <th></th>\n",
       "      <th></th>\n",
       "      <th>test_score</th>\n",
       "      <th>train_mean</th>\n",
       "      <th>train_std</th>\n",
       "      <th>cv_mean</th>\n",
       "      <th>cv_std</th>\n",
       "    </tr>\n",
       "    <tr>\n",
       "      <th>target</th>\n",
       "      <th>state_var</th>\n",
       "      <th></th>\n",
       "      <th></th>\n",
       "      <th></th>\n",
       "      <th></th>\n",
       "      <th></th>\n",
       "    </tr>\n",
       "  </thead>\n",
       "  <tbody>\n",
       "    <tr>\n",
       "      <th>input_Tac</th>\n",
       "      <th>state_Tlc</th>\n",
       "      <td>-0.233090</td>\n",
       "      <td>-0.220761</td>\n",
       "      <td>0.003945</td>\n",
       "      <td>-0.229533</td>\n",
       "      <td>0.018073</td>\n",
       "    </tr>\n",
       "    <tr>\n",
       "      <th>output_Tleaf</th>\n",
       "      <th>state_Tlc</th>\n",
       "      <td>-0.249496</td>\n",
       "      <td>-0.240216</td>\n",
       "      <td>0.004097</td>\n",
       "      <td>-0.247436</td>\n",
       "      <td>0.018610</td>\n",
       "    </tr>\n",
       "    <tr>\n",
       "      <th>input_u</th>\n",
       "      <th>state_u</th>\n",
       "      <td>-0.295020</td>\n",
       "      <td>-0.291508</td>\n",
       "      <td>0.006023</td>\n",
       "      <td>-0.294529</td>\n",
       "      <td>0.022312</td>\n",
       "    </tr>\n",
       "    <tr>\n",
       "      <th rowspan=\"2\" valign=\"top\">input_Rg</th>\n",
       "      <th>state_Eabs</th>\n",
       "      <td>-0.311191</td>\n",
       "      <td>-0.298981</td>\n",
       "      <td>0.001914</td>\n",
       "      <td>-0.302033</td>\n",
       "      <td>0.007340</td>\n",
       "    </tr>\n",
       "    <tr>\n",
       "      <th>state_Ei</th>\n",
       "      <td>-0.311191</td>\n",
       "      <td>-0.298981</td>\n",
       "      <td>0.001914</td>\n",
       "      <td>-0.302033</td>\n",
       "      <td>0.007340</td>\n",
       "    </tr>\n",
       "    <tr>\n",
       "      <th>input_u</th>\n",
       "      <th>state_gb</th>\n",
       "      <td>-0.317892</td>\n",
       "      <td>-0.315156</td>\n",
       "      <td>0.004140</td>\n",
       "      <td>-0.318500</td>\n",
       "      <td>0.015063</td>\n",
       "    </tr>\n",
       "    <tr>\n",
       "      <th>input_Rg</th>\n",
       "      <th>state_Tlc</th>\n",
       "      <td>-0.337594</td>\n",
       "      <td>-0.309007</td>\n",
       "      <td>0.002757</td>\n",
       "      <td>-0.317083</td>\n",
       "      <td>0.011057</td>\n",
       "    </tr>\n",
       "    <tr>\n",
       "      <th>output_E</th>\n",
       "      <th>state_psi_head</th>\n",
       "      <td>-0.348631</td>\n",
       "      <td>-0.316259</td>\n",
       "      <td>0.004675</td>\n",
       "      <td>-0.320432</td>\n",
       "      <td>0.018450</td>\n",
       "    </tr>\n",
       "    <tr>\n",
       "      <th>input_Rg</th>\n",
       "      <th>state_psi_head</th>\n",
       "      <td>-0.357667</td>\n",
       "      <td>-0.312422</td>\n",
       "      <td>0.003370</td>\n",
       "      <td>-0.320098</td>\n",
       "      <td>0.014035</td>\n",
       "    </tr>\n",
       "    <tr>\n",
       "      <th>output_Tleaf</th>\n",
       "      <th>state_psi_head</th>\n",
       "      <td>-0.375311</td>\n",
       "      <td>-0.337086</td>\n",
       "      <td>0.001181</td>\n",
       "      <td>-0.353503</td>\n",
       "      <td>0.011393</td>\n",
       "    </tr>\n",
       "  </tbody>\n",
       "</table>\n",
       "</div>"
      ],
      "text/plain": [
       "                             test_score  train_mean  train_std   cv_mean  \\\n",
       "target       state_var                                                     \n",
       "input_Tac    state_Tlc        -0.233090   -0.220761   0.003945 -0.229533   \n",
       "output_Tleaf state_Tlc        -0.249496   -0.240216   0.004097 -0.247436   \n",
       "input_u      state_u          -0.295020   -0.291508   0.006023 -0.294529   \n",
       "input_Rg     state_Eabs       -0.311191   -0.298981   0.001914 -0.302033   \n",
       "             state_Ei         -0.311191   -0.298981   0.001914 -0.302033   \n",
       "input_u      state_gb         -0.317892   -0.315156   0.004140 -0.318500   \n",
       "input_Rg     state_Tlc        -0.337594   -0.309007   0.002757 -0.317083   \n",
       "output_E     state_psi_head   -0.348631   -0.316259   0.004675 -0.320432   \n",
       "input_Rg     state_psi_head   -0.357667   -0.312422   0.003370 -0.320098   \n",
       "output_Tleaf state_psi_head   -0.375311   -0.337086   0.001181 -0.353503   \n",
       "\n",
       "                               cv_std  \n",
       "target       state_var                 \n",
       "input_Tac    state_Tlc       0.018073  \n",
       "output_Tleaf state_Tlc       0.018610  \n",
       "input_u      state_u         0.022312  \n",
       "input_Rg     state_Eabs      0.007340  \n",
       "             state_Ei        0.007340  \n",
       "input_u      state_gb        0.015063  \n",
       "input_Rg     state_Tlc       0.011057  \n",
       "output_E     state_psi_head  0.018450  \n",
       "input_Rg     state_psi_head  0.014035  \n",
       "output_Tleaf state_psi_head  0.011393  "
      ]
     },
     "execution_count": 36,
     "metadata": {},
     "output_type": "execute_result"
    }
   ],
   "source": [
    "results_sorted = results_df.sort_values('test_score', ascending=False)\n",
    "results_sorted.head(10)"
   ]
  },
  {
   "cell_type": "code",
   "execution_count": 46,
   "metadata": {},
   "outputs": [
    {
     "data": {
      "text/html": [
       "<div>\n",
       "<style scoped>\n",
       "    .dataframe tbody tr th:only-of-type {\n",
       "        vertical-align: middle;\n",
       "    }\n",
       "\n",
       "    .dataframe tbody tr th {\n",
       "        vertical-align: top;\n",
       "    }\n",
       "\n",
       "    .dataframe thead th {\n",
       "        text-align: right;\n",
       "    }\n",
       "</style>\n",
       "<table border=\"1\" class=\"dataframe\">\n",
       "  <thead>\n",
       "    <tr style=\"text-align: right;\">\n",
       "      <th></th>\n",
       "      <th>test_score</th>\n",
       "      <th>train_mean</th>\n",
       "      <th>train_std</th>\n",
       "      <th>cv_mean</th>\n",
       "      <th>cv_std</th>\n",
       "    </tr>\n",
       "    <tr>\n",
       "      <th>target</th>\n",
       "      <th></th>\n",
       "      <th></th>\n",
       "      <th></th>\n",
       "      <th></th>\n",
       "      <th></th>\n",
       "    </tr>\n",
       "  </thead>\n",
       "  <tbody>\n",
       "    <tr>\n",
       "      <th>input_Rg</th>\n",
       "      <td>9</td>\n",
       "      <td>9</td>\n",
       "      <td>9</td>\n",
       "      <td>9</td>\n",
       "      <td>9</td>\n",
       "    </tr>\n",
       "    <tr>\n",
       "      <th>input_Tac</th>\n",
       "      <td>4</td>\n",
       "      <td>4</td>\n",
       "      <td>4</td>\n",
       "      <td>4</td>\n",
       "      <td>4</td>\n",
       "    </tr>\n",
       "    <tr>\n",
       "      <th>input_u</th>\n",
       "      <td>2</td>\n",
       "      <td>2</td>\n",
       "      <td>2</td>\n",
       "      <td>2</td>\n",
       "      <td>2</td>\n",
       "    </tr>\n",
       "    <tr>\n",
       "      <th>output_E</th>\n",
       "      <td>9</td>\n",
       "      <td>9</td>\n",
       "      <td>9</td>\n",
       "      <td>9</td>\n",
       "      <td>9</td>\n",
       "    </tr>\n",
       "    <tr>\n",
       "      <th>output_Rg</th>\n",
       "      <td>6</td>\n",
       "      <td>6</td>\n",
       "      <td>6</td>\n",
       "      <td>6</td>\n",
       "      <td>6</td>\n",
       "    </tr>\n",
       "    <tr>\n",
       "      <th>output_Tleaf</th>\n",
       "      <td>7</td>\n",
       "      <td>7</td>\n",
       "      <td>7</td>\n",
       "      <td>7</td>\n",
       "      <td>7</td>\n",
       "    </tr>\n",
       "  </tbody>\n",
       "</table>\n",
       "</div>"
      ],
      "text/plain": [
       "              test_score  train_mean  train_std  cv_mean  cv_std\n",
       "target                                                          \n",
       "input_Rg               9           9          9        9       9\n",
       "input_Tac              4           4          4        4       4\n",
       "input_u                2           2          2        2       2\n",
       "output_E               9           9          9        9       9\n",
       "output_Rg              6           6          6        6       6\n",
       "output_Tleaf           7           7          7        7       7"
      ]
     },
     "execution_count": 46,
     "metadata": {},
     "output_type": "execute_result"
    }
   ],
   "source": [
    "results_sorted_top = results_sorted[results_sorted['test_score'] > -0.5]\n",
    "\n",
    "results_sorted_top.groupby('target').count()"
   ]
  },
  {
   "cell_type": "code",
   "execution_count": 47,
   "metadata": {},
   "outputs": [
    {
     "data": {
      "text/html": [
       "<div>\n",
       "<style scoped>\n",
       "    .dataframe tbody tr th:only-of-type {\n",
       "        vertical-align: middle;\n",
       "    }\n",
       "\n",
       "    .dataframe tbody tr th {\n",
       "        vertical-align: top;\n",
       "    }\n",
       "\n",
       "    .dataframe thead th {\n",
       "        text-align: right;\n",
       "    }\n",
       "</style>\n",
       "<table border=\"1\" class=\"dataframe\">\n",
       "  <thead>\n",
       "    <tr style=\"text-align: right;\">\n",
       "      <th></th>\n",
       "      <th>test_score</th>\n",
       "      <th>train_mean</th>\n",
       "      <th>train_std</th>\n",
       "      <th>cv_mean</th>\n",
       "      <th>cv_std</th>\n",
       "    </tr>\n",
       "    <tr>\n",
       "      <th>state_var</th>\n",
       "      <th></th>\n",
       "      <th></th>\n",
       "      <th></th>\n",
       "      <th></th>\n",
       "      <th></th>\n",
       "    </tr>\n",
       "  </thead>\n",
       "  <tbody>\n",
       "    <tr>\n",
       "      <th>state_An</th>\n",
       "      <td>3</td>\n",
       "      <td>3</td>\n",
       "      <td>3</td>\n",
       "      <td>3</td>\n",
       "      <td>3</td>\n",
       "    </tr>\n",
       "    <tr>\n",
       "      <th>state_E</th>\n",
       "      <td>5</td>\n",
       "      <td>5</td>\n",
       "      <td>5</td>\n",
       "      <td>5</td>\n",
       "      <td>5</td>\n",
       "    </tr>\n",
       "    <tr>\n",
       "      <th>state_Eabs</th>\n",
       "      <td>3</td>\n",
       "      <td>3</td>\n",
       "      <td>3</td>\n",
       "      <td>3</td>\n",
       "      <td>3</td>\n",
       "    </tr>\n",
       "    <tr>\n",
       "      <th>state_Ei</th>\n",
       "      <td>3</td>\n",
       "      <td>3</td>\n",
       "      <td>3</td>\n",
       "      <td>3</td>\n",
       "      <td>3</td>\n",
       "    </tr>\n",
       "    <tr>\n",
       "      <th>state_Flux</th>\n",
       "      <td>5</td>\n",
       "      <td>5</td>\n",
       "      <td>5</td>\n",
       "      <td>5</td>\n",
       "      <td>5</td>\n",
       "    </tr>\n",
       "    <tr>\n",
       "      <th>state_FluxC</th>\n",
       "      <td>3</td>\n",
       "      <td>3</td>\n",
       "      <td>3</td>\n",
       "      <td>3</td>\n",
       "      <td>3</td>\n",
       "    </tr>\n",
       "    <tr>\n",
       "      <th>state_Tlc</th>\n",
       "      <td>5</td>\n",
       "      <td>5</td>\n",
       "      <td>5</td>\n",
       "      <td>5</td>\n",
       "      <td>5</td>\n",
       "    </tr>\n",
       "    <tr>\n",
       "      <th>state_gb</th>\n",
       "      <td>1</td>\n",
       "      <td>1</td>\n",
       "      <td>1</td>\n",
       "      <td>1</td>\n",
       "      <td>1</td>\n",
       "    </tr>\n",
       "    <tr>\n",
       "      <th>state_gs</th>\n",
       "      <td>3</td>\n",
       "      <td>3</td>\n",
       "      <td>3</td>\n",
       "      <td>3</td>\n",
       "      <td>3</td>\n",
       "    </tr>\n",
       "    <tr>\n",
       "      <th>state_psi_head</th>\n",
       "      <td>5</td>\n",
       "      <td>5</td>\n",
       "      <td>5</td>\n",
       "      <td>5</td>\n",
       "      <td>5</td>\n",
       "    </tr>\n",
       "    <tr>\n",
       "      <th>state_u</th>\n",
       "      <td>1</td>\n",
       "      <td>1</td>\n",
       "      <td>1</td>\n",
       "      <td>1</td>\n",
       "      <td>1</td>\n",
       "    </tr>\n",
       "  </tbody>\n",
       "</table>\n",
       "</div>"
      ],
      "text/plain": [
       "                test_score  train_mean  train_std  cv_mean  cv_std\n",
       "state_var                                                         \n",
       "state_An                 3           3          3        3       3\n",
       "state_E                  5           5          5        5       5\n",
       "state_Eabs               3           3          3        3       3\n",
       "state_Ei                 3           3          3        3       3\n",
       "state_Flux               5           5          5        5       5\n",
       "state_FluxC              3           3          3        3       3\n",
       "state_Tlc                5           5          5        5       5\n",
       "state_gb                 1           1          1        1       1\n",
       "state_gs                 3           3          3        3       3\n",
       "state_psi_head           5           5          5        5       5\n",
       "state_u                  1           1          1        1       1"
      ]
     },
     "execution_count": 47,
     "metadata": {},
     "output_type": "execute_result"
    }
   ],
   "source": [
    "results_sorted_top.groupby('state_var').count()\n"
   ]
  },
  {
   "cell_type": "code",
   "execution_count": null,
   "metadata": {},
   "outputs": [],
   "source": []
  }
 ],
 "metadata": {
  "interpreter": {
   "hash": "4121734fd62df77af0346899b5494e4291ab6203437ffd47de4eeaba662aa73c"
  },
  "kernelspec": {
   "display_name": "Python 3.9.7 ('rc-plants')",
   "language": "python",
   "name": "python3"
  },
  "language_info": {
   "codemirror_mode": {
    "name": "ipython",
    "version": 3
   },
   "file_extension": ".py",
   "mimetype": "text/x-python",
   "name": "python",
   "nbconvert_exporter": "python",
   "pygments_lexer": "ipython3",
   "version": "3.9.7"
  },
  "orig_nbformat": 4
 },
 "nbformat": 4,
 "nbformat_minor": 2
}
