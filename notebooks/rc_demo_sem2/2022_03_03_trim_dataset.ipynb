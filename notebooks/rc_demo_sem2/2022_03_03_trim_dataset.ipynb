{
 "cells": [
  {
   "cell_type": "code",
   "execution_count": 1,
   "metadata": {},
   "outputs": [],
   "source": [
    "import sys, os\n",
    "import numpy as np\n",
    "import pandas as pd\n",
    "import matplotlib\n",
    "from matplotlib import pyplot as plt\n",
    "\n",
    "sys.path.insert(1, os.path.join(sys.path[0], '../../'))  # for importing local packages from src"
   ]
  },
  {
   "cell_type": "code",
   "execution_count": 2,
   "metadata": {},
   "outputs": [],
   "source": [
    "from src.model.rc_dataset import ExperimentDataset \n",
    "\n",
    "csv_path = '../datasets/hydroshoot_large.csv'\n",
    "dataset = pd.read_csv(csv_path)"
   ]
  },
  {
   "cell_type": "code",
   "execution_count": 8,
   "metadata": {},
   "outputs": [
    {
     "name": "stdout",
     "output_type": "stream",
     "text": [
      "['state_id', 'state_type', 'state_An', 'state_E', 'state_Eabs', 'state_Ei', 'state_Flux', 'state_FluxC', 'state_Tlc', 'state_gb', 'state_gs', 'state_psi_head', 'state_u']\n"
     ]
    }
   ],
   "source": [
    "useful_state_vars = ['An', 'E', 'Eabs', 'Ei', 'Flux', 'FluxC', 'Tlc', 'gb', 'gs', 'psi_head', 'u']\n",
    "useful_state_vars = [f'state_{var}' for var in useful_state_vars]\n",
    "useful_state_vars = ['state_id', 'state_type'] + useful_state_vars\n",
    "\n",
    "print(useful_state_vars)"
   ]
  },
  {
   "cell_type": "code",
   "execution_count": 6,
   "metadata": {},
   "outputs": [
    {
     "data": {
      "text/plain": [
       "Index(['run_id', 'time', 'type', 'input_Tac', 'input_u', 'input_hs',\n",
       "       'input_Rg', 'output_Rg', 'output_An', 'output_E', 'output_Tleaf',\n",
       "       'state_id', 'state_type', 'state_Ci', 'state_gb', 'state_Ei',\n",
       "       'state_FluxC', 'state_Tlc', 'state_An', 'state_Flux', 'state_psi_head',\n",
       "       'state_u', 'state_E', 'state_Eabs', 'state_gs', 'state_par_photo.dHd'],\n",
       "      dtype='object')"
      ]
     },
     "execution_count": 6,
     "metadata": {},
     "output_type": "execute_result"
    }
   ],
   "source": [
    "dataset.columns"
   ]
  },
  {
   "cell_type": "code",
   "execution_count": 10,
   "metadata": {},
   "outputs": [
    {
     "name": "stdout",
     "output_type": "stream",
     "text": [
      "['run_id', 'time', 'type', 'input_Tac', 'input_u', 'input_hs', 'input_Rg', 'output_Rg', 'output_An', 'output_E', 'output_Tleaf']\n"
     ]
    }
   ],
   "source": [
    "non_state_cols = [col for col in dataset.columns if not col.startswith('state_')]\n",
    "print(non_state_cols)"
   ]
  },
  {
   "cell_type": "code",
   "execution_count": 12,
   "metadata": {},
   "outputs": [
    {
     "name": "stdout",
     "output_type": "stream",
     "text": [
      "['run_id', 'time', 'type', 'input_Tac', 'input_u', 'input_hs', 'input_Rg', 'output_Rg', 'output_An', 'output_E', 'output_Tleaf', 'state_id', 'state_type', 'state_An', 'state_E', 'state_Eabs', 'state_Ei', 'state_Flux', 'state_FluxC', 'state_Tlc', 'state_gb', 'state_gs', 'state_psi_head', 'state_u']\n"
     ]
    }
   ],
   "source": [
    "desired_cols = non_state_cols + useful_state_vars\n",
    "print(desired_cols)"
   ]
  },
  {
   "cell_type": "code",
   "execution_count": 17,
   "metadata": {},
   "outputs": [],
   "source": [
    "dataset_new = dataset[desired_cols]"
   ]
  },
  {
   "cell_type": "code",
   "execution_count": 19,
   "metadata": {},
   "outputs": [
    {
     "name": "stdout",
     "output_type": "stream",
     "text": [
      "Index(['run_id', 'time', 'type', 'input_Tac', 'input_u', 'input_hs',\n",
      "       'input_Rg', 'output_Rg', 'output_An', 'output_E', 'output_Tleaf',\n",
      "       'state_id', 'state_type', 'state_Ci', 'state_gb', 'state_Ei',\n",
      "       'state_FluxC', 'state_Tlc', 'state_An', 'state_Flux', 'state_psi_head',\n",
      "       'state_u', 'state_E', 'state_Eabs', 'state_gs', 'state_par_photo.dHd'],\n",
      "      dtype='object')\n",
      "Index(['run_id', 'time', 'type', 'input_Tac', 'input_u', 'input_hs',\n",
      "       'input_Rg', 'output_Rg', 'output_An', 'output_E', 'output_Tleaf',\n",
      "       'state_id', 'state_type', 'state_An', 'state_E', 'state_Eabs',\n",
      "       'state_Ei', 'state_Flux', 'state_FluxC', 'state_Tlc', 'state_gb',\n",
      "       'state_gs', 'state_psi_head', 'state_u'],\n",
      "      dtype='object')\n"
     ]
    }
   ],
   "source": [
    "print(dataset.columns)\n",
    "print(dataset_new.columns)"
   ]
  },
  {
   "cell_type": "code",
   "execution_count": 20,
   "metadata": {},
   "outputs": [],
   "source": [
    "dataset_new.to_csv('../datasets/hydroshoot_large_trimmed.csv', index=False)"
   ]
  }
 ],
 "metadata": {
  "interpreter": {
   "hash": "04a64457de5b45a4cf9d405f9723986dbe2f7842d7a179c7ed7ce1d91c9733b0"
  },
  "kernelspec": {
   "display_name": "Python 3.9.7 ('rc-plants')",
   "language": "python",
   "name": "python3"
  },
  "language_info": {
   "codemirror_mode": {
    "name": "ipython",
    "version": 3
   },
   "file_extension": ".py",
   "mimetype": "text/x-python",
   "name": "python",
   "nbconvert_exporter": "python",
   "pygments_lexer": "ipython3",
   "version": "3.9.7"
  },
  "orig_nbformat": 4
 },
 "nbformat": 4,
 "nbformat_minor": 2
}
