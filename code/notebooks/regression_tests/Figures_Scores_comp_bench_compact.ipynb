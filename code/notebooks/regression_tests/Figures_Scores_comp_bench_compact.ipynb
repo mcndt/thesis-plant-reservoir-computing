{
 "cells": [
  {
   "cell_type": "code",
   "execution_count": 1,
   "metadata": {},
   "outputs": [],
   "source": [
    "import pandas as pd\n",
    "import numpy as np\n",
    "import sys, os\n",
    "import seaborn as sns\n",
    "\n",
    "from matplotlib import pyplot as plt\n",
    "sys.path.insert(1, os.path.join(sys.path[0], '../../'))  # for importing local packages from src\n",
    "sys.path.insert(1, os.path.join(sys.path[0], '../'))  # for importing model config\n",
    "\n",
    "%reload_ext autoreload\n",
    "%autoreload 2 \n",
    "\n",
    "plt.rcParams.update({\n",
    "    \"text.usetex\": True,\n",
    "    \"font.family\": \"serif\",\n",
    "    \"font.serif\": [\"Palatino\"],\n",
    "})\n",
    "plt.rcParams['text.latex.preamble'] = r'\\usepackage{amsmath} \\usepackage{gensymb} \\usepackage{siunitx}'\n",
    "plt.rcParams['font.size'] = 15\n",
    "plt.rcParams['legend.fontsize'] = 12"
   ]
  },
  {
   "cell_type": "markdown",
   "metadata": {},
   "source": [
    "## Loading Scores"
   ]
  },
  {
   "cell_type": "code",
   "execution_count": 2,
   "metadata": {},
   "outputs": [],
   "source": [
    "hs_scores = pd.read_csv('results_hydroshoot_comp_bench_16sample.csv', index_col=0)\n",
    "cn_scores = pd.read_csv('results_cnwheat_comp_bench_16sample.csv', index_col=0)"
   ]
  },
  {
   "cell_type": "code",
   "execution_count": 3,
   "metadata": {},
   "outputs": [
    {
     "data": {
      "text/html": [
       "<div>\n",
       "<style scoped>\n",
       "    .dataframe tbody tr th:only-of-type {\n",
       "        vertical-align: middle;\n",
       "    }\n",
       "\n",
       "    .dataframe tbody tr th {\n",
       "        vertical-align: top;\n",
       "    }\n",
       "\n",
       "    .dataframe thead th {\n",
       "        text-align: right;\n",
       "    }\n",
       "</style>\n",
       "<table border=\"1\" class=\"dataframe\">\n",
       "  <thead>\n",
       "    <tr style=\"text-align: right;\">\n",
       "      <th></th>\n",
       "      <th>target_id</th>\n",
       "      <th>reservoir_id</th>\n",
       "      <th>dataset_id</th>\n",
       "      <th>benchmark</th>\n",
       "      <th>delay</th>\n",
       "      <th>test_score</th>\n",
       "      <th>train_mean</th>\n",
       "      <th>train_std</th>\n",
       "      <th>cv_mean</th>\n",
       "      <th>cv_std</th>\n",
       "      <th>state_sample</th>\n",
       "      <th>exponent</th>\n",
       "      <th>narma_n</th>\n",
       "    </tr>\n",
       "  </thead>\n",
       "  <tbody>\n",
       "    <tr>\n",
       "      <th>0</th>\n",
       "      <td>input_air_temperature</td>\n",
       "      <td>state__An</td>\n",
       "      <td>NEMA_combined</td>\n",
       "      <td>delay_line</td>\n",
       "      <td>0.0</td>\n",
       "      <td>-0.290477</td>\n",
       "      <td>-0.218761</td>\n",
       "      <td>0.005905</td>\n",
       "      <td>-0.803800</td>\n",
       "      <td>0.675349</td>\n",
       "      <td>0</td>\n",
       "      <td>NaN</td>\n",
       "      <td>NaN</td>\n",
       "    </tr>\n",
       "    <tr>\n",
       "      <th>1</th>\n",
       "      <td>input_air_temperature</td>\n",
       "      <td>state__An</td>\n",
       "      <td>NEMA_combined</td>\n",
       "      <td>delay_line</td>\n",
       "      <td>1.0</td>\n",
       "      <td>-0.330086</td>\n",
       "      <td>-0.304668</td>\n",
       "      <td>0.007241</td>\n",
       "      <td>-0.908178</td>\n",
       "      <td>0.703427</td>\n",
       "      <td>0</td>\n",
       "      <td>NaN</td>\n",
       "      <td>NaN</td>\n",
       "    </tr>\n",
       "    <tr>\n",
       "      <th>2</th>\n",
       "      <td>input_air_temperature</td>\n",
       "      <td>state__An</td>\n",
       "      <td>NEMA_combined</td>\n",
       "      <td>delay_line</td>\n",
       "      <td>2.0</td>\n",
       "      <td>-0.431197</td>\n",
       "      <td>-0.419962</td>\n",
       "      <td>0.008846</td>\n",
       "      <td>-1.139554</td>\n",
       "      <td>0.812363</td>\n",
       "      <td>0</td>\n",
       "      <td>NaN</td>\n",
       "      <td>NaN</td>\n",
       "    </tr>\n",
       "    <tr>\n",
       "      <th>3</th>\n",
       "      <td>input_air_temperature</td>\n",
       "      <td>state__An</td>\n",
       "      <td>NEMA_combined</td>\n",
       "      <td>delay_line</td>\n",
       "      <td>3.0</td>\n",
       "      <td>-0.496025</td>\n",
       "      <td>-0.497113</td>\n",
       "      <td>0.009993</td>\n",
       "      <td>-1.339715</td>\n",
       "      <td>1.033583</td>\n",
       "      <td>0</td>\n",
       "      <td>NaN</td>\n",
       "      <td>NaN</td>\n",
       "    </tr>\n",
       "    <tr>\n",
       "      <th>4</th>\n",
       "      <td>input_air_temperature</td>\n",
       "      <td>state__An</td>\n",
       "      <td>NEMA_combined</td>\n",
       "      <td>delay_line</td>\n",
       "      <td>4.0</td>\n",
       "      <td>-0.536821</td>\n",
       "      <td>-0.535028</td>\n",
       "      <td>0.010271</td>\n",
       "      <td>-1.499929</td>\n",
       "      <td>1.300277</td>\n",
       "      <td>0</td>\n",
       "      <td>NaN</td>\n",
       "      <td>NaN</td>\n",
       "    </tr>\n",
       "  </tbody>\n",
       "</table>\n",
       "</div>"
      ],
      "text/plain": [
       "               target_id reservoir_id     dataset_id   benchmark  delay  \\\n",
       "0  input_air_temperature    state__An  NEMA_combined  delay_line    0.0   \n",
       "1  input_air_temperature    state__An  NEMA_combined  delay_line    1.0   \n",
       "2  input_air_temperature    state__An  NEMA_combined  delay_line    2.0   \n",
       "3  input_air_temperature    state__An  NEMA_combined  delay_line    3.0   \n",
       "4  input_air_temperature    state__An  NEMA_combined  delay_line    4.0   \n",
       "\n",
       "   test_score  train_mean  train_std   cv_mean    cv_std  state_sample  \\\n",
       "0   -0.290477   -0.218761   0.005905 -0.803800  0.675349             0   \n",
       "1   -0.330086   -0.304668   0.007241 -0.908178  0.703427             0   \n",
       "2   -0.431197   -0.419962   0.008846 -1.139554  0.812363             0   \n",
       "3   -0.496025   -0.497113   0.009993 -1.339715  1.033583             0   \n",
       "4   -0.536821   -0.535028   0.010271 -1.499929  1.300277             0   \n",
       "\n",
       "   exponent  narma_n  \n",
       "0       NaN      NaN  \n",
       "1       NaN      NaN  \n",
       "2       NaN      NaN  \n",
       "3       NaN      NaN  \n",
       "4       NaN      NaN  "
      ]
     },
     "execution_count": 3,
     "metadata": {},
     "output_type": "execute_result"
    }
   ],
   "source": [
    "cn_scores.head()"
   ]
  },
  {
   "cell_type": "code",
   "execution_count": 4,
   "metadata": {},
   "outputs": [
    {
     "data": {
      "text/html": [
       "<div>\n",
       "<style scoped>\n",
       "    .dataframe tbody tr th:only-of-type {\n",
       "        vertical-align: middle;\n",
       "    }\n",
       "\n",
       "    .dataframe tbody tr th {\n",
       "        vertical-align: top;\n",
       "    }\n",
       "\n",
       "    .dataframe thead th {\n",
       "        text-align: right;\n",
       "    }\n",
       "</style>\n",
       "<table border=\"1\" class=\"dataframe\">\n",
       "  <thead>\n",
       "    <tr style=\"text-align: right;\">\n",
       "      <th></th>\n",
       "      <th>target_id</th>\n",
       "      <th>reservoir_id</th>\n",
       "      <th>dataset_id</th>\n",
       "      <th>benchmark</th>\n",
       "      <th>delay</th>\n",
       "      <th>test_score</th>\n",
       "      <th>train_mean</th>\n",
       "      <th>train_std</th>\n",
       "      <th>cv_mean</th>\n",
       "      <th>cv_std</th>\n",
       "      <th>state_sample</th>\n",
       "      <th>exponent</th>\n",
       "      <th>narma_n</th>\n",
       "    </tr>\n",
       "  </thead>\n",
       "  <tbody>\n",
       "    <tr>\n",
       "      <th>0</th>\n",
       "      <td>input_Tac</td>\n",
       "      <td>state_An</td>\n",
       "      <td>HydroShoot_large</td>\n",
       "      <td>delay_line</td>\n",
       "      <td>0.0</td>\n",
       "      <td>-0.417873</td>\n",
       "      <td>-0.423934</td>\n",
       "      <td>0.009412</td>\n",
       "      <td>-0.490868</td>\n",
       "      <td>0.050836</td>\n",
       "      <td>0</td>\n",
       "      <td>NaN</td>\n",
       "      <td>NaN</td>\n",
       "    </tr>\n",
       "    <tr>\n",
       "      <th>1</th>\n",
       "      <td>input_Tac</td>\n",
       "      <td>state_An</td>\n",
       "      <td>HydroShoot_large</td>\n",
       "      <td>delay_line</td>\n",
       "      <td>1.0</td>\n",
       "      <td>-0.429286</td>\n",
       "      <td>-0.417137</td>\n",
       "      <td>0.012187</td>\n",
       "      <td>-0.474252</td>\n",
       "      <td>0.056607</td>\n",
       "      <td>0</td>\n",
       "      <td>NaN</td>\n",
       "      <td>NaN</td>\n",
       "    </tr>\n",
       "    <tr>\n",
       "      <th>2</th>\n",
       "      <td>input_Tac</td>\n",
       "      <td>state_An</td>\n",
       "      <td>HydroShoot_large</td>\n",
       "      <td>delay_line</td>\n",
       "      <td>2.0</td>\n",
       "      <td>-0.494562</td>\n",
       "      <td>-0.463405</td>\n",
       "      <td>0.012251</td>\n",
       "      <td>-0.516563</td>\n",
       "      <td>0.055123</td>\n",
       "      <td>0</td>\n",
       "      <td>NaN</td>\n",
       "      <td>NaN</td>\n",
       "    </tr>\n",
       "    <tr>\n",
       "      <th>3</th>\n",
       "      <td>input_Tac</td>\n",
       "      <td>state_An</td>\n",
       "      <td>HydroShoot_large</td>\n",
       "      <td>delay_line</td>\n",
       "      <td>3.0</td>\n",
       "      <td>-0.558891</td>\n",
       "      <td>-0.521565</td>\n",
       "      <td>0.011008</td>\n",
       "      <td>-0.576197</td>\n",
       "      <td>0.050801</td>\n",
       "      <td>0</td>\n",
       "      <td>NaN</td>\n",
       "      <td>NaN</td>\n",
       "    </tr>\n",
       "    <tr>\n",
       "      <th>4</th>\n",
       "      <td>input_Tac</td>\n",
       "      <td>state_An</td>\n",
       "      <td>HydroShoot_large</td>\n",
       "      <td>delay_line</td>\n",
       "      <td>4.0</td>\n",
       "      <td>-0.606285</td>\n",
       "      <td>-0.575558</td>\n",
       "      <td>0.011391</td>\n",
       "      <td>-0.634520</td>\n",
       "      <td>0.053562</td>\n",
       "      <td>0</td>\n",
       "      <td>NaN</td>\n",
       "      <td>NaN</td>\n",
       "    </tr>\n",
       "  </tbody>\n",
       "</table>\n",
       "</div>"
      ],
      "text/plain": [
       "   target_id reservoir_id        dataset_id   benchmark  delay  test_score  \\\n",
       "0  input_Tac     state_An  HydroShoot_large  delay_line    0.0   -0.417873   \n",
       "1  input_Tac     state_An  HydroShoot_large  delay_line    1.0   -0.429286   \n",
       "2  input_Tac     state_An  HydroShoot_large  delay_line    2.0   -0.494562   \n",
       "3  input_Tac     state_An  HydroShoot_large  delay_line    3.0   -0.558891   \n",
       "4  input_Tac     state_An  HydroShoot_large  delay_line    4.0   -0.606285   \n",
       "\n",
       "   train_mean  train_std   cv_mean    cv_std  state_sample  exponent  narma_n  \n",
       "0   -0.423934   0.009412 -0.490868  0.050836             0       NaN      NaN  \n",
       "1   -0.417137   0.012187 -0.474252  0.056607             0       NaN      NaN  \n",
       "2   -0.463405   0.012251 -0.516563  0.055123             0       NaN      NaN  \n",
       "3   -0.521565   0.011008 -0.576197  0.050801             0       NaN      NaN  \n",
       "4   -0.575558   0.011391 -0.634520  0.053562             0       NaN      NaN  "
      ]
     },
     "execution_count": 4,
     "metadata": {},
     "output_type": "execute_result"
    }
   ],
   "source": [
    "hs_scores.head()"
   ]
  },
  {
   "cell_type": "markdown",
   "metadata": {},
   "source": [
    "### Data normalization"
   ]
  },
  {
   "cell_type": "code",
   "execution_count": 5,
   "metadata": {},
   "outputs": [],
   "source": [
    "input_names = [\n",
    "  'input_temp',\n",
    "  'input_solar',\n",
    "]\n",
    "\n",
    "hs_input_map = {\n",
    "  'input_Tac': 'input_temp',\n",
    "  'input_Rg': 'input_solar',\n",
    "}\n",
    "\n",
    "cn_input_map = {\n",
    "  'input_air_temperature': 'input_temp',\n",
    "  'input_PARi': 'input_solar',\n",
    "}\n",
    "\n",
    "hs_scores.target_id = hs_scores.target_id.apply(lambda x: hs_input_map[x] if x in hs_input_map else x)\n",
    "cn_scores.target_id = cn_scores.target_id.apply(lambda x: cn_input_map[x] if x in cn_input_map else x)\n",
    "\n",
    "cn_scores.reservoir_id = cn_scores.reservoir_id.apply(lambda x : x.replace('__', '_'))\n",
    "cn_scores.reservoir_id = cn_scores.reservoir_id.apply(lambda x : x.replace('state_Tr', 'state_E'))\n",
    "hs_scores.reservoir_id = hs_scores.reservoir_id.apply(lambda x : x.replace('state_Tlc', 'state_Ts'))\n",
    "\n",
    "cn_scores.dataset_id = 'CN-Wheat'\n",
    "hs_scores.dataset_id = 'HydroShoot'"
   ]
  },
  {
   "cell_type": "markdown",
   "metadata": {},
   "source": [
    "## Figures"
   ]
  },
  {
   "cell_type": "code",
   "execution_count": 6,
   "metadata": {},
   "outputs": [],
   "source": [
    "input_baselines = [\n",
    "  'env_temp',\n",
    "  'env_PAR',\n",
    "]\n",
    "\n",
    "target_baseline_map = {\n",
    "  'input_temp': 'env_temp',\n",
    "  'input_solar': 'env_PAR',\n",
    "}\n",
    "\n",
    "reservoirs = [\n",
    "  'state_Ts',\n",
    "  'state_E',\n",
    "]\n",
    "\n",
    "datasets = ['HydroShoot', 'CN-Wheat']"
   ]
  },
  {
   "cell_type": "code",
   "execution_count": 7,
   "metadata": {},
   "outputs": [],
   "source": [
    "def get_benchmark_scores(benchmark):\n",
    "  cn_bench_scores = cn_scores.loc[cn_scores.target_id.isin(input_names)]\n",
    "  cn_bench_scores = cn_bench_scores.loc[cn_bench_scores.reservoir_id.isin(reservoirs + input_baselines)]\n",
    "  cn_bench_scores = cn_bench_scores.loc[cn_bench_scores.benchmark == benchmark]\n",
    "  \n",
    "  hs_bench_scores = hs_scores.loc[hs_scores.target_id.isin(input_names)]\n",
    "  hs_bench_scores = hs_bench_scores.loc[hs_bench_scores.reservoir_id.isin(reservoirs + input_baselines)]\n",
    "  hs_bench_scores = hs_bench_scores.loc[hs_bench_scores.benchmark == benchmark]\n",
    "\n",
    "  bench_scores = pd.concat([cn_bench_scores, hs_bench_scores])\n",
    "  bench_scores.test_score *= -1\n",
    "  return bench_scores"
   ]
  },
  {
   "cell_type": "code",
   "execution_count": 8,
   "metadata": {},
   "outputs": [],
   "source": [
    "res_symbols = {\n",
    "  'state_An': r'$A_n$',\n",
    "  'state_Ts': r'$T_s$',\n",
    "  'state_gs': r'$g_s$',\n",
    "  'state_E': r'$E$',\n",
    "  'state_Flux': r'$F$',\n",
    "  'state_psi_head': r'$\\Psi$',\n",
    "}\n",
    "res_symbols = {k: f'$\\\\boldsymbol{{{v[1:-1]}}}$' for k, v in res_symbols.items()}\n",
    "\n",
    "\n",
    "input_symbols = {\n",
    "  'input_temp': r'$T_{\\text{air}}$',\n",
    "  'input_solar': r'$\\text{PAR}$',\n",
    "}\n",
    "input_symbols = {k: f'$\\\\boldsymbol{{{v[1:-1]}}}$' for k, v in input_symbols.items()}"
   ]
  },
  {
   "cell_type": "code",
   "execution_count": 9,
   "metadata": {},
   "outputs": [],
   "source": [
    "from matplotlib.ticker import (MultipleLocator, FormatStrFormatter,\n",
    "                               AutoMinorLocator, FixedFormatter, FixedLocator)"
   ]
  },
  {
   "cell_type": "markdown",
   "metadata": {},
   "source": [
    "### Delay line"
   ]
  },
  {
   "cell_type": "code",
   "execution_count": 10,
   "metadata": {},
   "outputs": [],
   "source": [
    "delay_scores = get_benchmark_scores('delay_line')"
   ]
  },
  {
   "cell_type": "code",
   "execution_count": 74,
   "metadata": {},
   "outputs": [
    {
     "data": {
      "image/png": "[encoded data removed]",
      "text/plain": [
       "<Figure size 396x288 with 4 Axes>"
      ]
     },
     "metadata": {
      "needs_background": "light"
     },
     "output_type": "display_data"
    }
   ],
   "source": [
    "with plt.style.context('seaborn-muted'):\n",
    "  fig, axs = plt.subplots(2, 2, figsize=(5.5, 4), sharey=True, sharex=True)\n",
    "  colors = sns.color_palette()\n",
    "\n",
    "  for row, axs_row, target in zip([0, 1], axs, input_names):\n",
    "    for col, ax, dataset in zip([0, 1], axs_row, datasets):\n",
    "      \n",
    "      # Data\n",
    "      color = colors[col]\n",
    "      plot_data = delay_scores.loc[\n",
    "        (delay_scores.dataset_id == dataset) & \n",
    "        (delay_scores.target_id == target) &\n",
    "        (delay_scores.reservoir_id.isin(reservoirs + [target_baseline_map[target]]))\n",
    "      ]\n",
    "      sns.lineplot(data=plot_data, x='delay', y='test_score', hue='reservoir_id', style='reservoir_id',\n",
    "                   dashes=True, markers=True, ax=ax, markersize=7, err_style='bars', palette=[color, color, 'grey'], ci='sd')\n",
    "\n",
    "      # Labeling\n",
    "      # ax.set_title(f'{target} / {dataset}')\n",
    "      ax.set(xlabel=r'Delay [\\unit{h}]', ylabel='NMSE')\n",
    "      if col == 1:\n",
    "        ax.annotate(input_symbols[target], (1.13, 0.5), xycoords='axes fraction', va='center', \n",
    "                    rotation=90, ha='center', fontsize=17)\n",
    "      if row == 0:\n",
    "        ax.annotate(f'\\\\textbf{{{dataset}}}', (0.5, 1.07), xycoords='axes fraction', ha='center', fontsize=16)\n",
    "\n",
    "      # Axes\n",
    "      ax.xaxis.set_major_locator(MultipleLocator(2))\n",
    "      ax.xaxis.set_minor_locator(MultipleLocator(1))\n",
    "      ax.yaxis.set_major_locator(MultipleLocator(.5))\n",
    "      ax.yaxis.set_minor_locator(MultipleLocator(.25))\n",
    "      ax.grid(axis='x', linestyle='solid', color='lightgrey', which='both')\n",
    "      ax.grid(axis='y', linestyle='dashed', color='lightgrey', which='both')\n",
    "      ax.tick_params(axis='both', which='both', labelsize=12)\n",
    "      ax.set_ylim(-0.1, 1.2)\n",
    "      ax.axhline(1, color='black', dashes=(2,2))\n",
    "      if ax is axs.flatten()[0]:\n",
    "        ax.annotate('baseline', (0.015, 0.88), fontsize=14, xycoords='axes fraction')\n",
    "\n",
    "      # Cleanup\n",
    "      if ax is axs.flatten()[0]:\n",
    "        labels = [f\"{res_symbols[l]} reservoir\" for l in ax.get_legend_handles_labels()[1][:-1]] + ['Linear model']\n",
    "        fig.legend(labels, loc='lower center', fancybox=False, shadow=False, ncol=3, \n",
    "                   frameon=True, edgecolor='black', bbox_to_anchor=(0.5, -0.065), fontsize=12)\n",
    "      ax.get_legend().remove()\n",
    "\n",
    "\n",
    "  plt.tight_layout()\n",
    "  plt.subplots_adjust(wspace=0, hspace=0)  \n",
    "  plt.savefig('comp_delay_perf_compact.png', dpi=200, facecolor='white', bbox_inches='tight')\n"
   ]
  },
  {
   "cell_type": "markdown",
   "metadata": {},
   "source": [
    "### Polynomial"
   ]
  },
  {
   "cell_type": "code",
   "execution_count": 12,
   "metadata": {},
   "outputs": [
    {
     "name": "stdout",
     "output_type": "stream",
     "text": [
      "(2304, 13)\n"
     ]
    }
   ],
   "source": [
    "polynomial_scores = get_benchmark_scores('polynomial')\n",
    "print(polynomial_scores.shape)"
   ]
  },
  {
   "cell_type": "code",
   "execution_count": 76,
   "metadata": {},
   "outputs": [
    {
     "data": {
      "image/png": "[encoded data removed]",
      "text/plain": [
       "<Figure size 396x288 with 4 Axes>"
      ]
     },
     "metadata": {
      "needs_background": "light"
     },
     "output_type": "display_data"
    }
   ],
   "source": [
    "with plt.style.context('seaborn-muted'):\n",
    "  fig, axs = plt.subplots(2, 2, figsize=(5.5, 4), sharey=True, sharex=True)\n",
    "  colors = sns.color_palette()\n",
    "\n",
    "  for row, axs_row, target in zip([0, 1], axs, input_names):\n",
    "    for col, ax, dataset in zip([0, 1], axs_row, datasets):\n",
    "      \n",
    "      # Data\n",
    "      color = colors[col]\n",
    "      plot_data = polynomial_scores.loc[\n",
    "        (polynomial_scores.dataset_id == dataset) & \n",
    "        (polynomial_scores.target_id == target) &\n",
    "        (polynomial_scores.reservoir_id.isin(reservoirs + [target_baseline_map[target]]))\n",
    "      ]\n",
    "      sns.lineplot(data=plot_data, x='exponent', y='test_score', hue='reservoir_id', style='reservoir_id',\n",
    "                   dashes=True, markers=True, ax=ax, markersize=7, err_style='bars', ci='sd', palette=[color, color, 'grey'])\n",
    "\n",
    "      # Labeling\n",
    "      # ax.set_title(f'{target} / {dataset}')\n",
    "      ax.set(xlabel=r'Polynomial degree', ylabel='NMSE')\n",
    "      if col == 1:\n",
    "        ax.annotate(input_symbols[target], (1.13, 0.5), xycoords='axes fraction', va='center', \n",
    "                    rotation=90, ha='center', fontsize=17)\n",
    "      if row == 0:\n",
    "        ax.annotate(f'\\\\textbf{{{dataset}}}', (0.5, 1.07), xycoords='axes fraction', ha='center', fontsize=16)\n",
    "\n",
    "      # Axes\n",
    "      ax.xaxis.set_major_locator(FixedLocator([1, 3, 5, 7, 9]))\n",
    "      ax.xaxis.set_minor_locator(MultipleLocator(1))\n",
    "      ax.yaxis.set_major_locator(MultipleLocator(.5))\n",
    "      ax.yaxis.set_minor_locator(MultipleLocator(.25))\n",
    "      ax.grid(axis='x', linestyle='solid', color='lightgrey', which='both')\n",
    "      ax.grid(axis='y', linestyle='dashed', color='lightgrey', which='both')\n",
    "      ax.tick_params(axis='both', which='both', labelsize=12)\n",
    "      ax.set_ylim(-0.1, 1.2)\n",
    "      ax.axhline(1, color='black', dashes=(2,2))\n",
    "      if ax is axs.flatten()[0]:\n",
    "        ax.annotate('baseline', (0.015, 0.88), fontsize=14, xycoords='axes fraction')\n",
    "\n",
    "      # Cleanup\n",
    "      if ax is axs.flatten()[0]:\n",
    "        labels = [f\"{res_symbols[l]} reservoir\" for l in ax.get_legend_handles_labels()[1][:-1]] + ['Linear model']\n",
    "        fig.legend(labels, loc='lower center', fancybox=False, shadow=False, ncol=3, \n",
    "                   frameon=True, edgecolor='black', bbox_to_anchor=(0.5, -0.065), fontsize=12)\n",
    "      ax.get_legend().remove()\n",
    "\n",
    "\n",
    "  plt.tight_layout()\n",
    "  plt.subplots_adjust(wspace=0, hspace=0)    \n",
    "  plt.savefig('comp_polynomial_perf_compact.png', dpi=200, facecolor='white', bbox_inches='tight')\n"
   ]
  },
  {
   "cell_type": "markdown",
   "metadata": {},
   "source": [
    "### NARMA"
   ]
  },
  {
   "cell_type": "code",
   "execution_count": 14,
   "metadata": {},
   "outputs": [
    {
     "name": "stdout",
     "output_type": "stream",
     "text": [
      "(1536, 13)\n"
     ]
    }
   ],
   "source": [
    "narma_scores = get_benchmark_scores('NARMA')\n",
    "narma_scores.narma_n = narma_scores.narma_n.apply(lambda x: int(x))\n",
    "print(narma_scores.shape)"
   ]
  },
  {
   "cell_type": "code",
   "execution_count": 96,
   "metadata": {},
   "outputs": [
    {
     "data": {
      "image/png": "[encoded data removed]",
      "text/plain": [
       "<Figure size 396x288 with 4 Axes>"
      ]
     },
     "metadata": {
      "needs_background": "light"
     },
     "output_type": "display_data"
    }
   ],
   "source": [
    "with plt.style.context('seaborn-muted'):\n",
    "  fig, axs = plt.subplots(2, 2, figsize=(5.5, 4), sharey=True, sharex=True)\n",
    "  colors = sns.color_palette()\n",
    "\n",
    "  all_labels = []\n",
    "  all_handles = []\n",
    "\n",
    "  for row, axs_row, target in zip([0,1], axs, input_names):\n",
    "    for col, ax, dataset in zip([0, 1], axs_row, datasets):\n",
    "      \n",
    "      # Data\n",
    "      color = colors[col]\n",
    "      color_alt = list(map(lambda x: 0.65 * x, color))\n",
    "      plot_data = narma_scores.loc[\n",
    "        (narma_scores.dataset_id == dataset) & \n",
    "        (narma_scores.target_id == target) &\n",
    "        (narma_scores.reservoir_id.isin(reservoirs + [target_baseline_map[target]]))\n",
    "      ]\n",
    "      # sns.lineplot(data=plot_data, x='narma_n', y='test_score', hue='reservoir_id', style='reservoir_id',\n",
    "                  #  dashes=True, markers=True, ax=ax, markersize=8, err_style='bars', palette=[color, color, 'grey'])\n",
    "\n",
    "      sns.barplot(data=plot_data, x='narma_n', y='test_score', hue='reservoir_id', ax=ax, \n",
    "                  palette=[color, color_alt, 'grey'], edgecolor=\"white\", ci='sd')\n",
    "\n",
    "      ax.set(xlabel=None, ylabel=None)\n",
    "      # Labeling\n",
    "      if col == 0:\n",
    "        ax.set(ylabel='NMSE')\n",
    "      if col == 1:\n",
    "        ax.annotate(input_symbols[target], (1.13, 0.5), xycoords='axes fraction', va='center', \n",
    "                    rotation=90, ha='center', fontsize=17)\n",
    "      if row == 0:\n",
    "        ax.annotate(f'\\\\textbf{{{dataset}}}', (0.5, 1.07), xycoords='axes fraction', ha='center', fontsize=16)\n",
    "      if row == 1:\n",
    "        ax.set(xlabel=r'NARMA $n$')\n",
    "\n",
    "\n",
    "      # Axes\n",
    "      ax.set_axisbelow(True)\n",
    "      ax.yaxis.set_major_locator(MultipleLocator(.5))\n",
    "      ax.yaxis.set_minor_locator(MultipleLocator(.25))\n",
    "      ax.grid(axis='y', linestyle='dashed', color='lightgrey', which='both')\n",
    "      ax.tick_params(axis='both', which='both', labelsize=12)\n",
    "    \n",
    "      ax.set_ylim(0, 1.2)\n",
    "      ax.axhline(1, color='black', dashes=(2,2))\n",
    "      if ax is axs.flatten()[0]:\n",
    "        ax.annotate('baseline', (0.015, 0.88), fontsize=14, xycoords='axes fraction')\n",
    "\n",
    "      # Cleanup\n",
    "      if row == 0:\n",
    "        handles, labels = ax.get_legend_handles_labels()\n",
    "        labels = [f\"{res_symbols[l]} reservoir\" for l in ax.get_legend_handles_labels()[1][:-1]] + ['Linear model']\n",
    "        # ax.legend(handles, labels, loc='upper center', ncol=3)\n",
    "        all_labels += labels\n",
    "        all_handles += handles\n",
    "      ax.get_legend().remove()\n",
    "\n",
    "  del all_handles[2]\n",
    "  del all_labels[2]\n",
    "  fig.legend(all_handles, all_labels, loc='lower center', fancybox=False, shadow=False, ncol=3, \n",
    "              frameon=True, edgecolor='black', bbox_to_anchor=(0.5, -0.12), fontsize=12)\n",
    "\n",
    "  plt.tight_layout()\n",
    "  plt.subplots_adjust(wspace=0, hspace=0)  \n",
    "  plt.savefig('comp_NARMA_perf_compact.png', dpi=200, facecolor='white', bbox_inches='tight')\n"
   ]
  },
  {
   "cell_type": "code",
   "execution_count": null,
   "metadata": {},
   "outputs": [],
   "source": []
  }
 ],
 "metadata": {
  "interpreter": {
   "hash": "4121734fd62df77af0346899b5494e4291ab6203437ffd47de4eeaba662aa73c"
  },
  "kernelspec": {
   "display_name": "Python 3.9.7 ('rc-plants')",
   "language": "python",
   "name": "python3"
  },
  "language_info": {
   "codemirror_mode": {
    "name": "ipython",
    "version": 3
   },
   "file_extension": ".py",
   "mimetype": "text/x-python",
   "name": "python",
   "nbconvert_exporter": "python",
   "pygments_lexer": "ipython3",
   "version": "3.9.7"
  },
  "orig_nbformat": 4
 },
 "nbformat": 4,
 "nbformat_minor": 2
}
