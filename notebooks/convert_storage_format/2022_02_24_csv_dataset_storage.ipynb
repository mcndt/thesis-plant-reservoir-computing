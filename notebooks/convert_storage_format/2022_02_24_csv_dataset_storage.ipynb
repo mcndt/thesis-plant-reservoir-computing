{
 "cells": [
  {
   "cell_type": "markdown",
   "metadata": {},
   "source": [
    "## New dataset storage format and loader class\n",
    "\n",
    "All data for an experiment will be cast into a **single CSV file**.  Each row starts with a **type column**: value of `INPUT | OUTPUT | RESERVOIR`. Each row also has common columns across all types:\n",
    "\n",
    "- `seq_id`: unique identifier of the experiment\n",
    "- `run_id`: unique id within the experiment of the simulation run\n",
    "- `time`: record time of this data entry\n",
    "\n",
    "The other populated columns are dependent on the value of the type column:\n",
    "\n",
    "- `in_{VARNAME}` for INPUT type variables.\n",
    "- `out_{VARNAME}` for OUTPUT type variables.\n",
    "- `state_{VARNAME}` for RESERVOIR type variables.\n",
    "- `state_id` for a unique identifier of the observed point (e.g. leaf_01)\n",
    "- `state_type` for metadata about the observed state (e.g. leaf, stem, …)\n"
   ]
  },
  {
   "cell_type": "code",
   "execution_count": 103,
   "metadata": {},
   "outputs": [],
   "source": [
    "import pandas as pd\n",
    "import numpy as np"
   ]
  },
  {
   "cell_type": "markdown",
   "metadata": {},
   "source": [
    "### Restructuring existing HydroShoot data\n",
    "\n",
    "Need to save time!\n",
    "\n",
    "Pragmatic solution for Hydroshoot: load existing data from process_experiment, then rearrange it in the new format and store it. \n",
    "\n",
    "Hydroshoot experiment format -> Generalized intermediate representation -> Final representation -> CSV"
   ]
  },
  {
   "cell_type": "code",
   "execution_count": 9,
   "metadata": {},
   "outputs": [],
   "source": [
    "sys.path.insert(1, os.path.join(sys.path[0], '..'))  # for importing local packages from src\n",
    "from src.model.hydroshoot_experiment import HydroShootExperiment\n",
    "\n",
    "test_dir = 'results/gdc_can1_grapevine'\n",
    "\n",
    "hs_data = HydroShootExperiment(test_dir)"
   ]
  },
  {
   "cell_type": "markdown",
   "metadata": {},
   "source": [
    "Reformatting input data"
   ]
  },
  {
   "cell_type": "code",
   "execution_count": 35,
   "metadata": {},
   "outputs": [
    {
     "name": "stdout",
     "output_type": "stream",
     "text": [
      "                 time   type  input_Tac  input_u  input_hs  input_Rg\n",
      "0 2012-08-01 00:00:00  INPUT      20.74    0.030     53.70       0.0\n",
      "1 2012-08-01 01:00:00  INPUT      20.47    0.097     55.87       0.0\n",
      "2 2012-08-01 02:00:00  INPUT      20.07    0.334     58.04       0.0\n",
      "3 2012-08-01 03:00:00  INPUT      19.60    0.378     61.50       0.0\n",
      "4 2012-08-01 04:00:00  INPUT      18.93    0.198     66.18       0.0\n"
     ]
    }
   ],
   "source": [
    "def HydroShoot_input_df(experiment: HydroShootExperiment):\n",
    "  input_cols = experiment.inputs.loc[:, experiment.inputs.columns != 'time'].columns\n",
    "  new_names = {col : f'input_{col}' for col in input_cols}\n",
    "  input_df = experiment.inputs.rename(columns=new_names)\n",
    "  input_df = input_df.reset_index(drop=True)\n",
    "  input_df.insert(1, 'type', 'INPUT')\n",
    "  return input_df\n",
    "\n",
    "print(HydroShoot_input_df(hs_data).head())"
   ]
  },
  {
   "cell_type": "markdown",
   "metadata": {},
   "source": [
    "Reformatting output data"
   ]
  },
  {
   "cell_type": "code",
   "execution_count": 36,
   "metadata": {},
   "outputs": [
    {
     "name": "stdout",
     "output_type": "stream",
     "text": [
      "                 time    type  output_Rg  output_An      output_E  \\\n",
      "0 2012-08-01 00:00:00  OUTPUT        0.0  -1.960767  4.164749e-11   \n",
      "1 2012-08-01 01:00:00  OUTPUT        0.0  -2.153141  5.554039e-11   \n",
      "2 2012-08-01 02:00:00  OUTPUT        0.0  -2.275122  5.372938e-11   \n",
      "3 2012-08-01 03:00:00  OUTPUT        0.0  -2.224711  5.707320e-11   \n",
      "4 2012-08-01 04:00:00  OUTPUT        0.0  -2.063881  4.088476e-11   \n",
      "\n",
      "   output_Tleaf  \n",
      "0     16.620123  \n",
      "1     17.877212  \n",
      "2     18.561438  \n",
      "3     18.195865  \n",
      "4     17.112675  \n"
     ]
    }
   ],
   "source": [
    "# Renaming the columns\n",
    "def HydroShoot_output_df(experiment: HydroShootExperiment):\n",
    "  output_cols = experiment.outputs.loc[:, experiment.outputs.columns != 'time'].columns\n",
    "  new_names = {col : f'output_{col}' for col in output_cols}\n",
    "  output_df = experiment.outputs.rename(columns=new_names)\n",
    "  output_df = output_df.reset_index(drop=True)\n",
    "  output_df.insert(1, 'type', 'OUTPUT')\n",
    "\n",
    "  return output_df\n",
    "\n",
    "print(HydroShoot_output_df(hs_data).head())"
   ]
  },
  {
   "cell_type": "markdown",
   "metadata": {},
   "source": [
    "Reformatting reservoir state data"
   ]
  },
  {
   "cell_type": "code",
   "execution_count": 34,
   "metadata": {},
   "outputs": [
    {
     "name": "stdout",
     "output_type": "stream",
     "text": [
      "State variables: ('u', 'gs', 'E', 'An', 'Ei', 'Flux', 'Tlc', 'gb', 'psi_head', 'FluxC', 'Eabs', 'Ci', 'par_photo.dHd')\n",
      "State size: 360\n",
      "Steps: 96\n"
     ]
    }
   ],
   "source": [
    "print(f'State variables: {hs_data.states.get_variables()}')\n",
    "print(f'State size: {hs_data.states.state_size()}')\n",
    "print(f'Steps: {hs_data.states.n_steps()}')"
   ]
  },
  {
   "cell_type": "code",
   "execution_count": 37,
   "metadata": {},
   "outputs": [
    {
     "name": "stdout",
     "output_type": "stream",
     "text": [
      "        time   type  state_id state_type  state_u      state_gs       state_E  \\\n",
      "0 2012-08-01  STATE       500       leaf     0.03 -3.233394e-14  0.000000e+00   \n",
      "1 2012-08-01  STATE       503       leaf     0.03 -1.057920e-13  0.000000e+00   \n",
      "2 2012-08-01  STATE       505       leaf     0.03 -3.648206e-14  0.000000e+00   \n",
      "3 2012-08-01  STATE       507       leaf     0.03  3.847517e-14  2.946443e-16   \n",
      "4 2012-08-01  STATE       508       leaf     0.03  5.148654e-14  4.060563e-16   \n",
      "\n",
      "   state_An  state_Ei    state_Flux  state_Tlc  state_gb  state_psi_head  \\\n",
      "0 -0.516222       0.0  0.000000e+00  17.860072  0.230126       -0.204458   \n",
      "1 -0.498186       0.0  0.000000e+00  17.934616  0.229895       -0.204572   \n",
      "2 -0.526013       0.0  0.000000e+00  18.465255  0.201632       -0.204345   \n",
      "3 -0.513748       0.0  2.319772e-20  18.197775  0.181748       -0.204253   \n",
      "4 -0.537541       0.0  1.392108e-20  18.373517  0.201632       -0.204361   \n",
      "\n",
      "   state_FluxC  state_Eabs      state_Ci  state_par_photo.dHd  \n",
      "0    -0.000342         0.0 -2.118832e+07                200.0  \n",
      "1    -0.000332         0.0 -6.475841e+06                200.0  \n",
      "2    -0.001001         0.0 -1.877956e+07                200.0  \n",
      "3    -0.002245         0.0  1.780691e+07                200.0  \n",
      "4    -0.001023         0.0  1.330656e+07                200.0  \n"
     ]
    }
   ],
   "source": [
    "\"\"\"\n",
    "Final shape should be of form: \n",
    "| time | state_id | state_type | state_{VARNAME} |\n",
    "\"\"\"\n",
    "\n",
    "def HydroShoot_state_df(experiment: HydroShootExperiment):\n",
    "  varnames = experiment.states.get_variables()\n",
    "  state_ids = list(experiment.states._states[varnames[0]].keys())\n",
    "  steps = experiment.n_steps()\n",
    "\n",
    "  rows = []\n",
    "  for step in range(steps):\n",
    "    for state_id in state_ids:\n",
    "      row = {'time': experiment.inputs['time'].iloc[step], 'type': 'STATE', 'state_id': state_id, 'state_type': 'leaf'}\n",
    "      for varname in varnames:\n",
    "        value = experiment.states._states[varname][state_id][step]\n",
    "        row[f'state_{varname}'] = value\n",
    "      rows.append(row)\n",
    "\n",
    "  state_df = pd.DataFrame(rows)\n",
    "  return state_df\n",
    "\n",
    "print(HydroShoot_state_df(experiment).head())"
   ]
  },
  {
   "cell_type": "markdown",
   "metadata": {},
   "source": [
    "Combining into a single dataframe and dump to CSV"
   ]
  },
  {
   "cell_type": "code",
   "execution_count": 55,
   "metadata": {},
   "outputs": [],
   "source": [
    "input_df = HydroShoot_input_df(hs_data)\n",
    "output_df = HydroShoot_output_df(hs_data)\n",
    "state_df = HydroShoot_state_df(hs_data)\n",
    "\n",
    "experiment_df = pd.concat([input_df, output_df, state_df])\n",
    "experiment_df.to_csv('NEW_STORAGE/test.csv', index=False)\n"
   ]
  },
  {
   "cell_type": "markdown",
   "metadata": {},
   "source": [
    "### Loading dataset from CSV"
   ]
  },
  {
   "cell_type": "code",
   "execution_count": 57,
   "metadata": {},
   "outputs": [
    {
     "data": {
      "text/html": [
       "<div>\n",
       "<style scoped>\n",
       "    .dataframe tbody tr th:only-of-type {\n",
       "        vertical-align: middle;\n",
       "    }\n",
       "\n",
       "    .dataframe tbody tr th {\n",
       "        vertical-align: top;\n",
       "    }\n",
       "\n",
       "    .dataframe thead th {\n",
       "        text-align: right;\n",
       "    }\n",
       "</style>\n",
       "<table border=\"1\" class=\"dataframe\">\n",
       "  <thead>\n",
       "    <tr style=\"text-align: right;\">\n",
       "      <th></th>\n",
       "      <th>time</th>\n",
       "      <th>input_Tac</th>\n",
       "      <th>input_u</th>\n",
       "      <th>input_hs</th>\n",
       "      <th>input_Rg</th>\n",
       "      <th>output_Rg</th>\n",
       "      <th>output_An</th>\n",
       "      <th>output_E</th>\n",
       "      <th>output_Tleaf</th>\n",
       "      <th>state_id</th>\n",
       "      <th>...</th>\n",
       "      <th>state_An</th>\n",
       "      <th>state_Ei</th>\n",
       "      <th>state_Flux</th>\n",
       "      <th>state_Tlc</th>\n",
       "      <th>state_gb</th>\n",
       "      <th>state_psi_head</th>\n",
       "      <th>state_FluxC</th>\n",
       "      <th>state_Eabs</th>\n",
       "      <th>state_Ci</th>\n",
       "      <th>state_par_photo.dHd</th>\n",
       "    </tr>\n",
       "    <tr>\n",
       "      <th>type</th>\n",
       "      <th></th>\n",
       "      <th></th>\n",
       "      <th></th>\n",
       "      <th></th>\n",
       "      <th></th>\n",
       "      <th></th>\n",
       "      <th></th>\n",
       "      <th></th>\n",
       "      <th></th>\n",
       "      <th></th>\n",
       "      <th></th>\n",
       "      <th></th>\n",
       "      <th></th>\n",
       "      <th></th>\n",
       "      <th></th>\n",
       "      <th></th>\n",
       "      <th></th>\n",
       "      <th></th>\n",
       "      <th></th>\n",
       "      <th></th>\n",
       "      <th></th>\n",
       "    </tr>\n",
       "  </thead>\n",
       "  <tbody>\n",
       "    <tr>\n",
       "      <th>INPUT</th>\n",
       "      <td>96</td>\n",
       "      <td>96</td>\n",
       "      <td>96</td>\n",
       "      <td>96</td>\n",
       "      <td>96</td>\n",
       "      <td>0</td>\n",
       "      <td>0</td>\n",
       "      <td>0</td>\n",
       "      <td>0</td>\n",
       "      <td>0</td>\n",
       "      <td>...</td>\n",
       "      <td>0</td>\n",
       "      <td>0</td>\n",
       "      <td>0</td>\n",
       "      <td>0</td>\n",
       "      <td>0</td>\n",
       "      <td>0</td>\n",
       "      <td>0</td>\n",
       "      <td>0</td>\n",
       "      <td>0</td>\n",
       "      <td>0</td>\n",
       "    </tr>\n",
       "    <tr>\n",
       "      <th>OUTPUT</th>\n",
       "      <td>96</td>\n",
       "      <td>0</td>\n",
       "      <td>0</td>\n",
       "      <td>0</td>\n",
       "      <td>0</td>\n",
       "      <td>96</td>\n",
       "      <td>96</td>\n",
       "      <td>96</td>\n",
       "      <td>96</td>\n",
       "      <td>0</td>\n",
       "      <td>...</td>\n",
       "      <td>0</td>\n",
       "      <td>0</td>\n",
       "      <td>0</td>\n",
       "      <td>0</td>\n",
       "      <td>0</td>\n",
       "      <td>0</td>\n",
       "      <td>0</td>\n",
       "      <td>0</td>\n",
       "      <td>0</td>\n",
       "      <td>0</td>\n",
       "    </tr>\n",
       "    <tr>\n",
       "      <th>STATE</th>\n",
       "      <td>34560</td>\n",
       "      <td>0</td>\n",
       "      <td>0</td>\n",
       "      <td>0</td>\n",
       "      <td>0</td>\n",
       "      <td>0</td>\n",
       "      <td>0</td>\n",
       "      <td>0</td>\n",
       "      <td>0</td>\n",
       "      <td>34560</td>\n",
       "      <td>...</td>\n",
       "      <td>34560</td>\n",
       "      <td>34560</td>\n",
       "      <td>34560</td>\n",
       "      <td>34560</td>\n",
       "      <td>34560</td>\n",
       "      <td>34560</td>\n",
       "      <td>34560</td>\n",
       "      <td>34560</td>\n",
       "      <td>34560</td>\n",
       "      <td>34560</td>\n",
       "    </tr>\n",
       "  </tbody>\n",
       "</table>\n",
       "<p>3 rows × 24 columns</p>\n",
       "</div>"
      ],
      "text/plain": [
       "         time  input_Tac  input_u  input_hs  input_Rg  output_Rg  output_An  \\\n",
       "type                                                                          \n",
       "INPUT      96         96       96        96        96          0          0   \n",
       "OUTPUT     96          0        0         0         0         96         96   \n",
       "STATE   34560          0        0         0         0          0          0   \n",
       "\n",
       "        output_E  output_Tleaf  state_id  ...  state_An  state_Ei  state_Flux  \\\n",
       "type                                      ...                                   \n",
       "INPUT          0             0         0  ...         0         0           0   \n",
       "OUTPUT        96            96         0  ...         0         0           0   \n",
       "STATE          0             0     34560  ...     34560     34560       34560   \n",
       "\n",
       "        state_Tlc  state_gb  state_psi_head  state_FluxC  state_Eabs  \\\n",
       "type                                                                   \n",
       "INPUT           0         0               0            0           0   \n",
       "OUTPUT          0         0               0            0           0   \n",
       "STATE       34560     34560           34560        34560       34560   \n",
       "\n",
       "        state_Ci  state_par_photo.dHd  \n",
       "type                                   \n",
       "INPUT          0                    0  \n",
       "OUTPUT         0                    0  \n",
       "STATE      34560                34560  \n",
       "\n",
       "[3 rows x 24 columns]"
      ]
     },
     "execution_count": 57,
     "metadata": {},
     "output_type": "execute_result"
    }
   ],
   "source": [
    "csv_path = 'NEW_STORAGE/test.csv'\n",
    "\n",
    "dataset_df = pd.read_csv(csv_path)\n",
    "dataset_df.groupby('type').count()"
   ]
  },
  {
   "cell_type": "code",
   "execution_count": 171,
   "metadata": {},
   "outputs": [
    {
     "name": "stdout",
     "output_type": "stream",
     "text": [
      "(96, 6)\n",
      "(96, 6)\n",
      "(34560, 17)\n",
      "\n",
      "Inputs: ('input_Tac', 'input_u', 'input_hs', 'input_Rg')\n",
      "Outputs: ('output_Rg', 'output_An', 'output_E', 'output_Tleaf')\n",
      "Targets: ('input_Tac', 'input_u', 'input_hs', 'input_Rg', 'output_Rg', 'output_An', 'output_E', 'output_Tleaf')\n",
      "State: ('state_u', 'state_gs', 'state_E', 'state_An', 'state_Ei', 'state_Flux', 'state_Tlc', 'state_gb', 'state_psi_head', 'state_FluxC', 'state_Eabs', 'state_Ci', 'state_par_photo.dHd')\n",
      "n_steps: 96\n",
      "state_size: 360\n",
      "\n",
      "Input target: (96,)\n",
      "Output target: (96,)\n",
      "Reservoir state: (96, 360)\n"
     ]
    }
   ],
   "source": [
    "class ExperimentRun:\n",
    "  \"\"\"Wrapper class for handling a dataset from a single RC experiment run.\"\"\"\n",
    "\n",
    "  def __init__(self, path: str):\n",
    "    \"\"\"Load a experiment dataset from csv file.\"\"\"\n",
    "    self._inputs: pd.DataFrame = None\n",
    "    self._outputs: pd.DataFrame = None\n",
    "    self._state: pd.DataFrame = None\n",
    "    self.load_data(path)\n",
    "\n",
    "\n",
    "  def load_data(self, path: str):\n",
    "    dataset_df = pd.read_csv(csv_path)\n",
    "    self._inputs = dataset_df[dataset_df['type'] == 'INPUT'].dropna(how='all', axis=1)\n",
    "    self._outputs = dataset_df[dataset_df['type'] == 'OUTPUT'].dropna(how='all', axis=1)\n",
    "    self._state = dataset_df[dataset_df['type'] == 'STATE'].dropna(how='all', axis=1)\n",
    "    self._state['state_id'] = self._state['state_id'].astype(int)\n",
    "    assert (len(self._inputs) == len(self._outputs)), 'Input and output set have different lengths.'\n",
    "\n",
    "\n",
    "  def get_input_variables(self) -> tuple:\n",
    "    \"\"\"Get the input keys available.\"\"\"\n",
    "    input_col_names = self._inputs.columns\n",
    "    return tuple(filter(lambda x: x.startswith('input_'), input_col_names))\n",
    "\n",
    "\n",
    "  def get_output_variables(self) -> tuple:\n",
    "    \"\"\"Get the input output available.\"\"\"\n",
    "    output_col_names = self._outputs.columns\n",
    "    return tuple(filter(lambda x: x.startswith('output_'), output_col_names))\n",
    "\n",
    "\n",
    "  def get_targets(self) -> tuple:\n",
    "    \"\"\"Get the target keys available.\"\"\"\n",
    "    return (*self.get_input_variables(), *self.get_output_variables())\n",
    "\n",
    "\n",
    "  def get_state_variables(self) -> tuple:\n",
    "    \"\"\"Get the state variables available.\"\"\"\n",
    "    state_col_names = self._state.loc[:, ~self._state.columns.isin(['state_id', 'state_type'])].columns\n",
    "    return tuple(filter(lambda x: x.startswith('state_'), state_col_names))\n",
    "\n",
    "\n",
    "  def n_steps(self) -> int:\n",
    "    return len(self._inputs)\n",
    "\n",
    "\n",
    "  def state_size(self) -> int:\n",
    "    return len(self._state.groupby('state_id'))\n",
    "\n",
    "\n",
    "  def get_target(self, target_key) -> pd.Series:\n",
    "    \"Get a target signal as pandas Series by the target key.\"\n",
    "    assert (target_key in self.get_targets()), f\"{target_key} not in available targets.\"\n",
    "    source = self._inputs if target_key.startswith('input_') else self._outputs\n",
    "    target_series = source[target_key]\n",
    "    target_series.index = source['time']\n",
    "    return target_series\n",
    "\n",
    "\n",
    "  def get_state(self, state_key) -> pd.DataFrame:\n",
    "    \"Get the entire reservoir state of variable as pandas DataFrame by the state key.\"\n",
    "    assert (state_key in self.get_state_variables()), f\"{state_key} not in available state variables.\"\n",
    "    return self._state.pivot(index='time', columns=['state_id'], values=state_key)\n",
    "\n",
    "\n",
    "\n",
    "\n",
    "    \n",
    "dataset = ExperimentRun(csv_path)  \n",
    "print(dataset._inputs.shape)\n",
    "print(dataset._outputs.shape)\n",
    "print(dataset._state.shape)\n",
    "print()\n",
    "print(f'Inputs: {dataset.get_input_variables()}')\n",
    "print(f'Outputs: {dataset.get_output_variables()}')\n",
    "print(f'Targets: {dataset.get_targets()}')\n",
    "print(f'State: {dataset.get_state_variables()}')\n",
    "print(f'n_steps: {dataset.n_steps()}')\n",
    "print(f'state_size: {dataset.state_size()}')\n",
    "print()\n",
    "print('Input target:', dataset.get_target('input_Tac').shape)\n",
    "print('Output target:', dataset.get_target('output_An').shape)\n",
    "print('Reservoir state:', dataset.get_state('state_E').shape)\n",
    "\n",
    "\n",
    "\n",
    "\n"
   ]
  },
  {
   "cell_type": "code",
   "execution_count": null,
   "metadata": {},
   "outputs": [],
   "source": []
  }
 ],
 "metadata": {
  "interpreter": {
   "hash": "a9f3c9d4e0cae94601994f394c7f1bebe9832a9f191b783a132536a9bc27a9aa"
  },
  "kernelspec": {
   "display_name": "Python 3.8.12 64-bit ('hydroshoot': conda)",
   "language": "python",
   "name": "python3"
  },
  "language_info": {
   "codemirror_mode": {
    "name": "ipython",
    "version": 3
   },
   "file_extension": ".py",
   "mimetype": "text/x-python",
   "name": "python",
   "nbconvert_exporter": "python",
   "pygments_lexer": "ipython3",
   "version": "3.8.3"
  },
  "orig_nbformat": 4
 },
 "nbformat": 4,
 "nbformat_minor": 2
}
