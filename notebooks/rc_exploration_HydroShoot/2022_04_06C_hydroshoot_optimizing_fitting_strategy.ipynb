{
 "cells": [
  {
   "cell_type": "markdown",
   "metadata": {},
   "source": [
    "# Multirun experiment pipeline (HydroShoot)\n",
    "\n",
    "The following notebook establishes a generalized pipeline for evaluating a computing reservoir against a given task, given multiple experimental runs of the same reservoir.\n"
   ]
  },
  {
   "cell_type": "code",
   "execution_count": 3,
   "metadata": {},
   "outputs": [],
   "source": [
    "import pandas as pd\n",
    "import numpy as np\n",
    "\n",
    "from matplotlib import pyplot as plt\n",
    "sys.path.insert(1, os.path.join(sys.path[0], '../../'))  # for importing local packages from src"
   ]
  },
  {
   "cell_type": "markdown",
   "metadata": {},
   "source": [
    "### Loading the datasets\n",
    "\n",
    "Currently we aqree loading the HydroShoot dataset generated during the first semester."
   ]
  },
  {
   "cell_type": "code",
   "execution_count": 4,
   "metadata": {},
   "outputs": [],
   "source": [
    "DATASET_PATH = '../datasets/hydroshoot_large_trimmed.csv'"
   ]
  },
  {
   "cell_type": "code",
   "execution_count": 5,
   "metadata": {},
   "outputs": [
    {
     "name": "stdout",
     "output_type": "stream",
     "text": [
      "Dataset properties:\n",
      "\tn_runs:      84\n",
      "\tn_steps:    168\n",
      "\tstate_size: 360\n",
      "\n",
      "Available targets: \n",
      "\tinput_Tac, input_u, input_hs, input_Rg, output_Rg, output_An, output_E, output_Tleaf\n",
      "\n",
      "Available state variables: \n",
      "\tstate_An, state_E, state_Eabs, state_Ei, state_Flux, state_FluxC, state_Tlc, state_gb, state_gs, state_psi_head, state_u\n",
      "\n"
     ]
    }
   ],
   "source": [
    "from src.model.rc_dataset import ExperimentDataset\n",
    "\n",
    "dataset = ExperimentDataset(csv_path=DATASET_PATH)\n",
    "print(dataset)"
   ]
  },
  {
   "cell_type": "markdown",
   "metadata": {},
   "source": [
    "### Defining targets and observed state variables"
   ]
  },
  {
   "cell_type": "code",
   "execution_count": 7,
   "metadata": {},
   "outputs": [
    {
     "name": "stdout",
     "output_type": "stream",
     "text": [
      "Targets:\n",
      "\t- input_Tac\n",
      "\t- input_u\n",
      "\t- input_hs\n",
      "\t- input_Rg\n",
      "\t- output_Rg\n",
      "\t- output_An\n",
      "\t- output_E\n",
      "\t- output_Tleaf\n",
      "\n",
      "State variables:\n",
      "\t- state_An\n",
      "\t- state_E\n",
      "\t- state_Eabs\n",
      "\t- state_Ei\n",
      "\t- state_Flux\n",
      "\t- state_FluxC\n",
      "\t- state_Tlc\n",
      "\t- state_gb\n",
      "\t- state_gs\n",
      "\t- state_psi_head\n",
      "\t- state_u\n"
     ]
    }
   ],
   "source": [
    "%reload_ext autoreload\n",
    "%autoreload 2 \n",
    "\n",
    "from model_config import targets, state_variables\n",
    "\n",
    "print(f'Targets:')\n",
    "for target in targets:\n",
    "  print(f'\\t- {target}')\n",
    "\n",
    "print(f'\\nState variables:')\n",
    "for state_var in state_variables:\n",
    "  print(f'\\t- {state_var}')"
   ]
  },
  {
   "cell_type": "markdown",
   "metadata": {},
   "source": [
    "#### Data preprocessing, grouping and train-test splitting"
   ]
  },
  {
   "cell_type": "markdown",
   "metadata": {},
   "source": [
    "Preprocessing performed:"
   ]
  },
  {
   "cell_type": "code",
   "execution_count": 9,
   "metadata": {},
   "outputs": [
    {
     "name": "stdout",
     "output_type": "stream",
     "text": [
      "\n",
      "    Preprocessing performed: \n",
      "\n",
      "    1. The target signal for each run is computed.\n",
      "        - Target and reservoir are cast into a ndarray.\n",
      "    2. Target and reservoir signals are trimmed.\n",
      "        - A warmup mask is applied to target and reservoir.\n",
      "        - A night-time mask is applied to target and reservoir.\n",
      "    3. Target and reservoir are rescaled to zero-mean and unit variance\n",
      "        - Normalizing transform is fitted on the entire dataset of included experiment runs.\n",
      "    \n"
     ]
    }
   ],
   "source": [
    "from preprocessing import preprocess_data\n",
    "\n",
    "print(preprocess_data.__doc__)"
   ]
  },
  {
   "cell_type": "code",
   "execution_count": 11,
   "metadata": {},
   "outputs": [],
   "source": [
    "from src.learning.preprocessing import generate_mask\n",
    "\n",
    "\n",
    "STATE_SIZE = 16                         # Sixteen random nodes are selected as reservoir readouts\n",
    "RUN_IDS = np.arange(dataset.n_runs())   # All runs are used\n",
    "WARMUP_STEPS = 4 * 24                   # First 4 days of each simulation are discarded\n",
    "DAY_MASK = generate_mask(5, 21)         # All nighttime data between 5am and 9pm (inclusive) is discarded"
   ]
  },
  {
   "cell_type": "markdown",
   "metadata": {},
   "source": [
    "Grouping strategy:"
   ]
  },
  {
   "cell_type": "code",
   "execution_count": 12,
   "metadata": {},
   "outputs": [
    {
     "name": "stdout",
     "output_type": "stream",
     "text": [
      "Simulation state from the same calendar day of simulation inputs, \n",
      "    across all runs, are grouped together per day. Shape of X is assumed to be (runs, time_steps, nodes)\n",
      "\n",
      "    ```\n",
      "    GROUP 1 | GROUP 2 | GROUP 3 | GROUP 4 | ...\n",
      "    --------+---------+---------+---------+----\n",
      "    sim1/d1  sim1/d2   sim1/d3   /         /\n",
      "    /        sim2/d2   sim2/d3   sim2/d4   /       ...\n",
      "    /        /         sim3/d3   sim3/d4   sim3/d5 \n",
      "                                ...                ...\n",
      "    ```\n",
      "    \n"
     ]
    }
   ],
   "source": [
    "from learning import group_by_day\n",
    "\n",
    "print(group_by_day.__doc__)"
   ]
  }
 ],
 "metadata": {
  "interpreter": {
   "hash": "4121734fd62df77af0346899b5494e4291ab6203437ffd47de4eeaba662aa73c"
  },
  "kernelspec": {
   "display_name": "Python 3.9.7 ('rc-plants')",
   "language": "python",
   "name": "python3"
  },
  "language_info": {
   "codemirror_mode": {
    "name": "ipython",
    "version": 3
   },
   "file_extension": ".py",
   "mimetype": "text/x-python",
   "name": "python",
   "nbconvert_exporter": "python",
   "pygments_lexer": "ipython3",
   "version": "3.9.7"
  },
  "orig_nbformat": 4
 },
 "nbformat": 4,
 "nbformat_minor": 2
}
