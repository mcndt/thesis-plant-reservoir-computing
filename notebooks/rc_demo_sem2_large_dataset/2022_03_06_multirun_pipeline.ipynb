{
 "cells": [
  {
   "cell_type": "markdown",
   "metadata": {},
   "source": [
    "## Multirun experiment pipeline\n",
    "\n",
    "The following notebook establishes a generalized pipeline for evaluating a computing reservoir against a given task, given multiple experimental runs of the same reservoir.\n"
   ]
  },
  {
   "cell_type": "code",
   "execution_count": 1,
   "metadata": {},
   "outputs": [],
   "source": [
    "import sys, os\n",
    "import numpy as np\n",
    "import pandas as pd\n",
    "import matplotlib\n",
    "from matplotlib import pyplot as plt\n",
    "\n",
    "sys.path.insert(1, os.path.join(sys.path[0], '../../'))  # for importing local packages from src"
   ]
  },
  {
   "cell_type": "markdown",
   "metadata": {},
   "source": [
    "### Importing the dataset"
   ]
  },
  {
   "cell_type": "code",
   "execution_count": 2,
   "metadata": {},
   "outputs": [
    {
     "name": "stdout",
     "output_type": "stream",
     "text": [
      "Dataset properties:\n",
      "\tn_runs:      84\n",
      "\tn_steps:    168\n",
      "\tstate_size: 360\n",
      "\n",
      "Available targets: \n",
      "\tinput_Tac, input_u, input_hs, input_Rg, output_Rg, output_An, output_E, output_Tleaf\n",
      "\n",
      "Available state variables: \n",
      "\tstate_An, state_E, state_Eabs, state_Ei, state_Flux, state_FluxC, state_Tlc, state_gb, state_gs, state_psi_head, state_u\n",
      "\n"
     ]
    }
   ],
   "source": [
    "from src.model.rc_dataset import ExperimentDataset\n",
    "\n",
    "csv_path = '../datasets/hydroshoot_large_trimmed.csv'\n",
    "dataset = ExperimentDataset(csv_path=csv_path)\n",
    "print(dataset)"
   ]
  },
  {
   "cell_type": "markdown",
   "metadata": {},
   "source": [
    "### Target definition\n",
    "\n",
    "- A target is defined as a transformation of a series.\n",
    "- A target generator yields all transformed signals for all runs.\n"
   ]
  },
  {
   "cell_type": "code",
   "execution_count": 3,
   "metadata": {},
   "outputs": [
    {
     "name": "stdout",
     "output_type": "stream",
     "text": [
      "(168,)\n"
     ]
    }
   ],
   "source": [
    "def direct_target_generator(dataset: ExperimentDataset, target: str, run_ids: [int]):\n",
    "  \"\"\"Returns a function that generates the target from the run id.\"\"\"\n",
    "  assert target in dataset.get_targets(), f\"{target} not available in dataset.\"\n",
    "\n",
    "  # preload data in numpy array for performance reasons\n",
    "  data = np.empty((len(run_ids), dataset.n_steps()))\n",
    "  for run_id in run_ids:\n",
    "    data[run_id, :] = dataset.get_target(target, run_id).to_numpy()\n",
    "\n",
    "  for run_id in run_ids:\n",
    "    yield data[run_id, :]\n",
    "\n",
    "target_generator = direct_target_generator(dataset, 'input_Tac', [0, 1])\n",
    "print(next(target_generator).shape)"
   ]
  },
  {
   "cell_type": "markdown",
   "metadata": {},
   "source": [
    "### Reservoir definition\n",
    "\n",
    "- A reservoir is defined as a transformation of the dataset state.\n",
    "- A reservoir generator returns a function that yields the state data for a run id."
   ]
  },
  {
   "cell_type": "code",
   "execution_count": 4,
   "metadata": {},
   "outputs": [
    {
     "name": "stdout",
     "output_type": "stream",
     "text": [
      "(168, 360)\n"
     ]
    }
   ],
   "source": [
    "def direct_reservoir_generator(dataset: ExperimentDataset, state_var: str, run_ids: [int]):\n",
    "  \"\"\"Returns a function that generates the reservoir from the run id.\"\"\"\n",
    "  assert state_var in dataset.get_state_variables(), f\"{state_var} not available in dataset.\"\n",
    "\n",
    "  for run_id in run_ids:\n",
    "    yield dataset.get_state(state_var, run_id)\n",
    "  \n",
    "\n",
    "reservoir_generator = direct_reservoir_generator(dataset, 'state_Tlc', [0, 1])\n",
    "print(next(reservoir_generator).shape)"
   ]
  },
  {
   "cell_type": "markdown",
   "metadata": {},
   "source": [
    "### Data preprocessing\n",
    "\n",
    "Preprocessing performed: \n",
    "\n",
    "1. A random subsample of observation nodes is selected.\n",
    "2. The target signal for each run is computed.\n",
    "3. Target and reservoir are cast into a ndarray.\n",
    "4. Target and reservoir signals are trimmed.\n",
    "   - A warmup mask is applied to target and reservoir.\n",
    "   - A night-time mask is applied to target and reservoir.\n",
    "5. Target and reservoir are rescaled to zero-mean and unit variance\n",
    "   - Normalizing transform is fitted on the entire dataset of included experiment runs."
   ]
  },
  {
   "cell_type": "code",
   "execution_count": 8,
   "metadata": {},
   "outputs": [],
   "source": [
    "def get_state_random_subset(state: pd.DataFrame, state_size: int) -> pd.DataFrame:\n",
    "  choice = np.random.choice(state.shape[1], size=state_size, replace=False)\n",
    "  return state.iloc[:, choice]\n",
    "\n",
    "\n",
    "def preprocess_data(dataset, run_ids, target_generator, reservoir_generator,  \n",
    "                    state_size=32, warmup_steps=0, day_mask=None):\n",
    "  # 1. Take a random subsample of observation nodes\n",
    "  state_choice = np.random.choice(dataset.state_size(), size=state_size, replace=False)\n",
    "  \n",
    "  # 2. Cast target and reservoir state into NumPy ndarrays.\n",
    "  X = np.empty((len(run_ids), dataset.n_steps(), state_size)) # shape (runs, time_steps, nodes)\n",
    "  y = np.empty((len(run_ids), dataset.n_steps()))             # shape (runs, time_steps)\n",
    "  \n",
    "  for i_run, run_state in enumerate(reservoir_generator):\n",
    "    X[i_run, :, :] = run_state[:, state_choice]\n",
    "    \n",
    "  for i_run, run_target in enumerate(target_generator):\n",
    "    y[i_run, :] = run_target\n",
    "\n",
    "  # 3. Masks are applied.\n",
    "  if day_mask is None: \n",
    "    time_mask = np.ones(X.shape[1], dtype=bool)\n",
    "  else:\n",
    "    n_days = X.shape[1] // len(day_mask)\n",
    "    assert dataset.n_steps() % len(day_mask) == 0, \"Dataset time steps must be multiple of day mask.\"\n",
    "    time_mask = np.tile(day_mask, n_days) \n",
    "  \n",
    "  time_mask[:warmup_steps] = False\n",
    "  X = X[:, time_mask, :]\n",
    "  y = y[:, time_mask]\n",
    "\n",
    "  # 4. Normalize target and reservoir states\n",
    "  X = (X - X.mean()) / X.std()\n",
    "  y = (y - y.mean()) / y.std()\n",
    "\n",
    "  return X, y"
   ]
  },
  {
   "cell_type": "markdown",
   "metadata": {},
   "source": [
    "#### Preprocessing decisions\n",
    "\n",
    "- For now, keep all runs\n",
    "- Discard first 4 days of each simulation\n",
    "- Discard 22pm-5am"
   ]
  },
  {
   "cell_type": "code",
   "execution_count": 9,
   "metadata": {},
   "outputs": [],
   "source": [
    "from src.learning.preprocessing import generate_mask\n",
    "\n",
    "\n",
    "RUN_IDS = np.arange(dataset.n_runs())\n",
    "WARMUP_STEPS = 4 * 24\n",
    "DAY_MASK = generate_mask(5, 21)\n",
    "\n",
    "STATE_SIZE = 16\n",
    "\n",
    "TARGET = 'input_Tac'\n",
    "STATE_VAR = 'state_An'"
   ]
  },
  {
   "cell_type": "code",
   "execution_count": 13,
   "metadata": {},
   "outputs": [
    {
     "name": "stdout",
     "output_type": "stream",
     "text": [
      "(84, 48, 16)\n",
      "(84, 48)\n"
     ]
    }
   ],
   "source": [
    "target_generator = direct_target_generator(dataset, TARGET, RUN_IDS)\n",
    "reservoir_generator = direct_reservoir_generator(dataset, STATE_VAR, RUN_IDS)\n",
    "\n",
    "np.random.seed(42)\n",
    "\n",
    "X, y = preprocess_data(dataset, RUN_IDS, target_generator, reservoir_generator, state_size=STATE_SIZE,  warmup_steps=WARMUP_STEPS, day_mask=DAY_MASK)\n",
    "\n",
    "print(X.shape)\n",
    "print(y.shape)              "
   ]
  },
  {
   "cell_type": "markdown",
   "metadata": {},
   "source": [
    "### Grouping\n",
    "\n",
    "Simulation state from the same calendar day of simulation inputs, across all runs, are grouped together per day.\n",
    "\n",
    "```\n",
    "GROUP 1 | GROUP 2 | GROUP 3 | GROUP 4 | ...\n",
    "--------+---------+---------+---------+----\n",
    "sim1/d1  sim1/d2   sim1/d3   /         /\n",
    "/        sim2/d2   sim2/d3   sim2/d4   /\n",
    "         /         sim3/d3   sim3/d4   sim3/d5\n",
    "                               ...\n",
    "```"
   ]
  },
  {
   "cell_type": "code",
   "execution_count": 14,
   "metadata": {},
   "outputs": [],
   "source": [
    "def group_by_day(X: np.ndarray, days_per_run, offset_between_runs=1) -> np.ndarray:\n",
    "  \"\"\"Generates an array of group indices for state X.\n",
    "  - Shape of X is assumed to be (runs, time_steps, nodes)\n",
    "  \"\"\"\n",
    "  n_runs, n_steps, n_nodes = X.shape\n",
    "  assert n_steps % days_per_run == 0, \"steps per run must be an integer multiple of days_per_run.\"\n",
    "  steps_per_day = n_steps // days_per_run\n",
    "\n",
    "  groups = np.empty((n_runs, n_steps))\n",
    "\n",
    "  offset = 0\n",
    "  for i_run in range(n_runs):\n",
    "    groups[i_run, :] = np.arange(offset, offset + days_per_run).repeat(steps_per_day)\n",
    "    offset += offset_between_runs\n",
    "\n",
    "  return groups"
   ]
  },
  {
   "cell_type": "code",
   "execution_count": 15,
   "metadata": {},
   "outputs": [
    {
     "name": "stdout",
     "output_type": "stream",
     "text": [
      "(84, 48)\n"
     ]
    }
   ],
   "source": [
    "days_per_run = X.shape[1] // DAY_MASK.sum()\n",
    "groups = group_by_day(X, days_per_run)\n",
    "\n",
    "print(groups.shape)"
   ]
  },
  {
   "cell_type": "markdown",
   "metadata": {},
   "source": [
    "### Train-test splitting\n",
    "\n",
    "Now that the data is grouped, we can flatten the runs into a single dataset.\n",
    "\n"
   ]
  },
  {
   "cell_type": "code",
   "execution_count": 16,
   "metadata": {},
   "outputs": [
    {
     "name": "stdout",
     "output_type": "stream",
     "text": [
      "     X flat: (4032, 16)\n",
      "     y flat: (4032,)\n",
      "groups flat: (4032,)\n"
     ]
    }
   ],
   "source": [
    "X_flat = X.reshape((-1, STATE_SIZE))\n",
    "y_flat = y.reshape((-1))\n",
    "groups_flat = groups.reshape((-1))\n",
    "\n",
    "print(f'     X flat: {X_flat.shape}')\n",
    "print(f'     y flat: {y_flat.shape}')\n",
    "print(f'groups flat: {groups_flat.shape}')"
   ]
  },
  {
   "cell_type": "markdown",
   "metadata": {},
   "source": [
    "- Train-test splitting is done at group scope (i.e. by calendar day)\n",
    "- Training and testing ranges are chosen as contiguous blocks rather than randomly selected.\n",
    "\n",
    "e.g. for `interval_length = 8` and `test_ratio = 0.25`, the consecutive groups are assigned as follows:\n",
    "\n",
    "```\n",
    "g1     g2      g3      g4      g5      g6      g7     g8                   \n",
    "------+-------+-------+-------+-------+-------+------+------+\n",
    "Train | Train | Train | Train | Train | Train | Test | Test | ... (repeat)\n",
    "```"
   ]
  },
  {
   "cell_type": "code",
   "execution_count": 17,
   "metadata": {},
   "outputs": [
    {
     "name": "stdout",
     "output_type": "stream",
     "text": [
      "X_train shape:      (3072, 16)\n",
      "y_train shape:      (3072,)\n",
      "groups_train shape: (3072,)\n",
      "X_test shape:       (960, 16)\n",
      "y_test shape:       (960,)\n",
      "groups_train shape: (3072,)\n"
     ]
    }
   ],
   "source": [
    "TEST_RATIO = 0.25\n",
    "INTERVAL_LENGTH = 16\n",
    "\n",
    "group_ids = np.unique(groups_flat)\n",
    "\n",
    "test_run_length = np.ceil(INTERVAL_LENGTH * TEST_RATIO).astype(int)\n",
    "train_run_length = INTERVAL_LENGTH - test_run_length\n",
    "\n",
    "split_mask = np.empty((INTERVAL_LENGTH), dtype=bool)\n",
    "split_mask[0:train_run_length] = True\n",
    "split_mask[train_run_length:INTERVAL_LENGTH] = False\n",
    "split_mask = np.tile(split_mask, np.ceil(len(group_ids) / INTERVAL_LENGTH).astype(int))[:len(group_ids)]\n",
    "\n",
    "groups_train = group_ids[split_mask]\n",
    "groups_test = group_ids[~split_mask]\n",
    "\n",
    "train_idx = np.where(np.in1d(groups_flat, groups_train))\n",
    "X_train = X_flat[train_idx]\n",
    "y_train = y_flat[train_idx]\n",
    "groups_train = groups_flat[train_idx]\n",
    "\n",
    "test_idx = np.where(np.in1d(groups_flat, groups_test))\n",
    "X_test = X_flat[test_idx]\n",
    "y_test = y_flat[test_idx]\n",
    "groups_test = y_flat[test_idx]\n",
    "\n",
    "print(f'X_train shape:      {X_train.shape}')\n",
    "print(f'y_train shape:      {y_train.shape}')\n",
    "print(f'groups_train shape: {groups_train.shape}')\n",
    "print(f'X_test shape:       {X_test.shape}')\n",
    "print(f'y_test shape:       {y_test.shape}')\n",
    "print(f'groups_train shape: {groups_train.shape}')\n",
    "\n"
   ]
  },
  {
   "cell_type": "markdown",
   "metadata": {},
   "source": [
    "### Model definition\n",
    "\n",
    "- Readout model is a standard RidgeRegression model with intercept term and CV-tuned regularization strength $\\alpha$.\n",
    "- CV search grid is a progression of logarithmicly spaced values for regularization strength $\\alpha$.\n",
    "- CV and testing metric is NMSE."
   ]
  },
  {
   "cell_type": "code",
   "execution_count": 18,
   "metadata": {},
   "outputs": [],
   "source": [
    "from sklearn.linear_model import Ridge\n",
    "from sklearn.pipeline import Pipeline\n",
    "from sklearn.model_selection import GroupKFold\n",
    "\n",
    "from src.learning.scorers import nmse_scorer\n",
    "\n",
    "\n",
    "N_FOLDS = 5;\n",
    "\n",
    "\n",
    "# Define model\n",
    "readout = Pipeline([\n",
    "  ('ridge_regression', Ridge(alpha=1, fit_intercept=True))\n",
    "])\n",
    "\n",
    "# define search grid\n",
    "search_grid = [{\n",
    "  'ridge_regression__alpha': 10 ** np.linspace(np.log10(1e-3), np.log10(1e3), 50)\n",
    "}]\n",
    "\n",
    "# define cross-validation and testing metric\n",
    "scorer = nmse_scorer\n",
    "\n",
    "# Define CV fold strategy\n",
    "folds = GroupKFold(n_splits=N_FOLDS)"
   ]
  },
  {
   "cell_type": "markdown",
   "metadata": {},
   "source": [
    "### Readout training\n",
    "\n",
    "Regularization strength is tuned using a grid search."
   ]
  },
  {
   "cell_type": "code",
   "execution_count": 19,
   "metadata": {},
   "outputs": [
    {
     "data": {
      "image/png": "[encoded data removed]",
      "text/plain": [
       "<Figure size 576x432 with 1 Axes>"
      ]
     },
     "metadata": {},
     "output_type": "display_data"
    }
   ],
   "source": [
    "from sklearn.model_selection import validation_curve\n",
    "\n",
    "param_name = 'ridge_regression__alpha'\n",
    "param_range = 10 ** np.linspace(np.log10(1e-3), np.log10(1e3), 50)\n",
    "\n",
    "train_scores, test_scores = validation_curve(readout, X_train, y_train,\n",
    "    groups=groups_train,\n",
    "    param_name=param_name,\n",
    "    param_range=param_range,\n",
    "    cv=folds,\n",
    "    scoring=scorer, \n",
    ")\n",
    "\n",
    "train_scores = -train_scores\n",
    "test_scores = -test_scores\n",
    "\n",
    "train_scores_mean = np.mean(train_scores, axis=1)\n",
    "train_scores_std = np.std(train_scores, axis=1)\n",
    "test_scores_mean = np.mean(test_scores, axis=1)\n",
    "test_scores_std = np.std(test_scores, axis=1)\n",
    "\n",
    "# Plot parameter VS estimated error\n",
    "with plt.style.context('ggplot'):\n",
    "  plt.figure(figsize=(8,6))\n",
    "  plt.xlabel(param_name)\n",
    "  plt.ylabel(\"score\")\n",
    "  plt.xscale(\"log\")\n",
    "  plt.ylim(0, 1.2)\n",
    "  plt.xlim(min(param_range), max(param_range))\n",
    "  plt.plot(param_range, train_scores_mean, color=\"blue\", label=\"Training acc.\")\n",
    "  plt.fill_between(param_range, \n",
    "                  train_scores_mean + train_scores_std,\n",
    "                  train_scores_mean - train_scores_std,\n",
    "                  alpha=0.2, color=\"blue\")\n",
    "  plt.plot(param_range, test_scores_mean, color=\"red\", label=\"CV acc.\")\n",
    "  plt.fill_between(param_range, \n",
    "                  test_scores_mean + test_scores_std,\n",
    "                  test_scores_mean - test_scores_std, \n",
    "                  alpha=0.2, color=\"red\")\n",
    "  plt.legend(loc=\"best\")\n",
    "  plt.axhline(1, dashes=(2, 2), color='black')\n",
    "  plt.text(0.60, 1.035, 'baseline', fontsize='large')\n",
    "  plt.show()"
   ]
  },
  {
   "cell_type": "code",
   "execution_count": 20,
   "metadata": {},
   "outputs": [
    {
     "name": "stdout",
     "output_type": "stream",
     "text": [
      "Cross-validation scores after tuning:\n",
      "  - Train: -0.4830 +/- 0.00426\n",
      "  - CV:    -0.5114 +/- 0.02372\n",
      "Optimal hyperparameters:\n",
      "  - ridge_regression__alpha = 19.306977288832496\n",
      "\n",
      "NMSE on test set: 0.5353\n"
     ]
    }
   ],
   "source": [
    "from src.learning.training import perform_gridsearch\n",
    "\n",
    "model, _ = perform_gridsearch(readout, X_train, y_train, groups_train, folds, search_grid, verbose=True)\n",
    "\n",
    "test_score = -scorer(model, X_test, y_test)\n",
    "print(f'\\nNMSE on test set: {test_score:.4f}')"
   ]
  },
  {
   "cell_type": "markdown",
   "metadata": {},
   "source": [
    "### Model evaluation"
   ]
  },
  {
   "cell_type": "code",
   "execution_count": null,
   "metadata": {},
   "outputs": [],
   "source": []
  },
  {
   "cell_type": "markdown",
   "metadata": {},
   "source": [
    "### Store results"
   ]
  },
  {
   "cell_type": "code",
   "execution_count": null,
   "metadata": {},
   "outputs": [],
   "source": []
  }
 ],
 "metadata": {
  "interpreter": {
   "hash": "4121734fd62df77af0346899b5494e4291ab6203437ffd47de4eeaba662aa73c"
  },
  "kernelspec": {
   "display_name": "Python 3.9.7 ('rc-plants')",
   "language": "python",
   "name": "python3"
  },
  "language_info": {
   "codemirror_mode": {
    "name": "ipython",
    "version": 3
   },
   "file_extension": ".py",
   "mimetype": "text/x-python",
   "name": "python",
   "nbconvert_exporter": "python",
   "pygments_lexer": "ipython3",
   "version": "3.9.7"
  },
  "orig_nbformat": 4
 },
 "nbformat": 4,
 "nbformat_minor": 2
}
