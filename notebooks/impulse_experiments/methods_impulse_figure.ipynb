{
 "cells": [
  {
   "cell_type": "markdown",
   "metadata": {},
   "source": [
    "# Veryifying WheatFspm impulse experiments\n",
    "\n",
    "The goal of this notebook is to verify that the experiment ran succesfully and that the reservoir experienced the impulse and changed trajectory."
   ]
  },
  {
   "cell_type": "code",
   "execution_count": 5,
   "metadata": {},
   "outputs": [],
   "source": [
    "import pandas as pd\n",
    "import numpy as np\n",
    "import seaborn as sns\n",
    "\n",
    "from matplotlib import pyplot as plt\n",
    "sys.path.insert(1, os.path.join(sys.path[0], '../../'))  # for importing local packages from src\n",
    "\n",
    "plt.rcParams.update({\n",
    "    \"text.usetex\": True,\n",
    "    \"font.family\": \"serif\",\n",
    "    \"font.serif\": [\"Palatino\"],\n",
    "})\n",
    "plt.rcParams['text.latex.preamble'] = r'\\usepackage{amsmath} \\usepackage{gensymb} \\usepackage{siunitx}'\n",
    "plt.rcParams['font.size'] = 15\n",
    "plt.rcParams['legend.fontsize'] = 12"
   ]
  },
  {
   "cell_type": "markdown",
   "metadata": {},
   "source": [
    "### Loading the dataset"
   ]
  },
  {
   "cell_type": "code",
   "execution_count": 2,
   "metadata": {},
   "outputs": [],
   "source": [
    "DATASET_PATH = '../datasets/dataset_NEMA3_impulse.csv'"
   ]
  },
  {
   "cell_type": "code",
   "execution_count": 4,
   "metadata": {},
   "outputs": [],
   "source": [
    "from rc_dataset_impulse_cnwheat import ExperimentDataset\n",
    "\n",
    "dataset = ExperimentDataset(csv_path=DATASET_PATH)"
   ]
  },
  {
   "cell_type": "markdown",
   "metadata": {},
   "source": [
    "## Verifying experiment inputs"
   ]
  },
  {
   "cell_type": "code",
   "execution_count": 6,
   "metadata": {},
   "outputs": [
    {
     "data": {
      "text/plain": [
       "array(['NEMA_H3__day0__width0__0', 'NEMA_H3__day18__width1__0',\n",
       "       'NEMA_H3__day18__width1__4000', 'NEMA_H3__day18__width2__0',\n",
       "       'NEMA_H3__day18__width2__4000', 'NEMA_H3__day18__width3__0',\n",
       "       'NEMA_H3__day18__width3__4000', 'NEMA_H3__day18__width4__0',\n",
       "       'NEMA_H3__day18__width4__4000', 'NEMA_H3__day18__width5__0',\n",
       "       'NEMA_H3__day18__width5__4000', 'NEMA_H3__day27__width1__0',\n",
       "       'NEMA_H3__day27__width1__4000', 'NEMA_H3__day27__width2__0',\n",
       "       'NEMA_H3__day27__width2__4000', 'NEMA_H3__day27__width3__0',\n",
       "       'NEMA_H3__day27__width3__4000', 'NEMA_H3__day27__width4__0',\n",
       "       'NEMA_H3__day27__width4__4000', 'NEMA_H3__day27__width5__0',\n",
       "       'NEMA_H3__day27__width5__4000', 'NEMA_H3__day9__width1__0',\n",
       "       'NEMA_H3__day9__width1__4000', 'NEMA_H3__day9__width2__0',\n",
       "       'NEMA_H3__day9__width2__4000', 'NEMA_H3__day9__width3__0',\n",
       "       'NEMA_H3__day9__width3__4000', 'NEMA_H3__day9__width4__0',\n",
       "       'NEMA_H3__day9__width4__4000', 'NEMA_H3__day9__width5__0',\n",
       "       'NEMA_H3__day9__width5__4000'], dtype=object)"
      ]
     },
     "execution_count": 6,
     "metadata": {},
     "output_type": "execute_result"
    }
   ],
   "source": [
    "run_ids = dataset.get_run_ids()\n",
    "run_params = [run_id.split('__') for run_id in run_ids]\n",
    "run_params = [(date, int(width[-1]), int(value))for (_, date, width, value) in run_params]\n",
    "\n",
    "\n",
    "def get_run_id(date, width, value):\n",
    "  return f'{date}__{width}__{value}'\n",
    "\n",
    "run_ids"
   ]
  },
  {
   "cell_type": "code",
   "execution_count": 82,
   "metadata": {},
   "outputs": [
    {
     "name": "stderr",
     "output_type": "stream",
     "text": [
      "C:\\Users\\Max\\AppData\\Local\\Temp/ipykernel_30036/3712435900.py:32: UserWarning: This figure was using constrained_layout, but that is incompatible with subplots_adjust and/or tight_layout; disabling constrained_layout.\n",
      "  plt.tight_layout()\n"
     ]
    },
    {
     "data": {
      "image/png": "[encoded data removed]",
      "text/plain": [
       "<Figure size 432x288 with 1 Axes>"
      ]
     },
     "metadata": {
      "needs_background": "light"
     },
     "output_type": "display_data"
    }
   ],
   "source": [
    "INPUT = 'input_PARi'\n",
    "BASELINE = 'NEMA_H3__day0__width0__0'\n",
    "EXPERIMENT = 'NEMA_H3__day18__width3__0'\n",
    "\n",
    "START = 18 * 24 - 12\n",
    "END = 19 * 24 + 12\n",
    "\n",
    "\n",
    "baseline_in = dataset.get_target(INPUT, BASELINE)[START:END]\n",
    "experiment_in = dataset.get_target(INPUT, EXPERIMENT)[START:END]\n",
    "\n",
    "\n",
    "with plt.style.context('seaborn-muted'):\n",
    "  fig, ax = plt.subplots(1, 1, figsize=(6, 4), constrained_layout=True)\n",
    "  colors = sns.color_palette()\n",
    "\n",
    "  experiment_in.loc[:442].plot(ax=ax, label=\"Input signal\", color=colors[0], linewidth=2)\n",
    "  # experiment_in.loc[442:446].plot(x=[442, 443, 444, 445, 446], ax=ax, label=\"Impulse\",\n",
    "  #                                 color=colors[2], linewidth=2, style='--')\n",
    "  ax.step([442, 443, 444, 445, 446], experiment_in.loc[442:446], label=\"Impulse\", color=colors[2], linewidth=2, dashes=(3, 1))\n",
    "  ax.plot(experiment_in.loc[446:], c=colors[0], linewidth=2)\n",
    "\n",
    "  xticks = np.arange(START, START + len(baseline_in) + 1, 6)\n",
    "  ax.set_xticks(xticks)\n",
    "  xticklabels = [f'00:00\\nDay {x // 24 + 1}' if not x % 24 else '12:00' if not x % 12 else '' for x in xticks]\n",
    "  ax.set_xticklabels(xticklabels)\n",
    "  ax.grid(axis='x', linestyle='solid', color='lightgrey')\n",
    "  ax.set_xlabel(r'Time [\\unit{\\hour}]')\n",
    "\n",
    "  ax.set_ylabel(r'$I_{\\text{PAR}}$ [$\\unit{\\micro\\mole\\per\\meter\\squared\\per\\second}$]')\n",
    "  ax.legend(loc='upper right')\n",
    "  plt.tight_layout()\n",
    "  plt.savefig('cn_impulse.png', dpi=200, facecolor='white')"
   ]
  },
  {
   "cell_type": "code",
   "execution_count": null,
   "metadata": {},
   "outputs": [],
   "source": []
  }
 ],
 "metadata": {
  "interpreter": {
   "hash": "4121734fd62df77af0346899b5494e4291ab6203437ffd47de4eeaba662aa73c"
  },
  "kernelspec": {
   "display_name": "Python 3.9.7 ('rc-plants')",
   "language": "python",
   "name": "python3"
  },
  "language_info": {
   "codemirror_mode": {
    "name": "ipython",
    "version": 3
   },
   "file_extension": ".py",
   "mimetype": "text/x-python",
   "name": "python",
   "nbconvert_exporter": "python",
   "pygments_lexer": "ipython3",
   "version": "3.9.7"
  },
  "orig_nbformat": 4
 },
 "nbformat": 4,
 "nbformat_minor": 2
}
