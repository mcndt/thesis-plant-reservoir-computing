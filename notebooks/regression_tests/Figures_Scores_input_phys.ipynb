{
 "cells": [
  {
   "cell_type": "code",
   "execution_count": 1,
   "metadata": {},
   "outputs": [],
   "source": [
    "import pandas as pd\n",
    "import numpy as np\n",
    "import sys, os\n",
    "import seaborn as sns\n",
    "\n",
    "from matplotlib import pyplot as plt\n",
    "sys.path.insert(1, os.path.join(sys.path[0], '../../'))  # for importing local packages from src\n",
    "sys.path.insert(1, os.path.join(sys.path[0], '../'))  # for importing model config\n",
    "\n",
    "%reload_ext autoreload\n",
    "%autoreload 2 \n",
    "\n",
    "plt.rcParams.update({\n",
    "    \"text.usetex\": True,\n",
    "    \"font.family\": \"serif\",\n",
    "    \"font.serif\": [\"Palatino\"],\n",
    "})\n",
    "plt.rcParams['text.latex.preamble'] = r'\\usepackage{amsmath} \\usepackage{gensymb} \\usepackage{siunitx}'\n",
    "plt.rcParams['font.size'] = 15\n",
    "plt.rcParams['legend.fontsize'] = 12"
   ]
  },
  {
   "cell_type": "markdown",
   "metadata": {},
   "source": [
    "## Loading Scores"
   ]
  },
  {
   "cell_type": "code",
   "execution_count": 2,
   "metadata": {},
   "outputs": [],
   "source": [
    "hs_scores = pd.read_csv('results_hydroshoot_input_phys_16sample.csv', index_col=0)\n",
    "cn_scores = pd.read_csv('results_cnwheat_input_phys_16sample.csv', index_col=0)"
   ]
  },
  {
   "cell_type": "code",
   "execution_count": 3,
   "metadata": {},
   "outputs": [
    {
     "data": {
      "text/html": [
       "<div>\n",
       "<style scoped>\n",
       "    .dataframe tbody tr th:only-of-type {\n",
       "        vertical-align: middle;\n",
       "    }\n",
       "\n",
       "    .dataframe tbody tr th {\n",
       "        vertical-align: top;\n",
       "    }\n",
       "\n",
       "    .dataframe thead th {\n",
       "        text-align: right;\n",
       "    }\n",
       "</style>\n",
       "<table border=\"1\" class=\"dataframe\">\n",
       "  <thead>\n",
       "    <tr style=\"text-align: right;\">\n",
       "      <th></th>\n",
       "      <th>target_id</th>\n",
       "      <th>reservoir_id</th>\n",
       "      <th>dataset_id</th>\n",
       "      <th>test_score</th>\n",
       "      <th>train_mean</th>\n",
       "      <th>train_std</th>\n",
       "      <th>cv_mean</th>\n",
       "      <th>cv_std</th>\n",
       "      <th>state_sample</th>\n",
       "    </tr>\n",
       "  </thead>\n",
       "  <tbody>\n",
       "    <tr>\n",
       "      <th>0</th>\n",
       "      <td>input_air_temperature</td>\n",
       "      <td>state__An</td>\n",
       "      <td>NEMA_combined</td>\n",
       "      <td>-0.290477</td>\n",
       "      <td>-0.218761</td>\n",
       "      <td>0.005905</td>\n",
       "      <td>-0.803800</td>\n",
       "      <td>0.675349</td>\n",
       "      <td>0</td>\n",
       "    </tr>\n",
       "    <tr>\n",
       "      <th>1</th>\n",
       "      <td>input_air_temperature</td>\n",
       "      <td>state__Ts</td>\n",
       "      <td>NEMA_combined</td>\n",
       "      <td>-0.045537</td>\n",
       "      <td>-0.044375</td>\n",
       "      <td>0.001530</td>\n",
       "      <td>-0.141982</td>\n",
       "      <td>0.058604</td>\n",
       "      <td>0</td>\n",
       "    </tr>\n",
       "    <tr>\n",
       "      <th>2</th>\n",
       "      <td>input_air_temperature</td>\n",
       "      <td>state__gs</td>\n",
       "      <td>NEMA_combined</td>\n",
       "      <td>-0.413302</td>\n",
       "      <td>-0.375427</td>\n",
       "      <td>0.014975</td>\n",
       "      <td>-1.562506</td>\n",
       "      <td>1.772772</td>\n",
       "      <td>0</td>\n",
       "    </tr>\n",
       "    <tr>\n",
       "      <th>3</th>\n",
       "      <td>input_air_temperature</td>\n",
       "      <td>state__Tr</td>\n",
       "      <td>NEMA_combined</td>\n",
       "      <td>-0.294481</td>\n",
       "      <td>-0.194566</td>\n",
       "      <td>0.009701</td>\n",
       "      <td>-0.995355</td>\n",
       "      <td>0.925679</td>\n",
       "      <td>0</td>\n",
       "    </tr>\n",
       "    <tr>\n",
       "      <th>4</th>\n",
       "      <td>input_humidity</td>\n",
       "      <td>state__An</td>\n",
       "      <td>NEMA_combined</td>\n",
       "      <td>-0.696766</td>\n",
       "      <td>-0.523030</td>\n",
       "      <td>0.017132</td>\n",
       "      <td>-1.968814</td>\n",
       "      <td>3.297654</td>\n",
       "      <td>0</td>\n",
       "    </tr>\n",
       "  </tbody>\n",
       "</table>\n",
       "</div>"
      ],
      "text/plain": [
       "               target_id reservoir_id     dataset_id  test_score  train_mean  \\\n",
       "0  input_air_temperature    state__An  NEMA_combined   -0.290477   -0.218761   \n",
       "1  input_air_temperature    state__Ts  NEMA_combined   -0.045537   -0.044375   \n",
       "2  input_air_temperature    state__gs  NEMA_combined   -0.413302   -0.375427   \n",
       "3  input_air_temperature    state__Tr  NEMA_combined   -0.294481   -0.194566   \n",
       "4         input_humidity    state__An  NEMA_combined   -0.696766   -0.523030   \n",
       "\n",
       "   train_std   cv_mean    cv_std  state_sample  \n",
       "0   0.005905 -0.803800  0.675349             0  \n",
       "1   0.001530 -0.141982  0.058604             0  \n",
       "2   0.014975 -1.562506  1.772772             0  \n",
       "3   0.009701 -0.995355  0.925679             0  \n",
       "4   0.017132 -1.968814  3.297654             0  "
      ]
     },
     "execution_count": 3,
     "metadata": {},
     "output_type": "execute_result"
    }
   ],
   "source": [
    "cn_scores.head()"
   ]
  },
  {
   "cell_type": "code",
   "execution_count": 4,
   "metadata": {},
   "outputs": [
    {
     "data": {
      "text/html": [
       "<div>\n",
       "<style scoped>\n",
       "    .dataframe tbody tr th:only-of-type {\n",
       "        vertical-align: middle;\n",
       "    }\n",
       "\n",
       "    .dataframe tbody tr th {\n",
       "        vertical-align: top;\n",
       "    }\n",
       "\n",
       "    .dataframe thead th {\n",
       "        text-align: right;\n",
       "    }\n",
       "</style>\n",
       "<table border=\"1\" class=\"dataframe\">\n",
       "  <thead>\n",
       "    <tr style=\"text-align: right;\">\n",
       "      <th></th>\n",
       "      <th>target_id</th>\n",
       "      <th>reservoir_id</th>\n",
       "      <th>dataset_id</th>\n",
       "      <th>test_score</th>\n",
       "      <th>train_mean</th>\n",
       "      <th>train_std</th>\n",
       "      <th>cv_mean</th>\n",
       "      <th>cv_std</th>\n",
       "      <th>state_sample</th>\n",
       "    </tr>\n",
       "  </thead>\n",
       "  <tbody>\n",
       "    <tr>\n",
       "      <th>0</th>\n",
       "      <td>input_Tac</td>\n",
       "      <td>state_An</td>\n",
       "      <td>HydroShoot_large</td>\n",
       "      <td>-0.417873</td>\n",
       "      <td>-0.423934</td>\n",
       "      <td>0.009412</td>\n",
       "      <td>-0.490868</td>\n",
       "      <td>0.050836</td>\n",
       "      <td>0</td>\n",
       "    </tr>\n",
       "    <tr>\n",
       "      <th>1</th>\n",
       "      <td>input_Tac</td>\n",
       "      <td>state_Tlc</td>\n",
       "      <td>HydroShoot_large</td>\n",
       "      <td>-0.234559</td>\n",
       "      <td>-0.202517</td>\n",
       "      <td>0.005272</td>\n",
       "      <td>-0.222941</td>\n",
       "      <td>0.032507</td>\n",
       "      <td>0</td>\n",
       "    </tr>\n",
       "    <tr>\n",
       "      <th>2</th>\n",
       "      <td>input_Tac</td>\n",
       "      <td>state_gs</td>\n",
       "      <td>HydroShoot_large</td>\n",
       "      <td>-0.419141</td>\n",
       "      <td>-0.427197</td>\n",
       "      <td>0.010967</td>\n",
       "      <td>-0.507733</td>\n",
       "      <td>0.058518</td>\n",
       "      <td>0</td>\n",
       "    </tr>\n",
       "    <tr>\n",
       "      <th>3</th>\n",
       "      <td>input_Tac</td>\n",
       "      <td>state_E</td>\n",
       "      <td>HydroShoot_large</td>\n",
       "      <td>-0.356066</td>\n",
       "      <td>-0.358567</td>\n",
       "      <td>0.006332</td>\n",
       "      <td>-0.407803</td>\n",
       "      <td>0.041125</td>\n",
       "      <td>0</td>\n",
       "    </tr>\n",
       "    <tr>\n",
       "      <th>4</th>\n",
       "      <td>input_Tac</td>\n",
       "      <td>state_Flux</td>\n",
       "      <td>HydroShoot_large</td>\n",
       "      <td>-0.357783</td>\n",
       "      <td>-0.356200</td>\n",
       "      <td>0.006389</td>\n",
       "      <td>-0.409552</td>\n",
       "      <td>0.039481</td>\n",
       "      <td>0</td>\n",
       "    </tr>\n",
       "  </tbody>\n",
       "</table>\n",
       "</div>"
      ],
      "text/plain": [
       "   target_id reservoir_id        dataset_id  test_score  train_mean  \\\n",
       "0  input_Tac     state_An  HydroShoot_large   -0.417873   -0.423934   \n",
       "1  input_Tac    state_Tlc  HydroShoot_large   -0.234559   -0.202517   \n",
       "2  input_Tac     state_gs  HydroShoot_large   -0.419141   -0.427197   \n",
       "3  input_Tac      state_E  HydroShoot_large   -0.356066   -0.358567   \n",
       "4  input_Tac   state_Flux  HydroShoot_large   -0.357783   -0.356200   \n",
       "\n",
       "   train_std   cv_mean    cv_std  state_sample  \n",
       "0   0.009412 -0.490868  0.050836             0  \n",
       "1   0.005272 -0.222941  0.032507             0  \n",
       "2   0.010967 -0.507733  0.058518             0  \n",
       "3   0.006332 -0.407803  0.041125             0  \n",
       "4   0.006389 -0.409552  0.039481             0  "
      ]
     },
     "execution_count": 4,
     "metadata": {},
     "output_type": "execute_result"
    }
   ],
   "source": [
    "hs_scores.head()"
   ]
  },
  {
   "cell_type": "markdown",
   "metadata": {},
   "source": [
    "### Data normalization"
   ]
  },
  {
   "cell_type": "code",
   "execution_count": 5,
   "metadata": {},
   "outputs": [
    {
     "data": {
      "text/plain": [
       "array(['input_air_temperature', 'input_humidity', 'input_PARi',\n",
       "       'output__axes__Total_Transpiration',\n",
       "       'output__axes__sum_respi_roots', 'output__axes__sum_respi_shoot',\n",
       "       'output__custom__PARa'], dtype=object)"
      ]
     },
     "execution_count": 5,
     "metadata": {},
     "output_type": "execute_result"
    }
   ],
   "source": [
    "cn_scores.target_id.unique()"
   ]
  },
  {
   "cell_type": "code",
   "execution_count": 6,
   "metadata": {},
   "outputs": [],
   "source": [
    "output_names = [\n",
    "  'output0_E',\n",
    "  'output1_absorbed_solar',\n",
    "  'output2_An',\n",
    "]\n",
    "\n",
    "hs_output_map = {\n",
    "  'output_E': 'output0_E',\n",
    "  'output_Rg': 'output1_absorbed_solar',\n",
    "  'output_An': 'output2_An',\n",
    "}\n",
    "\n",
    "cn_output_map = {\n",
    "  'output__axes__Total_Transpiration': 'output0_E',\n",
    "  'output__custom__PARa': 'output1_absorbed_solar',\n",
    "}\n",
    "\n",
    "hs_scores.target_id = hs_scores.target_id.apply(lambda x: hs_output_map[x] if x in hs_output_map else x)\n",
    "cn_scores.target_id = cn_scores.target_id.apply(lambda x: cn_output_map[x] if x in cn_output_map else x)\n",
    "\n",
    "input_names = [\n",
    "  'input0_temp',\n",
    "  'input1_rh',\n",
    "  'input2_solar',\n",
    "]\n",
    "\n",
    "hs_input_map = {\n",
    "  'input_Tac': 'input0_temp',\n",
    "  'input_hs': 'input1_rh',\n",
    "  'input_Rg': 'input2_solar',\n",
    "}\n",
    "\n",
    "cn_input_map = {\n",
    "  \"input_air_temperature\": 'input0_temp',\n",
    "  \"input_humidity\": 'input1_rh',\n",
    "  \"input_PARi\": 'input2_solar',\n",
    "}\n",
    "\n",
    "hs_scores.target_id = hs_scores.target_id.apply(lambda x: hs_input_map[x] if x in hs_input_map else x)\n",
    "cn_scores.target_id = cn_scores.target_id.apply(lambda x: cn_input_map[x] if x in cn_input_map else x)"
   ]
  },
  {
   "cell_type": "code",
   "execution_count": 7,
   "metadata": {},
   "outputs": [],
   "source": [
    "hs_reservoir_names = ['state_An', 'state_Ts', 'state_gs', 'state_E', 'state_Flux', 'state_psi_head']\n",
    "cn_reservoir_names = ['state_An', 'state_Ts', 'state_gs', 'state_E']\n",
    "\n",
    "cn_scores.reservoir_id = cn_scores.reservoir_id.apply(lambda x : x.replace('__', '_'))\n",
    "cn_scores.reservoir_id = cn_scores.reservoir_id.apply(lambda x : x.replace('state_Tr', 'state_E'))\n",
    "hs_scores.reservoir_id = hs_scores.reservoir_id.apply(lambda x : x.replace('state_Tlc', 'state_Ts'))"
   ]
  },
  {
   "cell_type": "code",
   "execution_count": 8,
   "metadata": {},
   "outputs": [],
   "source": [
    "cn_scores.dataset_id = 'CN-Wheat'\n",
    "hs_scores.dataset_id = 'HydroShoot'"
   ]
  },
  {
   "cell_type": "markdown",
   "metadata": {},
   "source": [
    "## Figures"
   ]
  },
  {
   "cell_type": "markdown",
   "metadata": {},
   "source": [
    "### Boxplots"
   ]
  },
  {
   "cell_type": "code",
   "execution_count": 9,
   "metadata": {},
   "outputs": [],
   "source": [
    "cn_regression_scores = cn_scores.loc[cn_scores.target_id.isin(input_names + output_names)]\n",
    "cn_regression_scores = cn_regression_scores.sort_values(['target_id', 'reservoir_id'])\n",
    "\n",
    "hs_regression_scores = hs_scores.loc[hs_scores.target_id.isin(input_names + output_names)]\n",
    "hs_regression_scores = hs_regression_scores.sort_values(['target_id', 'reservoir_id'])\n",
    "\n",
    "regression_scores = pd.concat([cn_regression_scores, hs_regression_scores])\n",
    "regression_scores.test_score *= -1"
   ]
  },
  {
   "cell_type": "code",
   "execution_count": 12,
   "metadata": {},
   "outputs": [],
   "source": [
    "res_symbols = {\n",
    "  'state_An': r'$A_n$',\n",
    "  'state_Ts': r'$T_s$',\n",
    "  'state_gs': r'$g_s$',\n",
    "  'state_E': r'$E$',\n",
    "  'state_Flux': r'$F$',\n",
    "  'state_psi_head': r'$\\Psi$',\n",
    "}\n",
    "\n",
    "input_symbols = {\n",
    "  'input0_temp': r'$T_{\\text{air}}$',\n",
    "  'input1_rh': r'RH',\n",
    "  'input2_solar': r'PAR',\n",
    "  # 'input2_solar': r'$R_g$/$I_{\\text{PAR}}$',\n",
    "}\n",
    "\n",
    "input_symbols_hs = {\n",
    "  'input0_temp': r'$T_{\\text{air}}$',\n",
    "  'input1_rh': r'RH',\n",
    "  'input2_solar': r'PAR',\n",
    "  # 'input2_solar': r'$R_g$',\n",
    "}\n",
    "\n",
    "output_symbols = {\n",
    "  'output0_E': r'$E$',\n",
    "  # 'output1_absorbed_solar': r'$\\Phi_{R_g}$/$\\Phi_{I_{\\text{PAR}}}$',\n",
    "  'output1_absorbed_solar': r'$\\Phi_{\\text{PAR}}$',\n",
    "  'output2_An': r'$A_n$',\n",
    "}\n",
    "\n",
    "output_symbols_hs = {\n",
    "  'output0_E': r'$E$',\n",
    "  # 'output1_absorbed_solar': r'$\\Phi_{R_g}$',\n",
    "  'output1_absorbed_solar': r'$\\Phi_{\\text{PAR}}$',\n",
    "  'output2_An': r'$A_n$',\n",
    "}\n",
    "\n",
    "target_symbols = {**input_symbols, **output_symbols}\n",
    "target_symbols_hs = {**input_symbols_hs, **output_symbols_hs}\n",
    "\n",
    "res_symbols = {k: f'$\\\\boldsymbol{{{v[1:-1]}}}$' for k, v in res_symbols.items()}"
   ]
  },
  {
   "cell_type": "code",
   "execution_count": 13,
   "metadata": {},
   "outputs": [
    {
     "data": {
      "image/png": "[encoded data removed]",
      "text/plain": [
       "<Figure size 648x720 with 6 Axes>"
      ]
     },
     "metadata": {
      "needs_background": "light"
     },
     "output_type": "display_data"
    }
   ],
   "source": [
    "with plt.style.context('seaborn-muted'):\n",
    "  fig, axs = plt.subplots(3, 2, figsize=(9, 10), sharey=True)\n",
    "  colors = sns.color_palette()\n",
    "\n",
    "  for res, ax in zip(hs_reservoir_names, axs.flatten()):\n",
    "\n",
    "    # Data plotting\n",
    "    plot_data = regression_scores.loc[regression_scores.reservoir_id == res]\n",
    "    plot_box = lambda order : sns.boxplot(data=plot_data, x='target_id', y='test_score', hue='dataset_id', ax=ax,\n",
    "                                          linewidth=1.1, hue_order=order, order=target_symbols_hs.keys())\n",
    "\n",
    "    _ax = plot_box(['HydroShoot', ''])\n",
    "    _ax = plot_box(['', 'CN-Wheat'])\n",
    "\n",
    "\n",
    "    # Labeling\n",
    "    if res in ['state_Flux', 'state_psi_head']:\n",
    "      ax.set_xticklabels(list(target_symbols_hs.values()), fontsize=14)\n",
    "    else:\n",
    "      ax.set_xticklabels(list(target_symbols.values()), fontsize=14)\n",
    "    ax.set_title(res_symbols[res], fontsize=20)\n",
    "    if ax in axs.flatten()[::2]:\n",
    "      ax.set_ylabel('NMSE')\n",
    "    else:\n",
    "      ax.set(ylabel=None)\n",
    "    if ax is axs.flatten()[0]:\n",
    "      ax.annotate('baseline', (0.015, 0.86), fontsize=17, xycoords='axes fraction')\n",
    "\n",
    "    # Axes\n",
    "    ax.set_ylim(0, 1.2)\n",
    "    ax.set_axisbelow(True)\n",
    "    # ax.set_xticks(np.arange(0, 5) + 0.5)\n",
    "    ax.yaxis.grid(color='lightgrey', linestyle='dashed')\n",
    "    # ax.xaxis.grid(color='lightgrey', linestyle='solid', linewidth=1.25)\n",
    "    for x in (np.arange(0, 5) + 0.5):\n",
    "      if x == 2.5:\n",
    "        ax.axvline(x, color='black', linewidth=1)\n",
    "      else:\n",
    "        ax.axvline(x, color='lightgrey')\n",
    "    ax.axhline(1, color='black', dashes=(2,2))\n",
    "\n",
    "    # Cleanup\n",
    "    if ax is axs.flatten()[0]:\n",
    "      fig.legend(loc='lower center', fancybox=False, shadow=False, ncol=5, \n",
    "                 frameon=True, edgecolor='black', bbox_to_anchor=(0.5, -0.05), fontsize=15)\n",
    "    ax.get_legend().remove()\n",
    "    ax.set(xlabel=None)\n",
    "\n",
    "  plt.tight_layout()\n",
    "  plt.savefig('regression_res_perf.png', dpi=200, facecolor='white', bbox_inches='tight')"
   ]
  },
  {
   "cell_type": "code",
   "execution_count": 14,
   "metadata": {},
   "outputs": [],
   "source": [
    "target_names = input_names + output_names"
   ]
  },
  {
   "cell_type": "code",
   "execution_count": 15,
   "metadata": {},
   "outputs": [
    {
     "data": {
      "image/png": "[encoded data removed]",
      "text/plain": [
       "<Figure size 648x720 with 6 Axes>"
      ]
     },
     "metadata": {
      "needs_background": "light"
     },
     "output_type": "display_data"
    }
   ],
   "source": [
    "with plt.style.context('seaborn-muted'):\n",
    "  fig, axs = plt.subplots(3, 2, figsize=(9, 10), sharey=True)\n",
    "  colors = sns.color_palette()\n",
    "\n",
    "  for tname, ax in zip(target_names, axs.flatten()):\n",
    "\n",
    "    # Data plotting\n",
    "    plot_data = regression_scores.loc[regression_scores.target_id == tname]\n",
    "    plot_data = plot_data.loc[plot_data.reservoir_id.isin(hs_reservoir_names)]\n",
    "    plot_box = lambda order : sns.boxplot(data=plot_data, x='reservoir_id', y='test_score', hue='dataset_id', ax=ax,\n",
    "                                          linewidth=1.1, hue_order=order, order=hs_reservoir_names)\n",
    "    _ax = plot_box(['HydroShoot', ''])\n",
    "    _ax = plot_box(['', 'CN-Wheat'])\n",
    "\n",
    "\n",
    "    # Labeling\n",
    "    ax.set_xticklabels(list(res_symbols.values()), fontsize=14)\n",
    "    ax.set_title(target_symbols[tname])\n",
    "    if ax in axs.flatten()[::2]:\n",
    "      ax.set_ylabel('NMSE')\n",
    "    else:\n",
    "      ax.set(ylabel=None)\n",
    "    if ax is axs.flatten()[0]:\n",
    "      ax.annotate('baseline', (0.015, 0.86), fontsize=17, xycoords='axes fraction')\n",
    "\n",
    "    # Axes\n",
    "    ax.set_ylim(0, 1.2)\n",
    "    ax.set_axisbelow(True)\n",
    "    ax.yaxis.grid(color='lightgrey', linestyle='dashed')\n",
    "    for x in (np.arange(0, 5) + 0.5):\n",
    "      ax.axvline(x, color='lightgrey')\n",
    "    ax.axhline(1, color='black', dashes=(2,2))\n",
    "\n",
    "    # Cleanup\n",
    "    if ax is axs.flatten()[0]:\n",
    "      fig.legend(loc='lower center', fancybox=False, shadow=False, ncol=5, \n",
    "                 frameon=True, edgecolor='black', bbox_to_anchor=(0.5, -0.05), fontsize=15)\n",
    "    ax.get_legend().remove()\n",
    "    ax.set(xlabel=None)\n",
    "\n",
    "  plt.tight_layout()\n",
    "  plt.savefig('regression_target_perf.png', dpi=200, facecolor='white', bbox_inches='tight')"
   ]
  },
  {
   "cell_type": "code",
   "execution_count": null,
   "metadata": {},
   "outputs": [],
   "source": []
  }
 ],
 "metadata": {
  "interpreter": {
   "hash": "4121734fd62df77af0346899b5494e4291ab6203437ffd47de4eeaba662aa73c"
  },
  "kernelspec": {
   "display_name": "Python 3.9.7 ('rc-plants')",
   "language": "python",
   "name": "python3"
  },
  "language_info": {
   "codemirror_mode": {
    "name": "ipython",
    "version": 3
   },
   "file_extension": ".py",
   "mimetype": "text/x-python",
   "name": "python",
   "nbconvert_exporter": "python",
   "pygments_lexer": "ipython3",
   "version": "3.9.7"
  },
  "orig_nbformat": 4
 },
 "nbformat": 4,
 "nbformat_minor": 2
}
