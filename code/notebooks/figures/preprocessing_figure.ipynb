{
 "cells": [
  {
   "cell_type": "code",
   "execution_count": 1,
   "metadata": {},
   "outputs": [],
   "source": [
    "import pandas as pd\n",
    "import numpy as np\n",
    "import seaborn as sns\n",
    "\n",
    "from matplotlib import pyplot as plt\n",
    "\n",
    "plt.rcParams.update({\n",
    "    \"text.usetex\": True,\n",
    "    \"font.family\": \"serif\",\n",
    "    \"font.serif\": [\"Palatino\"],\n",
    "})\n",
    "plt.rcParams['text.latex.preamble'] = r'\\usepackage{amsmath} \\usepackage{gensymb} \\usepackage{siunitx}'\n",
    "plt.rcParams['font.size'] = 15\n",
    "plt.rcParams['legend.fontsize'] = 12"
   ]
  },
  {
   "cell_type": "code",
   "execution_count": 137,
   "metadata": {},
   "outputs": [
    {
     "data": {
      "image/png": "[encoded data removed]",
      "text/plain": [
       "<Figure size 576x180 with 1 Axes>"
      ]
     },
     "metadata": {
      "needs_background": "light"
     },
     "output_type": "display_data"
    }
   ],
   "source": [
    "\n",
    "LENGTH = 18 * 24\n",
    "WARMUP = 4 * 24\n",
    "\n",
    "time = np.arange(LENGTH)\n",
    "cycle = np.tile(np.arange(24), LENGTH // 24)\n",
    "ones = np.ones(LENGTH).astype(bool)\n",
    "zeros = np.zeros(LENGTH).astype(bool)\n",
    "\n",
    "data = ones.copy()\n",
    "data[time < 4 * 24] = 0\n",
    "data[(cycle > 21) | (cycle < 5)] = 0\n",
    "discarded = ~data\n",
    "\n",
    "\n",
    "\n",
    "train_mask = np.array([True, False])\n",
    "train_mask = train_mask.repeat(4)\n",
    "train_mask = np.tile(train_mask, 10)\n",
    "train_mask = np.repeat(train_mask, 24)\n",
    "train_mask = train_mask[:len(data)]\n",
    "\n",
    "train_data = data * train_mask\n",
    "test_data = data * ~train_mask\n",
    "\n",
    "\n",
    "with plt.style.context('seaborn-muted'):\n",
    "  fig, ax = plt.subplots(1, 1, figsize=(8, 2.5,))\n",
    "  colors = sns.color_palette()\n",
    "\n",
    "  # plot\n",
    "  ax.fill_between(time, train_data, zeros, color=colors[0], step=\"pre\", label='Train data', linewidth=0)\n",
    "  ax.fill_between(time, test_data, zeros, color='#12B886', step=\"pre\", label='Test data', linewidth=0)\n",
    "  ax.fill_between(time, discarded, zeros, color='grey', alpha=0.33, step=\"pre\", label='Discarded', linewidth=0)\n",
    "\n",
    "  # x axis\n",
    "  ax.set_xlim(0, LENGTH)\n",
    "  xticks = np.arange(0, LENGTH + 1, 24)\n",
    "  ax.set_xticks(xticks)\n",
    "  xtickslabels = [f'Day {x // 24}' if not x % (4 * 24) else '' for x in xticks]\n",
    "  ax.set_xticklabels(xtickslabels)\n",
    "  ax.set_xlabel(r'Simulation time [\\unit{\\hour}]')\n",
    "\n",
    "  # cleanup\n",
    "  ax.spines['right'].set_visible(False)\n",
    "  ax.spines['top'].set_visible(False)\n",
    "  ax.spines['left'].set_visible(False)\n",
    "  ax.set_yticks(())\n",
    "  ax.set_ylim(0, 1.66)\n",
    "\n",
    "  # legend\n",
    "  legend = ax.legend(loc='upper right', fancybox=False, shadow=False, ncol=5, frameon=True, edgecolor='black')\n",
    "\n",
    "  plt.tight_layout()\n",
    "  plt.savefig('preprocessing_traintestsplit.png', dpi=200, facecolor='white')"
   ]
  }
 ],
 "metadata": {
  "interpreter": {
   "hash": "4121734fd62df77af0346899b5494e4291ab6203437ffd47de4eeaba662aa73c"
  },
  "kernelspec": {
   "display_name": "Python 3.9.7 ('rc-plants')",
   "language": "python",
   "name": "python3"
  },
  "language_info": {
   "codemirror_mode": {
    "name": "ipython",
    "version": 3
   },
   "file_extension": ".py",
   "mimetype": "text/x-python",
   "name": "python",
   "nbconvert_exporter": "python",
   "pygments_lexer": "ipython3",
   "version": "3.9.7"
  },
  "orig_nbformat": 4
 },
 "nbformat": 4,
 "nbformat_minor": 2
}
