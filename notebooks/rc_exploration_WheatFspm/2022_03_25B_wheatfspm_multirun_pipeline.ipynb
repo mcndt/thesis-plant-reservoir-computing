{
 "cells": [
  {
   "cell_type": "markdown",
   "metadata": {},
   "source": [
    "## Multirun experiment pipeline (WheatFspm)\n",
    "\n",
    "The following notebook establishes a generalized pipeline for evaluating a computing reservoir against a given task, given multiple experimental runs of the same reservoir.\n"
   ]
  },
  {
   "cell_type": "code",
   "execution_count": 1,
   "metadata": {},
   "outputs": [],
   "source": [
    "import pandas as pd\n",
    "import numpy as np\n",
    "\n",
    "from matplotlib import pyplot as plt\n",
    "sys.path.insert(1, os.path.join(sys.path[0], '../../'))  # for importing local packages from src"
   ]
  },
  {
   "cell_type": "code",
   "execution_count": 2,
   "metadata": {},
   "outputs": [],
   "source": [
    "DATASET_NEMA_H0 = '../datasets/dataset_NEMA_NEMA_H0.csv'\n",
    "DATASET_NEMA_H3 = '../datasets/dataset_NEMA_NEMA_H3.csv'\n",
    "DATASET_NEMA_H15 = '../datasets/dataset_NEMA_NEMA_H15.csv'"
   ]
  },
  {
   "cell_type": "markdown",
   "metadata": {},
   "source": [
    "### Loading the datasets\n",
    "\n",
    "These datasets were collected and converted in the WheatFspm repository.\n",
    "\n",
    "There are three simulations made available in the WheatFspm repository that are useable for RC experiments: NEMA H0, H3 and H15.\n",
    "\n",
    "We can try using these datasets in two different ways:\n",
    "\n",
    "1. Treat every dataset as a separate plant, training a readout for each simulation run.\n",
    "2. Concatenating the three datasets as observed behavior of a single plant."
   ]
  },
  {
   "cell_type": "code",
   "execution_count": 3,
   "metadata": {},
   "outputs": [],
   "source": [
    "from src.model.rc_dataset import ExperimentDataset\n",
    "\n",
    "dataset_nema_h0 = ExperimentDataset(csv_path=DATASET_NEMA_H0)\n",
    "dataset_nema_h3 = ExperimentDataset(csv_path=DATASET_NEMA_H3)\n",
    "dataset_nema_h15 = ExperimentDataset(csv_path=DATASET_NEMA_H15)\n",
    "\n",
    "datasets = [\n",
    "  ('NEMA_H0', dataset_nema_h0), \n",
    "  ('NEMA_H3', dataset_nema_h3), \n",
    "  ('NEMA_H15', dataset_nema_h15)\n",
    "]"
   ]
  },
  {
   "cell_type": "markdown",
   "metadata": {},
   "source": [
    "### Defining targets and observed state variables\n",
    "\n",
    "These were selected in a previous notebook, `2022_03_23_wheatfspm_dataset_inspection.ipynb` and are defined in a config file for reuse among notebooks."
   ]
  },
  {
   "cell_type": "code",
   "execution_count": 4,
   "metadata": {},
   "outputs": [
    {
     "name": "stdout",
     "output_type": "stream",
     "text": [
      "Targets:\n",
      "\t- input_air_temperature\n",
      "\t- input_humidity\n",
      "\t- input_PARi\n",
      "\t- output__axes__Total_Transpiration\n",
      "\t- output__axes__C_exudated\n",
      "\t- output__axes__SAM_temperature\n",
      "\t- output__axes__delta_teq\n",
      "\t- output__axes__sum_respi_shoot\n",
      "\t- output__organ_roots__N_exudation\n",
      "\n",
      "State variables:\n",
      "\t- state__An\n",
      "\t- state__Transpiration\n",
      "\t- state__S_Sucrose\n",
      "\t- state__Ts\n",
      "\t- state__gs\n",
      "\t- state__Ag\n",
      "\t- state__Tr\n",
      "\t- state__sucrose\n",
      "\t- state__Rd\n",
      "\t- state__sum_respi\n",
      "\t- state__Photosynthesis\n",
      "\t- state__PARa\n"
     ]
    }
   ],
   "source": [
    "%reload_ext autoreload\n",
    "%autoreload 2 \n",
    "\n",
    "from model_config import targets, state_variables\n",
    "\n",
    "print(f'Targets:')\n",
    "for target in targets:\n",
    "  print(f'\\t- {target}')\n",
    "\n",
    "print(f'\\nState variables:')\n",
    "for state_var in state_variables:\n",
    "  print(f'\\t- {state_var}')"
   ]
  },
  {
   "cell_type": "markdown",
   "metadata": {},
   "source": [
    "### Data preprocessing, grouping and train-test splitting\n",
    "\n",
    "The available datasets will be processed into 4 datasets:\n",
    "\n",
    "- NEMA_H0\n",
    "- NEMA_H3\n",
    "- NEMA_H15\n",
    "- NEMA_COMBINED (concatenated as data from the same plant)"
   ]
  },
  {
   "cell_type": "code",
   "execution_count": 5,
   "metadata": {},
   "outputs": [],
   "source": [
    "from src.learning.preprocessing import generate_mask\n",
    "\n",
    "\n",
    "WARMUP_STEPS = 4 * 24\n",
    "DAY_MASK = generate_mask(5, 21)"
   ]
  },
  {
   "cell_type": "code",
   "execution_count": 6,
   "metadata": {},
   "outputs": [],
   "source": [
    "from wheatfspm_pipeline_utils import preprocess_data, group_by_day, train_test_split_alternating\n",
    "from wheatfspm_pipeline_utils import direct_target_generator, direct_reservoir_generator\n",
    "from wheatfspm_pipeline_utils import preprocess_raw_X\n",
    "from model_config import max_time_step\n",
    "\n",
    "def generate_X_y_groups(datasets, target, state_var, target_generator, state_generator):\n",
    "  \"\"\"Generates X, y and groups arrays for each dataset, plus a concatenated dataset.\n",
    "     NOTE: The groups in the concatenated dataset are such that the same calendar day is in the same group.\n",
    "\n",
    "     Also generates a baseline dataset where the reservoir is just a combination of all environmental inputs.\n",
    "  \"\"\"\n",
    "  data = {}\n",
    "\n",
    "  # Preprocess the data for each dataset\n",
    "  for name, dataset in datasets:\n",
    "    target_data = next(target_generator(dataset, target, name))\n",
    "    reservoir_data = next(state_generator(dataset, state_var, name))\n",
    "    X_raw, y_raw = preprocess_data(dataset, target_data, reservoir_data, WARMUP_STEPS, DAY_MASK)\n",
    "    X, y = X_raw[0, :, :], y_raw[0, :]\n",
    "    groups = group_by_day(X, DAY_MASK)\n",
    "    data[name] = (X, y, groups)\n",
    "\n",
    "  # Generate the concatenated dataset\n",
    "  all_arrays = list(data.values())\n",
    "  X_combined = np.concatenate(list(map(lambda x : x[0], all_arrays)))\n",
    "  y_combined = np.concatenate(list(map(lambda x : x[1], all_arrays)))\n",
    "  groups_combined = np.concatenate(list(map(lambda x : x[2], all_arrays)))\n",
    "  data['combined'] = (X_combined, y_combined, groups_combined)\n",
    "\n",
    "  # Generate the baseline dataset\n",
    "  # baseline_name, baseline_dataset = datasets[0]\n",
    "  # input_vars = baseline_dataset.get_input_variables()\n",
    "  # X_baseline = np.empty((max_time_step[baseline_name], len(input_vars)))\n",
    "  # for i, var in enumerate(input_vars):\n",
    "  #   X_baseline[:, i] = baseline_dataset.get_target(var, baseline_name)[:max_time_step[baseline_name]]\n",
    "  # X_baseline = preprocess_raw_X(X_baseline, WARMUP_STEPS, DAY_MASK)\n",
    "  # y_baseline = data[baseline_name][1]\n",
    "  # groups_baseline = data[baseline_name][2]\n",
    "  # data[f'baseline_{baseline_name}'] = X_baseline, y_baseline, groups_baseline\n",
    "\n",
    "  return data"
   ]
  },
  {
   "cell_type": "code",
   "execution_count": 7,
   "metadata": {},
   "outputs": [
    {
     "name": "stdout",
     "output_type": "stream",
     "text": [
      "NEMA_H0:\n",
      "\tX: (400, 10)\n",
      "\ty: (400,)\n",
      "\tgroups: 25 (shape (400,))\n",
      "NEMA_H3:\n",
      "\tX: (496, 10)\n",
      "\ty: (496,)\n",
      "\tgroups: 31 (shape (496,))\n",
      "NEMA_H15:\n",
      "\tX: (528, 10)\n",
      "\ty: (528,)\n",
      "\tgroups: 33 (shape (528,))\n",
      "combined:\n",
      "\tX: (1424, 10)\n",
      "\ty: (1424,)\n",
      "\tgroups: 33 (shape (1424,))\n"
     ]
    }
   ],
   "source": [
    "TARGET = 'output__axes__C_exudated' # targets[0]\n",
    "STATE_VAR = 'state__Ts' # state_variables[0]\n",
    "\n",
    "preprocessed_data = generate_X_y_groups(datasets, TARGET, STATE_VAR, direct_target_generator, direct_reservoir_generator)\n",
    "\n",
    "for name, (X, y, groups) in preprocessed_data.items():\n",
    "  print(f'{name}:')\n",
    "  print(f'\\tX: {X.shape}')\n",
    "  print(f'\\ty: {y.shape}')\n",
    "  print(f'\\tgroups: {len(np.unique(groups))} (shape {groups.shape})')"
   ]
  },
  {
   "cell_type": "markdown",
   "metadata": {},
   "source": [
    "### Model definition\n",
    "\n",
    "- Readout model is a standard RidgeRegression model with intercept term and CV-tuned regularization strength $\\alpha$.\n",
    "- CV search grid is a progression of logarithmicly spaced values for regularization strength $\\alpha$.\n",
    "- CV and testing metric is NMSE."
   ]
  },
  {
   "cell_type": "code",
   "execution_count": 8,
   "metadata": {},
   "outputs": [],
   "source": [
    "N_FOLDS = 3;"
   ]
  },
  {
   "cell_type": "code",
   "execution_count": 9,
   "metadata": {},
   "outputs": [],
   "source": [
    "from sklearn.linear_model import Ridge\n",
    "from sklearn.pipeline import Pipeline\n",
    "from sklearn.model_selection import GroupKFold\n",
    "\n",
    "from src.learning.scorers import nmse_scorer\n",
    "\n",
    "# Define model\n",
    "readout = Pipeline([\n",
    "  ('ridge_regression', Ridge(alpha=1, fit_intercept=True))\n",
    "])\n",
    "\n",
    "# define search grid\n",
    "search_grid = [{\n",
    "  'ridge_regression__alpha': 10 ** np.linspace(np.log10(1e-4), np.log10(1e2), 50)\n",
    "}]\n",
    "\n",
    "# define cross-validation and testing metric\n",
    "scorer = nmse_scorer\n",
    "\n",
    "# Define CV fold strategy\n",
    "folds = GroupKFold(n_splits=N_FOLDS)"
   ]
  },
  {
   "cell_type": "markdown",
   "metadata": {},
   "source": [
    "### Generating a manifest of all experiments to run\n",
    "\n",
    "Currently we are only benchmarking direct target prediction, but in the future there will be other tasks generated from the base targets as well. These will be generated in this section.\n"
   ]
  },
  {
   "cell_type": "code",
   "execution_count": 10,
   "metadata": {},
   "outputs": [],
   "source": [
    "TARGETS = [(target_name, direct_target_generator) for target_name in targets]\n",
    "STATE_VARS = [(state_var, direct_reservoir_generator) for state_var in state_variables]\n",
    "\n",
    "TRAIN_TEST_RATIO = 1"
   ]
  },
  {
   "cell_type": "markdown",
   "metadata": {},
   "source": [
    "### Fitting all readout functions\n",
    "\n",
    "Process:\n",
    "\n",
    "- For each target:\n",
    "  - For each observed state variable:\n",
    "    - For each dataset:\n",
    "      1. Preprocess the data\n",
    "      2. Fit for each dataset\n",
    "      3. Store the resulting training, cross-validation and test scores."
   ]
  },
  {
   "cell_type": "code",
   "execution_count": 11,
   "metadata": {},
   "outputs": [
    {
     "name": "stdout",
     "output_type": "stream",
     "text": [
      "Performing 432 fits...\n"
     ]
    },
    {
     "name": "stderr",
     "output_type": "stream",
     "text": [
      "100%|██████████| 432/432 [01:30<00:00,  4.79it/s]\n"
     ]
    }
   ],
   "source": [
    "from tqdm import tqdm\n",
    "from src.learning.training import perform_gridsearch\n",
    "\n",
    "\n",
    "total_loops = len(targets) * len(state_variables) * (len(preprocessed_data))\n",
    "print(f'Performing {total_loops} fits...')\n",
    "\n",
    "\n",
    "models = {}\n",
    "results = []\n",
    "\n",
    "\n",
    "with tqdm(total=total_loops) as pbar:\n",
    "\n",
    "    for target_name, target_generator in TARGETS:\n",
    "        for state_var, state_generator in STATE_VARS:\n",
    "\n",
    "            # Preprocess data for model fit\n",
    "            preprocessed_data = generate_X_y_groups(datasets, target_name, state_var, target_generator, state_generator)\n",
    "\n",
    "            # For each dataset combination\n",
    "            for dataset_name, (X, y, groups) in preprocessed_data.items():\n",
    "                train, test = train_test_split_alternating(X, y, groups, ratio=TRAIN_TEST_RATIO)\n",
    "\n",
    "                # fit model\n",
    "                X_train, y_train, groups_train = train\n",
    "                model, scores = perform_gridsearch(readout, X_train, y_train, groups_train, folds, search_grid, verbose=False)\n",
    "                (train_mean, train_std), (cv_mean, cv_std) = scores\n",
    "\n",
    "                # Determine test score\n",
    "                X_test, y_test, _ = test\n",
    "                test_score = scorer(model, X_test, y_test)\n",
    "\n",
    "                # store results\n",
    "                models[(target_name, state_var, dataset_name)] = model\n",
    "                results.append({\n",
    "                    'target': target_name,\n",
    "                    'state_var': state_var,\n",
    "                    'dataset': dataset_name,\n",
    "                    'test_score': test_score,\n",
    "                    'train_mean': train_mean,\n",
    "                    'train_std': train_std,\n",
    "                    'cv_mean': cv_mean,\n",
    "                    'cv_std': cv_std\n",
    "                })\n",
    "\n",
    "                pbar.update(1)                "
   ]
  },
  {
   "cell_type": "markdown",
   "metadata": {},
   "source": [
    "### Storing experiment results\n",
    "\n",
    "Storing all the fit results into a Pandas dataframe, then storing it as a CSV file for further inspection in another notebook."
   ]
  },
  {
   "cell_type": "code",
   "execution_count": 12,
   "metadata": {},
   "outputs": [
    {
     "data": {
      "text/html": [
       "<div>\n",
       "<style scoped>\n",
       "    .dataframe tbody tr th:only-of-type {\n",
       "        vertical-align: middle;\n",
       "    }\n",
       "\n",
       "    .dataframe tbody tr th {\n",
       "        vertical-align: top;\n",
       "    }\n",
       "\n",
       "    .dataframe thead th {\n",
       "        text-align: right;\n",
       "    }\n",
       "</style>\n",
       "<table border=\"1\" class=\"dataframe\">\n",
       "  <thead>\n",
       "    <tr style=\"text-align: right;\">\n",
       "      <th></th>\n",
       "      <th>target</th>\n",
       "      <th>state_var</th>\n",
       "      <th>dataset</th>\n",
       "      <th>test_score</th>\n",
       "      <th>train_mean</th>\n",
       "      <th>train_std</th>\n",
       "      <th>cv_mean</th>\n",
       "      <th>cv_std</th>\n",
       "    </tr>\n",
       "  </thead>\n",
       "  <tbody>\n",
       "    <tr>\n",
       "      <th>421</th>\n",
       "      <td>output__organ_roots__N_exudation</td>\n",
       "      <td>state__sum_respi</td>\n",
       "      <td>NEMA_H3</td>\n",
       "      <td>-0.199992</td>\n",
       "      <td>-0.117836</td>\n",
       "      <td>0.012084</td>\n",
       "      <td>-0.226898</td>\n",
       "      <td>0.073079</td>\n",
       "    </tr>\n",
       "    <tr>\n",
       "      <th>208</th>\n",
       "      <td>output__axes__C_exudated</td>\n",
       "      <td>state__gs</td>\n",
       "      <td>NEMA_H0</td>\n",
       "      <td>-0.442742</td>\n",
       "      <td>-0.420083</td>\n",
       "      <td>0.029570</td>\n",
       "      <td>-0.473613</td>\n",
       "      <td>0.054519</td>\n",
       "    </tr>\n",
       "    <tr>\n",
       "      <th>89</th>\n",
       "      <td>input_humidity</td>\n",
       "      <td>state__Photosynthesis</td>\n",
       "      <td>NEMA_H3</td>\n",
       "      <td>-0.608611</td>\n",
       "      <td>-0.604624</td>\n",
       "      <td>0.100007</td>\n",
       "      <td>-1.031751</td>\n",
       "      <td>0.319949</td>\n",
       "    </tr>\n",
       "    <tr>\n",
       "      <th>381</th>\n",
       "      <td>output__axes__sum_respi_shoot</td>\n",
       "      <td>state__PARa</td>\n",
       "      <td>NEMA_H3</td>\n",
       "      <td>-1.096394</td>\n",
       "      <td>-0.927982</td>\n",
       "      <td>0.045092</td>\n",
       "      <td>-1.094052</td>\n",
       "      <td>0.095030</td>\n",
       "    </tr>\n",
       "    <tr>\n",
       "      <th>212</th>\n",
       "      <td>output__axes__C_exudated</td>\n",
       "      <td>state__Ag</td>\n",
       "      <td>NEMA_H0</td>\n",
       "      <td>-0.426593</td>\n",
       "      <td>-0.523349</td>\n",
       "      <td>0.025387</td>\n",
       "      <td>-0.557789</td>\n",
       "      <td>0.040780</td>\n",
       "    </tr>\n",
       "    <tr>\n",
       "      <th>348</th>\n",
       "      <td>output__axes__sum_respi_shoot</td>\n",
       "      <td>state__Ts</td>\n",
       "      <td>NEMA_H0</td>\n",
       "      <td>-1.398232</td>\n",
       "      <td>-0.297419</td>\n",
       "      <td>0.027591</td>\n",
       "      <td>-0.424407</td>\n",
       "      <td>0.049004</td>\n",
       "    </tr>\n",
       "    <tr>\n",
       "      <th>115</th>\n",
       "      <td>input_PARi</td>\n",
       "      <td>state__gs</td>\n",
       "      <td>combined</td>\n",
       "      <td>-0.170378</td>\n",
       "      <td>-0.163310</td>\n",
       "      <td>0.013024</td>\n",
       "      <td>-0.224446</td>\n",
       "      <td>0.059889</td>\n",
       "    </tr>\n",
       "    <tr>\n",
       "      <th>266</th>\n",
       "      <td>output__axes__SAM_temperature</td>\n",
       "      <td>state__Tr</td>\n",
       "      <td>NEMA_H15</td>\n",
       "      <td>-0.248585</td>\n",
       "      <td>-0.131018</td>\n",
       "      <td>0.011436</td>\n",
       "      <td>-0.267087</td>\n",
       "      <td>0.062409</td>\n",
       "    </tr>\n",
       "    <tr>\n",
       "      <th>341</th>\n",
       "      <td>output__axes__sum_respi_shoot</td>\n",
       "      <td>state__Transpiration</td>\n",
       "      <td>NEMA_H3</td>\n",
       "      <td>-1.066146</td>\n",
       "      <td>-0.846099</td>\n",
       "      <td>0.061092</td>\n",
       "      <td>-1.013421</td>\n",
       "      <td>0.108423</td>\n",
       "    </tr>\n",
       "    <tr>\n",
       "      <th>309</th>\n",
       "      <td>output__axes__delta_teq</td>\n",
       "      <td>state__Ag</td>\n",
       "      <td>NEMA_H3</td>\n",
       "      <td>-0.672693</td>\n",
       "      <td>-0.514685</td>\n",
       "      <td>0.017826</td>\n",
       "      <td>-0.656568</td>\n",
       "      <td>0.049494</td>\n",
       "    </tr>\n",
       "  </tbody>\n",
       "</table>\n",
       "</div>"
      ],
      "text/plain": [
       "                               target              state_var   dataset  \\\n",
       "421  output__organ_roots__N_exudation       state__sum_respi   NEMA_H3   \n",
       "208          output__axes__C_exudated              state__gs   NEMA_H0   \n",
       "89                     input_humidity  state__Photosynthesis   NEMA_H3   \n",
       "381     output__axes__sum_respi_shoot            state__PARa   NEMA_H3   \n",
       "212          output__axes__C_exudated              state__Ag   NEMA_H0   \n",
       "348     output__axes__sum_respi_shoot              state__Ts   NEMA_H0   \n",
       "115                        input_PARi              state__gs  combined   \n",
       "266     output__axes__SAM_temperature              state__Tr  NEMA_H15   \n",
       "341     output__axes__sum_respi_shoot   state__Transpiration   NEMA_H3   \n",
       "309           output__axes__delta_teq              state__Ag   NEMA_H3   \n",
       "\n",
       "     test_score  train_mean  train_std   cv_mean    cv_std  \n",
       "421   -0.199992   -0.117836   0.012084 -0.226898  0.073079  \n",
       "208   -0.442742   -0.420083   0.029570 -0.473613  0.054519  \n",
       "89    -0.608611   -0.604624   0.100007 -1.031751  0.319949  \n",
       "381   -1.096394   -0.927982   0.045092 -1.094052  0.095030  \n",
       "212   -0.426593   -0.523349   0.025387 -0.557789  0.040780  \n",
       "348   -1.398232   -0.297419   0.027591 -0.424407  0.049004  \n",
       "115   -0.170378   -0.163310   0.013024 -0.224446  0.059889  \n",
       "266   -0.248585   -0.131018   0.011436 -0.267087  0.062409  \n",
       "341   -1.066146   -0.846099   0.061092 -1.013421  0.108423  \n",
       "309   -0.672693   -0.514685   0.017826 -0.656568  0.049494  "
      ]
     },
     "execution_count": 12,
     "metadata": {},
     "output_type": "execute_result"
    }
   ],
   "source": [
    "results_df = pd.DataFrame.from_dict(results)\n",
    "results_df.set_index(['target', 'state_var', 'dataset'])\n",
    "results_df.to_csv(f'test_results_sub24.csv')\n",
    "results_df.sample(10)"
   ]
  }
 ],
 "metadata": {
  "interpreter": {
   "hash": "4121734fd62df77af0346899b5494e4291ab6203437ffd47de4eeaba662aa73c"
  },
  "kernelspec": {
   "display_name": "Python 3.9.7 ('rc-plants')",
   "language": "python",
   "name": "python3"
  },
  "language_info": {
   "codemirror_mode": {
    "name": "ipython",
    "version": 3
   },
   "file_extension": ".py",
   "mimetype": "text/x-python",
   "name": "python",
   "nbconvert_exporter": "python",
   "pygments_lexer": "ipython3",
   "version": "3.9.7"
  },
  "orig_nbformat": 4
 },
 "nbformat": 4,
 "nbformat_minor": 2
}
